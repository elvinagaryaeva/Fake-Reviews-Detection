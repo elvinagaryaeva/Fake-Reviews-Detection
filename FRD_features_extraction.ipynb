{
  "cells": [
    {
      "cell_type": "code",
      "execution_count": null,
      "metadata": {
        "id": "SLXQioQ7gfJB"
      },
      "outputs": [],
      "source": [
        "import numpy as np\n",
        "import pandas as pd"
      ]
    },
    {
      "cell_type": "code",
      "source": [
        "import seaborn as sn\n",
        "import matplotlib.pyplot as plt"
      ],
      "metadata": {
        "id": "81Y_t1AAYhJu"
      },
      "execution_count": null,
      "outputs": []
    },
    {
      "cell_type": "code",
      "execution_count": null,
      "metadata": {
        "id": "lWwO9hqwgfJG"
      },
      "outputs": [],
      "source": [
        "import nltk\n",
        "from nltk.corpus import stopwords\n",
        "from nltk.tokenize import word_tokenize\n",
        "import re\n",
        "from gensim.models import doc2vec\n",
        "from gensim.models.doc2vec import Doc2Vec, TaggedDocument"
      ]
    },
    {
      "cell_type": "code",
      "execution_count": null,
      "metadata": {
        "colab": {
          "base_uri": "https://localhost:8080/"
        },
        "id": "A3nJNqbygfJI",
        "outputId": "d887cc92-7e32-4ef4-cdb0-949041834439"
      },
      "outputs": [
        {
          "output_type": "stream",
          "name": "stderr",
          "text": [
            "[nltk_data] Downloading package stopwords to /root/nltk_data...\n",
            "[nltk_data]   Package stopwords is already up-to-date!\n",
            "[nltk_data] Downloading package punkt to /root/nltk_data...\n",
            "[nltk_data]   Package punkt is already up-to-date!\n"
          ]
        },
        {
          "output_type": "execute_result",
          "data": {
            "text/plain": [
              "True"
            ]
          },
          "metadata": {},
          "execution_count": 4
        }
      ],
      "source": [
        "nltk.download('stopwords')\n",
        "nltk.download('punkt')"
      ]
    },
    {
      "cell_type": "code",
      "source": [
        "import spacy"
      ],
      "metadata": {
        "id": "6vkei1y7_MJf"
      },
      "execution_count": null,
      "outputs": []
    },
    {
      "cell_type": "code",
      "source": [
        "from tqdm import tqdm\n",
        "import random"
      ],
      "metadata": {
        "id": "dYm2OyjDZXAO"
      },
      "execution_count": null,
      "outputs": []
    },
    {
      "cell_type": "code",
      "source": [
        "import locale\n",
        "locale.getpreferredencoding = lambda: \"UTF-8\""
      ],
      "metadata": {
        "id": "62gPJix3bP5J"
      },
      "execution_count": null,
      "outputs": []
    },
    {
      "cell_type": "code",
      "source": [
        "!pip install contextualSpellCheck"
      ],
      "metadata": {
        "id": "NhD1IBzwor8p"
      },
      "execution_count": null,
      "outputs": []
    },
    {
      "cell_type": "code",
      "source": [
        "import contextualSpellCheck"
      ],
      "metadata": {
        "id": "EKTyX3m9_nn5"
      },
      "execution_count": null,
      "outputs": []
    },
    {
      "cell_type": "code",
      "source": [
        "!pip install autocorrect"
      ],
      "metadata": {
        "id": "AzgrinezI2cK"
      },
      "execution_count": null,
      "outputs": []
    },
    {
      "cell_type": "code",
      "source": [
        "from autocorrect import Speller"
      ],
      "metadata": {
        "id": "a-jy_Q4X8y8M"
      },
      "execution_count": null,
      "outputs": []
    },
    {
      "cell_type": "code",
      "source": [
        "from spacy.matcher import Matcher"
      ],
      "metadata": {
        "id": "eHpOXhkzRiJ9"
      },
      "execution_count": null,
      "outputs": []
    },
    {
      "cell_type": "code",
      "source": [
        "from google.colab import drive\n",
        "drive.mount('/content/drive')"
      ],
      "metadata": {
        "id": "4sVBiJMuu85h",
        "colab": {
          "base_uri": "https://localhost:8080/"
        },
        "outputId": "86e92864-6456-4f44-b49c-36fbaa0cd35a"
      },
      "execution_count": null,
      "outputs": [
        {
          "output_type": "stream",
          "name": "stdout",
          "text": [
            "Mounted at /content/drive\n"
          ]
        }
      ]
    },
    {
      "cell_type": "code",
      "source": [
        "df = pd.read_csv('/content/drive/MyDrive/Fake reviews detection/chi_hotel_dataset.csv')"
      ],
      "metadata": {
        "id": "ZAxPv1u9NoI5"
      },
      "execution_count": null,
      "outputs": []
    },
    {
      "cell_type": "code",
      "execution_count": null,
      "metadata": {
        "id": "odKO_IV8gfJN"
      },
      "outputs": [],
      "source": [
        "#df = pd.read_csv('restaurant_reviews_anonymized.csv', encoding='ISO-8859-1')"
      ]
    },
    {
      "cell_type": "code",
      "execution_count": null,
      "metadata": {
        "colab": {
          "base_uri": "https://localhost:8080/",
          "height": 206
        },
        "id": "iWT5a27fgfJN",
        "outputId": "4b1b1aac-06a9-40bf-9568-1c0bd7e9a831"
      },
      "outputs": [
        {
          "output_type": "execute_result",
          "data": {
            "text/plain": [
              "   Real                                             Review\n",
              "0     1  Let me begin by saying that there are two kind...\n",
              "1     1  The only place inside the Loop that you can st...\n",
              "2     1  I have walked by the Tokyo Hotel countless tim...\n",
              "3     1  If you are considering staying here, watch thi...\n",
              "4     1  This place is disgusting, absolutely horrible,..."
            ],
            "text/html": [
              "\n",
              "  <div id=\"df-81025011-5ab1-4b97-b787-cd52f7627dfa\">\n",
              "    <div class=\"colab-df-container\">\n",
              "      <div>\n",
              "<style scoped>\n",
              "    .dataframe tbody tr th:only-of-type {\n",
              "        vertical-align: middle;\n",
              "    }\n",
              "\n",
              "    .dataframe tbody tr th {\n",
              "        vertical-align: top;\n",
              "    }\n",
              "\n",
              "    .dataframe thead th {\n",
              "        text-align: right;\n",
              "    }\n",
              "</style>\n",
              "<table border=\"1\" class=\"dataframe\">\n",
              "  <thead>\n",
              "    <tr style=\"text-align: right;\">\n",
              "      <th></th>\n",
              "      <th>Real</th>\n",
              "      <th>Review</th>\n",
              "    </tr>\n",
              "  </thead>\n",
              "  <tbody>\n",
              "    <tr>\n",
              "      <th>0</th>\n",
              "      <td>1</td>\n",
              "      <td>Let me begin by saying that there are two kind...</td>\n",
              "    </tr>\n",
              "    <tr>\n",
              "      <th>1</th>\n",
              "      <td>1</td>\n",
              "      <td>The only place inside the Loop that you can st...</td>\n",
              "    </tr>\n",
              "    <tr>\n",
              "      <th>2</th>\n",
              "      <td>1</td>\n",
              "      <td>I have walked by the Tokyo Hotel countless tim...</td>\n",
              "    </tr>\n",
              "    <tr>\n",
              "      <th>3</th>\n",
              "      <td>1</td>\n",
              "      <td>If you are considering staying here, watch thi...</td>\n",
              "    </tr>\n",
              "    <tr>\n",
              "      <th>4</th>\n",
              "      <td>1</td>\n",
              "      <td>This place is disgusting, absolutely horrible,...</td>\n",
              "    </tr>\n",
              "  </tbody>\n",
              "</table>\n",
              "</div>\n",
              "      <button class=\"colab-df-convert\" onclick=\"convertToInteractive('df-81025011-5ab1-4b97-b787-cd52f7627dfa')\"\n",
              "              title=\"Convert this dataframe to an interactive table.\"\n",
              "              style=\"display:none;\">\n",
              "        \n",
              "  <svg xmlns=\"http://www.w3.org/2000/svg\" height=\"24px\"viewBox=\"0 0 24 24\"\n",
              "       width=\"24px\">\n",
              "    <path d=\"M0 0h24v24H0V0z\" fill=\"none\"/>\n",
              "    <path d=\"M18.56 5.44l.94 2.06.94-2.06 2.06-.94-2.06-.94-.94-2.06-.94 2.06-2.06.94zm-11 1L8.5 8.5l.94-2.06 2.06-.94-2.06-.94L8.5 2.5l-.94 2.06-2.06.94zm10 10l.94 2.06.94-2.06 2.06-.94-2.06-.94-.94-2.06-.94 2.06-2.06.94z\"/><path d=\"M17.41 7.96l-1.37-1.37c-.4-.4-.92-.59-1.43-.59-.52 0-1.04.2-1.43.59L10.3 9.45l-7.72 7.72c-.78.78-.78 2.05 0 2.83L4 21.41c.39.39.9.59 1.41.59.51 0 1.02-.2 1.41-.59l7.78-7.78 2.81-2.81c.8-.78.8-2.07 0-2.86zM5.41 20L4 18.59l7.72-7.72 1.47 1.35L5.41 20z\"/>\n",
              "  </svg>\n",
              "      </button>\n",
              "      \n",
              "  <style>\n",
              "    .colab-df-container {\n",
              "      display:flex;\n",
              "      flex-wrap:wrap;\n",
              "      gap: 12px;\n",
              "    }\n",
              "\n",
              "    .colab-df-convert {\n",
              "      background-color: #E8F0FE;\n",
              "      border: none;\n",
              "      border-radius: 50%;\n",
              "      cursor: pointer;\n",
              "      display: none;\n",
              "      fill: #1967D2;\n",
              "      height: 32px;\n",
              "      padding: 0 0 0 0;\n",
              "      width: 32px;\n",
              "    }\n",
              "\n",
              "    .colab-df-convert:hover {\n",
              "      background-color: #E2EBFA;\n",
              "      box-shadow: 0px 1px 2px rgba(60, 64, 67, 0.3), 0px 1px 3px 1px rgba(60, 64, 67, 0.15);\n",
              "      fill: #174EA6;\n",
              "    }\n",
              "\n",
              "    [theme=dark] .colab-df-convert {\n",
              "      background-color: #3B4455;\n",
              "      fill: #D2E3FC;\n",
              "    }\n",
              "\n",
              "    [theme=dark] .colab-df-convert:hover {\n",
              "      background-color: #434B5C;\n",
              "      box-shadow: 0px 1px 3px 1px rgba(0, 0, 0, 0.15);\n",
              "      filter: drop-shadow(0px 1px 2px rgba(0, 0, 0, 0.3));\n",
              "      fill: #FFFFFF;\n",
              "    }\n",
              "  </style>\n",
              "\n",
              "      <script>\n",
              "        const buttonEl =\n",
              "          document.querySelector('#df-81025011-5ab1-4b97-b787-cd52f7627dfa button.colab-df-convert');\n",
              "        buttonEl.style.display =\n",
              "          google.colab.kernel.accessAllowed ? 'block' : 'none';\n",
              "\n",
              "        async function convertToInteractive(key) {\n",
              "          const element = document.querySelector('#df-81025011-5ab1-4b97-b787-cd52f7627dfa');\n",
              "          const dataTable =\n",
              "            await google.colab.kernel.invokeFunction('convertToInteractive',\n",
              "                                                     [key], {});\n",
              "          if (!dataTable) return;\n",
              "\n",
              "          const docLinkHtml = 'Like what you see? Visit the ' +\n",
              "            '<a target=\"_blank\" href=https://colab.research.google.com/notebooks/data_table.ipynb>data table notebook</a>'\n",
              "            + ' to learn more about interactive tables.';\n",
              "          element.innerHTML = '';\n",
              "          dataTable['output_type'] = 'display_data';\n",
              "          await google.colab.output.renderOutput(dataTable, element);\n",
              "          const docLink = document.createElement('div');\n",
              "          docLink.innerHTML = docLinkHtml;\n",
              "          element.appendChild(docLink);\n",
              "        }\n",
              "      </script>\n",
              "    </div>\n",
              "  </div>\n",
              "  "
            ]
          },
          "metadata": {},
          "execution_count": 20
        }
      ],
      "source": [
        "df.head()"
      ]
    },
    {
      "cell_type": "code",
      "execution_count": null,
      "metadata": {
        "id": "8XrfEbJqgfJT"
      },
      "outputs": [],
      "source": [
        "#df.rename(columns = {'Reviews':'Review'}, inplace = True)"
      ]
    },
    {
      "cell_type": "code",
      "source": [],
      "metadata": {
        "id": "PolPKMOiTEl9"
      },
      "execution_count": null,
      "outputs": []
    },
    {
      "cell_type": "code",
      "source": [
        "df.info()"
      ],
      "metadata": {
        "colab": {
          "base_uri": "https://localhost:8080/"
        },
        "id": "X66mbbs3VFJf",
        "outputId": "bb65aea7-32b5-4172-c703-43e475637f56"
      },
      "execution_count": null,
      "outputs": [
        {
          "output_type": "stream",
          "name": "stdout",
          "text": [
            "<class 'pandas.core.frame.DataFrame'>\n",
            "RangeIndex: 5854 entries, 0 to 5853\n",
            "Data columns (total 2 columns):\n",
            " #   Column  Non-Null Count  Dtype \n",
            "---  ------  --------------  ----- \n",
            " 0   Real    5854 non-null   int64 \n",
            " 1   Review  5854 non-null   object\n",
            "dtypes: int64(1), object(1)\n",
            "memory usage: 91.6+ KB\n"
          ]
        }
      ]
    },
    {
      "cell_type": "code",
      "source": [
        "#df = df[~df['Review'].isnull()]"
      ],
      "metadata": {
        "id": "0jaHa061VgDD"
      },
      "execution_count": null,
      "outputs": []
    },
    {
      "cell_type": "code",
      "source": [
        "#df.reset_index(inplace=True)"
      ],
      "metadata": {
        "id": "iwfs8ZKudy4H"
      },
      "execution_count": null,
      "outputs": []
    },
    {
      "cell_type": "markdown",
      "source": [
        "## Feature extraction"
      ],
      "metadata": {
        "id": "T7qlmiuS_TMm"
      }
    },
    {
      "cell_type": "code",
      "source": [
        "nlp = spacy.load(\"en_core_web_sm\")"
      ],
      "metadata": {
        "id": "Z4oLiZ92CBqQ"
      },
      "execution_count": null,
      "outputs": []
    },
    {
      "cell_type": "code",
      "source": [
        "spell = Speller(lang='en')"
      ],
      "metadata": {
        "id": "0Q5s2gSoyrYn"
      },
      "execution_count": null,
      "outputs": []
    },
    {
      "cell_type": "code",
      "source": [
        "avg_word_length = []\n",
        "pausality = []\n",
        "avg_np = []\n",
        "avg_sent_length = []\n",
        "num_clauses = []\n",
        "num_words = []\n",
        "num_verbs = []\n",
        "num_adj = []\n",
        "num_pv = []\n",
        "emotiveness = []\n",
        "content_div = []\n",
        "redundancy = []\n",
        "lexical_div = []\n",
        "num_mv = []\n",
        "num_typos = []"
      ],
      "metadata": {
        "id": "2xz2BIOzIOkE"
      },
      "execution_count": null,
      "outputs": []
    },
    {
      "cell_type": "code",
      "source": [
        "for i in tqdm(range(len(df))):\n",
        "    doc = nlp(df['Review'][i].replace('\\r', ''))\n",
        "    n_adj = 0\n",
        "    n_verbs = 0\n",
        "    n_nouns = 0\n",
        "    n_adv = 0\n",
        "    n_passive = 0\n",
        "    n_mv = 0\n",
        "    n_cl = 0\n",
        "    n_punc = 0\n",
        "    redun = 0\n",
        "    n_typos = 0\n",
        "\n",
        "    for token in doc:\n",
        "        if token.pos_ == 'ADJ':\n",
        "            n_adj += 1\n",
        "        elif token.pos_ == 'VERB':\n",
        "            n_verbs += 1\n",
        "        elif token.pos_ == 'NOUN':\n",
        "            n_nouns += 1\n",
        "        elif token.pos_ == 'ADV':\n",
        "            n_adv += 1\n",
        "        if token.dep_ == 'aux' and token.tag_ == 'MD':\n",
        "            #print(token)\n",
        "            n_mv += 1\n",
        "        if token.dep_ == 'nsubjpass':\n",
        "            #print(token)\n",
        "            n_passive += 1\n",
        "        elif token.dep_ == 'ROOT':\n",
        "            #print(token)\n",
        "            n_cl += 1\n",
        "        if token.is_punct == True:\n",
        "            n_punc += 1\n",
        "\n",
        "    words = [token.text.lower() for token in doc if token.is_punct == False]\n",
        "    len_words = 0\n",
        "\n",
        "    filtered = []\n",
        "\n",
        "    for word in words:\n",
        "        len_words += len(word)\n",
        "        if spell(word) != word:\n",
        "            n_typos += 1\n",
        "        if not word in stop_words:\n",
        "            filtered.append(word)\n",
        "\n",
        "    if len(words) != 0:\n",
        "        avg_wl = len_words/len(words)\n",
        "    else:\n",
        "        avg_wl = 0\n",
        "\n",
        "    if len(list(doc.sents)) != 0:\n",
        "        avg_sl = len(doc)/len(list(doc.sents)) \n",
        "    else:\n",
        "        avg_sl = 0\n",
        "\n",
        "    if n_nouns + n_verbs != 0:\n",
        "        emo = (n_adj + n_adv)/(n_nouns + n_verbs)\n",
        "    else:\n",
        "        emo = 0  \n",
        "\n",
        "    if len(words) != 0:\n",
        "        lxd = len(set(words))/len(words)\n",
        "    else:\n",
        "        lxd = 0\n",
        "\n",
        "    if len(words) != 0:\n",
        "        cdv = len(set(filtered))/len(words)\n",
        "    else:\n",
        "        cdv = 0   \n",
        "\n",
        "    len_chunk = 0\n",
        "    for chunk in doc.noun_chunks:\n",
        "        len_chunk += len(chunk)\n",
        "\n",
        "    ll = len([chunk.text for chunk in doc.noun_chunks])    \n",
        "    if ll != 0:\n",
        "        anp = len_chunk/ll\n",
        "    else:\n",
        "        anp = 0\n",
        "\n",
        "    if len(list(doc.sents)) != 0:\n",
        "        redun = (len(words) - len(filtered))/len(list(doc.sents))\n",
        "    else:\n",
        "        redun = 0\n",
        "\n",
        "\n",
        "    avg_word_length.append(avg_wl)\n",
        "    pausality.append(n_punc/len(list(doc.sents)))\n",
        "    avg_np.append(anp)\n",
        "    avg_sent_length.append(avg_sl)\n",
        "    num_clauses.append(n_cl)\n",
        "    num_words.append(len(words))\n",
        "    num_verbs.append(n_verbs)\n",
        "    num_adj.append(n_adj)\n",
        "    num_pv.append(n_passive)\n",
        "    emotiveness.append(emo)\n",
        "    content_div.append(cdv)\n",
        "    redundancy.append(redun)\n",
        "    lexical_div.append(lxd)\n",
        "    num_mv.append(n_mv)\n",
        "    num_typos.append(n_typos)\n"
      ],
      "metadata": {
        "id": "5GfEa4ndG-LF",
        "colab": {
          "base_uri": "https://localhost:8080/"
        },
        "outputId": "c1efad47-8f7e-449d-97f7-617ecaa1f5de"
      },
      "execution_count": null,
      "outputs": [
        {
          "output_type": "stream",
          "name": "stderr",
          "text": [
            "100%|██████████| 5854/5854 [20:04<00:00,  4.86it/s]\n"
          ]
        }
      ]
    },
    {
      "cell_type": "code",
      "source": [
        "# print('Av WL:', avg_wl,'\\nPausality:', pausality, '\\naverage NP:', anp,'\\nSL:', avg_sl,'\\nCl:', n_cl,'\\nWords:', len(words), '\\nVerbs:', n_verbs,\n",
        "#       '\\nAdj:', n_adj,'\\nPassive:', n_passive, '\\nEmo:', emo,'\\nCDV:', cdv,'\\nRedun:', redun, '\\nLXD:', lxd, '\\nMV:',n_mv, '\\nTypos:', n_typos)"
      ],
      "metadata": {
        "id": "FN3g-kr-rm81"
      },
      "execution_count": null,
      "outputs": []
    },
    {
      "cell_type": "code",
      "source": [
        "columns = ['Average word length', 'Pausality', 'Average NP length', 'Average sentence length', 'Number of clauses', 'Number of words', 'Number of verbs', \n",
        "           'Number of adjectives', 'Number of passive voice', 'Emotiveness', 'Content diversity', 'Redundancy', 'Lexical diversity', 'Number of modal verbs', 'Number of typos']"
      ],
      "metadata": {
        "id": "KZrEnhKQOGk1"
      },
      "execution_count": null,
      "outputs": []
    },
    {
      "cell_type": "code",
      "source": [
        "df_features = pd.DataFrame(list(zip(avg_word_length, pausality, avg_np, avg_sent_length, num_clauses, num_words, num_verbs, \n",
        "                                   num_adj, num_pv, emotiveness, content_div, redundancy, lexical_div, num_mv, num_typos)), columns = columns)"
      ],
      "metadata": {
        "id": "-OnNNs6SMim0"
      },
      "execution_count": null,
      "outputs": []
    },
    {
      "cell_type": "code",
      "source": [
        "df_features.to_csv('chi_hotel_features.csv', index=False)"
      ],
      "metadata": {
        "id": "Gg87jT3sZqSx"
      },
      "execution_count": null,
      "outputs": []
    }
  ],
  "metadata": {
    "kernelspec": {
      "display_name": "Python 3",
      "name": "python3"
    },
    "language_info": {
      "codemirror_mode": {
        "name": "ipython",
        "version": 3
      },
      "file_extension": ".py",
      "mimetype": "text/x-python",
      "name": "python",
      "nbconvert_exporter": "python",
      "pygments_lexer": "ipython3",
      "version": "3.8.5"
    },
    "colab": {
      "provenance": [],
      "gpuType": "T4"
    },
    "accelerator": "GPU"
  },
  "nbformat": 4,
  "nbformat_minor": 0
}