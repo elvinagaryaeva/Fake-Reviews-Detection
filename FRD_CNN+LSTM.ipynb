{
  "cells": [
    {
      "cell_type": "code",
      "execution_count": null,
      "metadata": {
        "id": "SLXQioQ7gfJB"
      },
      "outputs": [],
      "source": [
        "import numpy as np\n",
        "import pandas as pd"
      ]
    },
    {
      "cell_type": "code",
      "execution_count": null,
      "metadata": {
        "id": "81Y_t1AAYhJu"
      },
      "outputs": [],
      "source": [
        "import seaborn as sn\n",
        "import matplotlib.pyplot as plt"
      ]
    },
    {
      "cell_type": "code",
      "execution_count": null,
      "metadata": {
        "id": "lWwO9hqwgfJG"
      },
      "outputs": [],
      "source": [
        "import nltk\n",
        "from nltk.corpus import stopwords\n",
        "from nltk.tokenize import word_tokenize\n",
        "import re\n",
        "from gensim.models import doc2vec\n",
        "from gensim.models.doc2vec import Doc2Vec, TaggedDocument"
      ]
    },
    {
      "cell_type": "code",
      "execution_count": null,
      "metadata": {
        "colab": {
          "base_uri": "https://localhost:8080/"
        },
        "id": "A3nJNqbygfJI",
        "outputId": "43273496-68b4-4e12-bf3b-e2825780e19b"
      },
      "outputs": [
        {
          "name": "stderr",
          "output_type": "stream",
          "text": [
            "[nltk_data] Downloading package stopwords to /root/nltk_data...\n",
            "[nltk_data]   Package stopwords is already up-to-date!\n",
            "[nltk_data] Downloading package punkt to /root/nltk_data...\n",
            "[nltk_data]   Package punkt is already up-to-date!\n"
          ]
        },
        {
          "data": {
            "text/plain": [
              "True"
            ]
          },
          "execution_count": 57,
          "metadata": {},
          "output_type": "execute_result"
        }
      ],
      "source": [
        "nltk.download('stopwords')\n",
        "nltk.download('punkt')"
      ]
    },
    {
      "cell_type": "code",
      "execution_count": null,
      "metadata": {
        "id": "K2zi1PiJqZNH"
      },
      "outputs": [],
      "source": [
        "from sklearn.model_selection import train_test_split, cross_val_score"
      ]
    },
    {
      "cell_type": "code",
      "execution_count": null,
      "metadata": {
        "id": "qKimRNzarfsX"
      },
      "outputs": [],
      "source": [
        "from sklearn.ensemble import RandomForestClassifier\n",
        "from sklearn.tree import DecisionTreeClassifier\n",
        "from sklearn.svm import SVC\n",
        "from xgboost import XGBClassifier\n",
        "from sklearn.neural_network import MLPClassifier"
      ]
    },
    {
      "cell_type": "code",
      "execution_count": null,
      "metadata": {
        "id": "UrTsJHr4sFHU"
      },
      "outputs": [],
      "source": [
        "from sklearn.metrics import accuracy_score, f1_score\n",
        "from sklearn.feature_selection import RFECV\n",
        "from sklearn.pipeline import Pipeline\n",
        "from sklearn.model_selection import StratifiedKFold, cross_val_score\n",
        "from sklearn import preprocessing"
      ]
    },
    {
      "cell_type": "code",
      "execution_count": null,
      "metadata": {
        "id": "Fy1lUt1b1S8d"
      },
      "outputs": [],
      "source": [
        "from keras.models import Model, Sequential\n",
        "from keras.layers import Conv1D, MaxPooling1D, LSTM, Activation, Dense, Dropout, Input, Embedding, Bidirectional\n",
        "from keras.optimizers import Adam\n",
        "from keras.losses import BinaryCrossentropy\n",
        "from keras.preprocessing.text import Tokenizer\n",
        "from keras.preprocessing import sequence\n",
        "from keras.utils import plot_model"
      ]
    },
    {
      "cell_type": "code",
      "execution_count": null,
      "metadata": {
        "id": "6vkei1y7_MJf"
      },
      "outputs": [],
      "source": [
        "import spacy"
      ]
    },
    {
      "cell_type": "code",
      "execution_count": null,
      "metadata": {
        "id": "dYm2OyjDZXAO"
      },
      "outputs": [],
      "source": [
        "from tqdm import tqdm\n",
        "import random"
      ]
    },
    {
      "cell_type": "code",
      "execution_count": null,
      "metadata": {
        "id": "62gPJix3bP5J"
      },
      "outputs": [],
      "source": [
        "import locale\n",
        "locale.getpreferredencoding = lambda: \"UTF-8\""
      ]
    },
    {
      "cell_type": "code",
      "execution_count": null,
      "metadata": {
        "id": "NhD1IBzwor8p"
      },
      "outputs": [],
      "source": [
        "#!pip install contextualSpellCheck"
      ]
    },
    {
      "cell_type": "code",
      "execution_count": null,
      "metadata": {
        "id": "EKTyX3m9_nn5"
      },
      "outputs": [],
      "source": [
        "import contextualSpellCheck"
      ]
    },
    {
      "cell_type": "code",
      "execution_count": null,
      "metadata": {
        "id": "AzgrinezI2cK"
      },
      "outputs": [],
      "source": [
        "#!pip install autocorrect"
      ]
    },
    {
      "cell_type": "code",
      "execution_count": null,
      "metadata": {
        "id": "a-jy_Q4X8y8M"
      },
      "outputs": [],
      "source": [
        "from autocorrect import Speller"
      ]
    },
    {
      "cell_type": "code",
      "execution_count": null,
      "metadata": {
        "id": "eHpOXhkzRiJ9"
      },
      "outputs": [],
      "source": [
        "from spacy.matcher import Matcher"
      ]
    },
    {
      "cell_type": "code",
      "execution_count": null,
      "metadata": {
        "id": "u0qZnB8ncZiR"
      },
      "outputs": [],
      "source": [
        "from hyperopt import hp, fmin, tpe, STATUS_OK, Trials, anneal"
      ]
    },
    {
      "cell_type": "code",
      "execution_count": null,
      "metadata": {
        "colab": {
          "base_uri": "https://localhost:8080/"
        },
        "id": "4sVBiJMuu85h",
        "outputId": "2fbd871e-b18e-4df6-89f0-7a09764dc7ee"
      },
      "outputs": [
        {
          "name": "stdout",
          "output_type": "stream",
          "text": [
            "Drive already mounted at /content/drive; to attempt to forcibly remount, call drive.mount(\"/content/drive\", force_remount=True).\n"
          ]
        }
      ],
      "source": [
        "from google.colab import drive\n",
        "drive.mount('/content/drive')"
      ]
    },
    {
      "cell_type": "code",
      "execution_count": null,
      "metadata": {
        "id": "ZAxPv1u9NoI5"
      },
      "outputs": [],
      "source": [
        "df = pd.read_csv('/content/drive/MyDrive/Fake reviews detection/chi_hotel_dataset.csv')"
      ]
    },
    {
      "cell_type": "code",
      "execution_count": null,
      "metadata": {
        "id": "odKO_IV8gfJN"
      },
      "outputs": [],
      "source": [
        "#df = pd.read_csv('restaurant_reviews_anonymized.csv', encoding='ISO-8859-1')"
      ]
    },
    {
      "cell_type": "code",
      "execution_count": null,
      "metadata": {
        "colab": {
          "base_uri": "https://localhost:8080/",
          "height": 206
        },
        "id": "iWT5a27fgfJN",
        "outputId": "38678368-7a91-4a1a-b165-907963174852"
      },
      "outputs": [
        {
          "data": {
            "text/html": [
              "\n",
              "  <div id=\"df-fe3f0296-420c-4e37-812e-81f976ec2810\">\n",
              "    <div class=\"colab-df-container\">\n",
              "      <div>\n",
              "<style scoped>\n",
              "    .dataframe tbody tr th:only-of-type {\n",
              "        vertical-align: middle;\n",
              "    }\n",
              "\n",
              "    .dataframe tbody tr th {\n",
              "        vertical-align: top;\n",
              "    }\n",
              "\n",
              "    .dataframe thead th {\n",
              "        text-align: right;\n",
              "    }\n",
              "</style>\n",
              "<table border=\"1\" class=\"dataframe\">\n",
              "  <thead>\n",
              "    <tr style=\"text-align: right;\">\n",
              "      <th></th>\n",
              "      <th>Real</th>\n",
              "      <th>Review</th>\n",
              "    </tr>\n",
              "  </thead>\n",
              "  <tbody>\n",
              "    <tr>\n",
              "      <th>0</th>\n",
              "      <td>1</td>\n",
              "      <td>Let me begin by saying that there are two kind...</td>\n",
              "    </tr>\n",
              "    <tr>\n",
              "      <th>1</th>\n",
              "      <td>1</td>\n",
              "      <td>The only place inside the Loop that you can st...</td>\n",
              "    </tr>\n",
              "    <tr>\n",
              "      <th>2</th>\n",
              "      <td>1</td>\n",
              "      <td>I have walked by the Tokyo Hotel countless tim...</td>\n",
              "    </tr>\n",
              "    <tr>\n",
              "      <th>3</th>\n",
              "      <td>1</td>\n",
              "      <td>If you are considering staying here, watch thi...</td>\n",
              "    </tr>\n",
              "    <tr>\n",
              "      <th>4</th>\n",
              "      <td>1</td>\n",
              "      <td>This place is disgusting, absolutely horrible,...</td>\n",
              "    </tr>\n",
              "  </tbody>\n",
              "</table>\n",
              "</div>\n",
              "      <button class=\"colab-df-convert\" onclick=\"convertToInteractive('df-fe3f0296-420c-4e37-812e-81f976ec2810')\"\n",
              "              title=\"Convert this dataframe to an interactive table.\"\n",
              "              style=\"display:none;\">\n",
              "        \n",
              "  <svg xmlns=\"http://www.w3.org/2000/svg\" height=\"24px\"viewBox=\"0 0 24 24\"\n",
              "       width=\"24px\">\n",
              "    <path d=\"M0 0h24v24H0V0z\" fill=\"none\"/>\n",
              "    <path d=\"M18.56 5.44l.94 2.06.94-2.06 2.06-.94-2.06-.94-.94-2.06-.94 2.06-2.06.94zm-11 1L8.5 8.5l.94-2.06 2.06-.94-2.06-.94L8.5 2.5l-.94 2.06-2.06.94zm10 10l.94 2.06.94-2.06 2.06-.94-2.06-.94-.94-2.06-.94 2.06-2.06.94z\"/><path d=\"M17.41 7.96l-1.37-1.37c-.4-.4-.92-.59-1.43-.59-.52 0-1.04.2-1.43.59L10.3 9.45l-7.72 7.72c-.78.78-.78 2.05 0 2.83L4 21.41c.39.39.9.59 1.41.59.51 0 1.02-.2 1.41-.59l7.78-7.78 2.81-2.81c.8-.78.8-2.07 0-2.86zM5.41 20L4 18.59l7.72-7.72 1.47 1.35L5.41 20z\"/>\n",
              "  </svg>\n",
              "      </button>\n",
              "      \n",
              "  <style>\n",
              "    .colab-df-container {\n",
              "      display:flex;\n",
              "      flex-wrap:wrap;\n",
              "      gap: 12px;\n",
              "    }\n",
              "\n",
              "    .colab-df-convert {\n",
              "      background-color: #E8F0FE;\n",
              "      border: none;\n",
              "      border-radius: 50%;\n",
              "      cursor: pointer;\n",
              "      display: none;\n",
              "      fill: #1967D2;\n",
              "      height: 32px;\n",
              "      padding: 0 0 0 0;\n",
              "      width: 32px;\n",
              "    }\n",
              "\n",
              "    .colab-df-convert:hover {\n",
              "      background-color: #E2EBFA;\n",
              "      box-shadow: 0px 1px 2px rgba(60, 64, 67, 0.3), 0px 1px 3px 1px rgba(60, 64, 67, 0.15);\n",
              "      fill: #174EA6;\n",
              "    }\n",
              "\n",
              "    [theme=dark] .colab-df-convert {\n",
              "      background-color: #3B4455;\n",
              "      fill: #D2E3FC;\n",
              "    }\n",
              "\n",
              "    [theme=dark] .colab-df-convert:hover {\n",
              "      background-color: #434B5C;\n",
              "      box-shadow: 0px 1px 3px 1px rgba(0, 0, 0, 0.15);\n",
              "      filter: drop-shadow(0px 1px 2px rgba(0, 0, 0, 0.3));\n",
              "      fill: #FFFFFF;\n",
              "    }\n",
              "  </style>\n",
              "\n",
              "      <script>\n",
              "        const buttonEl =\n",
              "          document.querySelector('#df-fe3f0296-420c-4e37-812e-81f976ec2810 button.colab-df-convert');\n",
              "        buttonEl.style.display =\n",
              "          google.colab.kernel.accessAllowed ? 'block' : 'none';\n",
              "\n",
              "        async function convertToInteractive(key) {\n",
              "          const element = document.querySelector('#df-fe3f0296-420c-4e37-812e-81f976ec2810');\n",
              "          const dataTable =\n",
              "            await google.colab.kernel.invokeFunction('convertToInteractive',\n",
              "                                                     [key], {});\n",
              "          if (!dataTable) return;\n",
              "\n",
              "          const docLinkHtml = 'Like what you see? Visit the ' +\n",
              "            '<a target=\"_blank\" href=https://colab.research.google.com/notebooks/data_table.ipynb>data table notebook</a>'\n",
              "            + ' to learn more about interactive tables.';\n",
              "          element.innerHTML = '';\n",
              "          dataTable['output_type'] = 'display_data';\n",
              "          await google.colab.output.renderOutput(dataTable, element);\n",
              "          const docLink = document.createElement('div');\n",
              "          docLink.innerHTML = docLinkHtml;\n",
              "          element.appendChild(docLink);\n",
              "        }\n",
              "      </script>\n",
              "    </div>\n",
              "  </div>\n",
              "  "
            ],
            "text/plain": [
              "   Real                                             Review\n",
              "0     1  Let me begin by saying that there are two kind...\n",
              "1     1  The only place inside the Loop that you can st...\n",
              "2     1  I have walked by the Tokyo Hotel countless tim...\n",
              "3     1  If you are considering staying here, watch thi...\n",
              "4     1  This place is disgusting, absolutely horrible,..."
            ]
          },
          "execution_count": 74,
          "metadata": {},
          "output_type": "execute_result"
        }
      ],
      "source": [
        "df.head()"
      ]
    },
    {
      "cell_type": "code",
      "execution_count": null,
      "metadata": {
        "id": "8XrfEbJqgfJT"
      },
      "outputs": [],
      "source": [
        "#df.rename(columns = {'Reviews':'Review'}, inplace = True)"
      ]
    },
    {
      "cell_type": "code",
      "execution_count": null,
      "metadata": {
        "id": "PolPKMOiTEl9"
      },
      "outputs": [],
      "source": []
    },
    {
      "cell_type": "code",
      "execution_count": null,
      "metadata": {
        "colab": {
          "base_uri": "https://localhost:8080/"
        },
        "id": "X66mbbs3VFJf",
        "outputId": "84d2fd1c-d917-43d4-9d8f-12e4b3895aee"
      },
      "outputs": [
        {
          "name": "stdout",
          "output_type": "stream",
          "text": [
            "<class 'pandas.core.frame.DataFrame'>\n",
            "RangeIndex: 5854 entries, 0 to 5853\n",
            "Data columns (total 2 columns):\n",
            " #   Column  Non-Null Count  Dtype \n",
            "---  ------  --------------  ----- \n",
            " 0   Real    5854 non-null   int64 \n",
            " 1   Review  5854 non-null   object\n",
            "dtypes: int64(1), object(1)\n",
            "memory usage: 91.6+ KB\n"
          ]
        }
      ],
      "source": [
        "df.info()"
      ]
    },
    {
      "cell_type": "code",
      "execution_count": null,
      "metadata": {
        "id": "0jaHa061VgDD"
      },
      "outputs": [],
      "source": [
        "#df = df[~df['Review'].isnull()]"
      ]
    },
    {
      "cell_type": "code",
      "execution_count": null,
      "metadata": {
        "id": "iwfs8ZKudy4H"
      },
      "outputs": [],
      "source": [
        "#df.reset_index(inplace=True)"
      ]
    },
    {
      "cell_type": "markdown",
      "metadata": {
        "id": "FzKiwlxygfJT"
      },
      "source": [
        "## Data preprocessing"
      ]
    },
    {
      "cell_type": "code",
      "execution_count": null,
      "metadata": {
        "id": "YilieeSwgfJa"
      },
      "outputs": [],
      "source": [
        "new_data = []"
      ]
    },
    {
      "cell_type": "code",
      "execution_count": null,
      "metadata": {
        "id": "iXRwBHOdgfJb"
      },
      "outputs": [],
      "source": [
        "stop_words = set(stopwords.words('english'))"
      ]
    },
    {
      "cell_type": "code",
      "execution_count": null,
      "metadata": {
        "id": "S8V9eYMwgfJc"
      },
      "outputs": [],
      "source": [
        "for line in df['Review']:\n",
        "    a = re.sub('[^a-zA-Z]', ' ', line).lower()\n",
        "    word_tokens = word_tokenize(a)\n",
        "    filtered = [w for w in word_tokens if not w in stop_words]\n",
        "    new_data.append(' '.join(filtered))"
      ]
    },
    {
      "cell_type": "code",
      "execution_count": null,
      "metadata": {
        "colab": {
          "base_uri": "https://localhost:8080/"
        },
        "id": "d2EfDEtugfJc",
        "outputId": "7af1dadc-4a27-4e26-c398-ce4eeff10c20"
      },
      "outputs": [
        {
          "data": {
            "text/plain": [
              "['let begin saying two kinds people give tokyo hotel stars rave everyone know people get past broken phone blood stains beeping fire alarms peg legged receptionist lack water pressure cracked walls strange smells questionable elevator televisions left die digital conversion possibility air conditioner may fall window moment said whole heartedly give tokyo hotel stars place quietly slip nothing show faint memory imitation thomas kinkade painting bolted wall bed continental breakfast coffee lobby vending machines pretty sure wont take change minted senses assaulted leave enough memories compete mile road trip beg anyone even mildly considering staying give chance location prime able walk michigan ave river walk middle night without straying far hotel grocery store block away parking may cost hotel room across street besides place cheap super cheap downtown chicago closest price found area four times expensive sure grab cash accept credit cards rules though say hello clifton jackson homeless guy jewel osco buy drink chicken look facebook stay floor way top go fire escape sure prop door open looong walk careful explore yes ladder hold weight careful alarmed weird noises hear spend night roof stories heart chicago write yelp review want see others getting tokyo hotel experience check noon sure drink lots water spend next day hung please careful roof',\n",
              " 'place inside loop stay night also place picnic dinner get little frisky th floor roof wake room next morning army ants going picnic leftovers',\n",
              " 'walked tokyo hotel countless times reminds type place peter parker lives spiderman movies sort place marla singer might live maybe carbon copy hotel zamenhof basically scuzzy sleazy fleabag love yesterday finally walked know maybe told roommates landlord signing another lease essentially leaving pre homeless maybe earlier day told boss quitting job end july leaving pre unemployed maybe time teetering living edge salvation brink self destruction finally choosing path hitting bottom giving shit maybe nick cage leaving las vegas elizabeth shue look walk gently good night choose stay city city love may stay hotel tokyo choose stay big going need stay somewhere cheap like minded vagabonds vagrants naredowells need help need guidance',\n",
              " 'considering staying watch first http www youtube com w',\n",
              " 'place disgusting absolutely horrible second stay strange stain side bed stay friends rendered air conditionless downtown chicago suppose']"
            ]
          },
          "execution_count": 82,
          "metadata": {},
          "output_type": "execute_result"
        }
      ],
      "source": [
        "new_data[:5]"
      ]
    },
    {
      "cell_type": "code",
      "execution_count": null,
      "metadata": {
        "id": "9Vhm8KVNglXP"
      },
      "outputs": [],
      "source": [
        "final_data = [x for x in new_data if x != '']"
      ]
    },
    {
      "cell_type": "code",
      "execution_count": null,
      "metadata": {
        "id": "JhDvsOcygfJf"
      },
      "outputs": [],
      "source": [
        "tagged_data = [TaggedDocument(words=word_tokenize(_d), tags=[str(i)]) for i, _d in enumerate(final_data)]"
      ]
    },
    {
      "cell_type": "code",
      "execution_count": null,
      "metadata": {
        "colab": {
          "base_uri": "https://localhost:8080/"
        },
        "id": "FKzc7rfrhcWO",
        "outputId": "a93c918d-20a4-4a2c-9aa1-bbe6806395e4"
      },
      "outputs": [
        {
          "data": {
            "text/plain": [
              "[TaggedDocument(words=['let', 'begin', 'saying', 'two', 'kinds', 'people', 'give', 'tokyo', 'hotel', 'stars', 'rave', 'everyone', 'know', 'people', 'get', 'past', 'broken', 'phone', 'blood', 'stains', 'beeping', 'fire', 'alarms', 'peg', 'legged', 'receptionist', 'lack', 'water', 'pressure', 'cracked', 'walls', 'strange', 'smells', 'questionable', 'elevator', 'televisions', 'left', 'die', 'digital', 'conversion', 'possibility', 'air', 'conditioner', 'may', 'fall', 'window', 'moment', 'said', 'whole', 'heartedly', 'give', 'tokyo', 'hotel', 'stars', 'place', 'quietly', 'slip', 'nothing', 'show', 'faint', 'memory', 'imitation', 'thomas', 'kinkade', 'painting', 'bolted', 'wall', 'bed', 'continental', 'breakfast', 'coffee', 'lobby', 'vending', 'machines', 'pretty', 'sure', 'wont', 'take', 'change', 'minted', 'senses', 'assaulted', 'leave', 'enough', 'memories', 'compete', 'mile', 'road', 'trip', 'beg', 'anyone', 'even', 'mildly', 'considering', 'staying', 'give', 'chance', 'location', 'prime', 'able', 'walk', 'michigan', 'ave', 'river', 'walk', 'middle', 'night', 'without', 'straying', 'far', 'hotel', 'grocery', 'store', 'block', 'away', 'parking', 'may', 'cost', 'hotel', 'room', 'across', 'street', 'besides', 'place', 'cheap', 'super', 'cheap', 'downtown', 'chicago', 'closest', 'price', 'found', 'area', 'four', 'times', 'expensive', 'sure', 'grab', 'cash', 'accept', 'credit', 'cards', 'rules', 'though', 'say', 'hello', 'clifton', 'jackson', 'homeless', 'guy', 'jewel', 'osco', 'buy', 'drink', 'chicken', 'look', 'facebook', 'stay', 'floor', 'way', 'top', 'go', 'fire', 'escape', 'sure', 'prop', 'door', 'open', 'looong', 'walk', 'careful', 'explore', 'yes', 'ladder', 'hold', 'weight', 'careful', 'alarmed', 'weird', 'noises', 'hear', 'spend', 'night', 'roof', 'stories', 'heart', 'chicago', 'write', 'yelp', 'review', 'want', 'see', 'others', 'getting', 'tokyo', 'hotel', 'experience', 'check', 'noon', 'sure', 'drink', 'lots', 'water', 'spend', 'next', 'day', 'hung', 'please', 'careful', 'roof'], tags=['0']),\n",
              " TaggedDocument(words=['place', 'inside', 'loop', 'stay', 'night', 'also', 'place', 'picnic', 'dinner', 'get', 'little', 'frisky', 'th', 'floor', 'roof', 'wake', 'room', 'next', 'morning', 'army', 'ants', 'going', 'picnic', 'leftovers'], tags=['1'])]"
            ]
          },
          "execution_count": 85,
          "metadata": {},
          "output_type": "execute_result"
        }
      ],
      "source": [
        "tagged_data[:2]"
      ]
    },
    {
      "cell_type": "code",
      "execution_count": null,
      "metadata": {
        "id": "FN3g-kr-rm81"
      },
      "outputs": [],
      "source": [
        "# print('Av WL:', avg_wl,'\\nPausality:', pausality, '\\naverage NP:', anp,'\\nSL:', avg_sl,'\\nCl:', n_cl,'\\nWords:', len(words), '\\nVerbs:', n_verbs,\n",
        "#       '\\nAdj:', n_adj,'\\nPassive:', n_passive, '\\nEmo:', emo,'\\nCDV:', cdv,'\\nRedun:', redun, '\\nLXD:', lxd, '\\nMV:',n_mv, '\\nTypos:', n_typos)"
      ]
    },
    {
      "cell_type": "code",
      "execution_count": null,
      "metadata": {
        "id": "R4LCLwcvmGHX"
      },
      "outputs": [],
      "source": []
    },
    {
      "cell_type": "markdown",
      "metadata": {
        "id": "ajUkG_7IBlnQ"
      },
      "source": [
        "## Embedding"
      ]
    },
    {
      "cell_type": "code",
      "execution_count": null,
      "metadata": {
        "id": "UtcPzvoEiCmV"
      },
      "outputs": [],
      "source": [
        "# max_epochs = 500\n",
        "# alpha = 0.025\n",
        "\n",
        "# model = Doc2Vec(vector_size=110, alpha=alpha, min_alpha=0.00025, min_count=1, dm=1)\n",
        "  \n",
        "# model.build_vocab(tagged_data)\n",
        "\n",
        "# for epoch in tqdm(range(max_epochs)):\n",
        "#     model.train(tagged_data,\n",
        "#                 total_examples=model.corpus_count,\n",
        "#                 epochs=model.epochs)\n",
        "#     model.alpha -= 0.0002\n",
        "#     model.min_alpha = model.alpha\n"
      ]
    },
    {
      "cell_type": "code",
      "execution_count": null,
      "metadata": {
        "id": "x1gU1JsJWTwE"
      },
      "outputs": [],
      "source": [
        "model = doc2vec.Doc2Vec(vector_size = 300, window = 15, min_count = 1, workers = 2, epochs=10)\n",
        "\n",
        "model.build_vocab(tagged_data)\n",
        "model.train(tagged_data, total_examples=model.corpus_count, epochs=100)\n",
        "model.save('d2v.model')"
      ]
    },
    {
      "cell_type": "code",
      "execution_count": null,
      "metadata": {
        "id": "ZtnaQ_ieJULH"
      },
      "outputs": [],
      "source": [
        "doc2vec_model = model"
      ]
    },
    {
      "cell_type": "code",
      "execution_count": null,
      "metadata": {
        "id": "hSa588WYy1lW"
      },
      "outputs": [],
      "source": [
        "#len(doc2vec_model.docvecs)"
      ]
    },
    {
      "cell_type": "code",
      "execution_count": null,
      "metadata": {
        "colab": {
          "base_uri": "https://localhost:8080/"
        },
        "id": "acSSKGy3JQOu",
        "outputId": "313453c8-c88d-4323-c7fb-a6f7ddc6df5e"
      },
      "outputs": [
        {
          "name": "stderr",
          "output_type": "stream",
          "text": [
            "<ipython-input-89-737b6698745b>:4: DeprecationWarning: Call to deprecated `docvecs` (The `docvecs` property has been renamed `dv`.).\n",
            "  v.append(doc2vec_model.docvecs[i])\n"
          ]
        }
      ],
      "source": [
        "v = []\n",
        "\n",
        "for i in range(len(df)):\n",
        "    v.append(doc2vec_model.docvecs[i])"
      ]
    },
    {
      "cell_type": "code",
      "execution_count": null,
      "metadata": {
        "id": "IoKE9mS3x96y"
      },
      "outputs": [],
      "source": [
        "# X = v\n",
        "# y = df['Real']"
      ]
    },
    {
      "cell_type": "code",
      "execution_count": null,
      "metadata": {
        "id": "3qgt8VBVbJgB"
      },
      "outputs": [],
      "source": [
        "# X_train, X_test, y_train, y_test = train_test_split(X, y, random_state=0)"
      ]
    },
    {
      "cell_type": "code",
      "execution_count": null,
      "metadata": {
        "id": "UC7t1VlKZ7um"
      },
      "outputs": [],
      "source": [
        "df_features = pd.read_csv('/content/drive/MyDrive/Fake reviews detection/chi_hotel_features.csv')"
      ]
    },
    {
      "cell_type": "markdown",
      "metadata": {
        "id": "zWArwae3uL3V"
      },
      "source": [
        "## Neural network"
      ]
    },
    {
      "cell_type": "code",
      "execution_count": null,
      "metadata": {
        "id": "jPuVfWY-w1i0"
      },
      "outputs": [],
      "source": [
        "X = v\n",
        "y = df['Real']"
      ]
    },
    {
      "cell_type": "code",
      "execution_count": null,
      "metadata": {
        "id": "Xww9enAjxUYZ"
      },
      "outputs": [],
      "source": [
        "X = np.array(X)\n",
        "y = np.array(y)"
      ]
    },
    {
      "cell_type": "code",
      "execution_count": null,
      "metadata": {
        "id": "Hl8F4_xF0Yy5"
      },
      "outputs": [],
      "source": [
        "xx = []"
      ]
    },
    {
      "cell_type": "code",
      "execution_count": null,
      "metadata": {
        "id": "GJgNf8Bqk-LK"
      },
      "outputs": [],
      "source": [
        "from sklearn import preprocessing"
      ]
    },
    {
      "cell_type": "code",
      "execution_count": null,
      "metadata": {
        "id": "Ru_CQNGsLaAT"
      },
      "outputs": [],
      "source": [
        "scaler = preprocessing.StandardScaler().fit(df_features)\n",
        "feat = scaler.transform(df_features)"
      ]
    },
    {
      "cell_type": "code",
      "execution_count": null,
      "metadata": {
        "id": "C114b1lyOsTH"
      },
      "outputs": [],
      "source": [
        "for i in range(len(X)):\n",
        "    xx.append(np.append(X[i], feat[i]))"
      ]
    },
    {
      "cell_type": "code",
      "execution_count": null,
      "metadata": {
        "id": "roSwz34Bv43l"
      },
      "outputs": [],
      "source": [
        "X = np.array(xx)"
      ]
    },
    {
      "cell_type": "code",
      "execution_count": null,
      "metadata": {
        "id": "imYmRJU6vKhF"
      },
      "outputs": [],
      "source": [
        "X1, X_test, y1, y_test = train_test_split(X, y, test_size=0.15)\n",
        "X_train, X_val, y_train, y_val = train_test_split(X1, y1, test_size=0.15)"
      ]
    },
    {
      "cell_type": "code",
      "execution_count": null,
      "metadata": {
        "colab": {
          "base_uri": "https://localhost:8080/"
        },
        "id": "aPu-xKxbw2Ym",
        "outputId": "d22348fb-484e-4f46-e588-eeef71490827"
      },
      "outputs": [
        {
          "name": "stdout",
          "output_type": "stream",
          "text": [
            "(4228, 315) (747, 315) (879, 315)\n"
          ]
        }
      ],
      "source": [
        "print(X_train.shape, X_val.shape, X_test.shape)"
      ]
    },
    {
      "cell_type": "code",
      "execution_count": null,
      "metadata": {
        "colab": {
          "base_uri": "https://localhost:8080/"
        },
        "id": "GpKQnx5tF4Aa",
        "outputId": "dee2b15b-66b1-4aac-b7d1-aca38560c1f9"
      },
      "outputs": [
        {
          "name": "stdout",
          "output_type": "stream",
          "text": [
            "Model: \"sequential_6\"\n",
            "_________________________________________________________________\n",
            " Layer (type)                Output Shape              Param #   \n",
            "=================================================================\n",
            " conv1d_4 (Conv1D)           (None, 315, 128)          1280      \n",
            "                                                                 \n",
            " dropout_7 (Dropout)         (None, 315, 128)          0         \n",
            "                                                                 \n",
            " max_pooling1d_3 (MaxPooling  (None, 157, 128)         0         \n",
            " 1D)                                                             \n",
            "                                                                 \n",
            " dropout_8 (Dropout)         (None, 157, 128)          0         \n",
            "                                                                 \n",
            " conv1d_5 (Conv1D)           (None, 157, 128)          98432     \n",
            "                                                                 \n",
            " dropout_9 (Dropout)         (None, 157, 128)          0         \n",
            "                                                                 \n",
            " max_pooling1d_4 (MaxPooling  (None, 78, 128)          0         \n",
            " 1D)                                                             \n",
            "                                                                 \n",
            " dropout_10 (Dropout)        (None, 78, 128)           0         \n",
            "                                                                 \n",
            " bidirectional_4 (Bidirectio  (None, 128)              98816     \n",
            " nal)                                                            \n",
            "                                                                 \n",
            " dense_10 (Dense)            (None, 64)                8256      \n",
            "                                                                 \n",
            " dense_11 (Dense)            (None, 1)                 65        \n",
            "                                                                 \n",
            "=================================================================\n",
            "Total params: 206,849\n",
            "Trainable params: 206,849\n",
            "Non-trainable params: 0\n",
            "_________________________________________________________________\n",
            "None\n"
          ]
        }
      ],
      "source": [
        "model = Sequential()\n",
        "\n",
        "model.add(Conv1D(filters=128, kernel_size=9, padding='same', activation='relu', input_shape=(315, 1)))\n",
        "model.add(Dropout(0.2))\n",
        "model.add(MaxPooling1D(pool_size=2))\n",
        "model.add(Dropout(0.2))\n",
        "model.add(Conv1D(filters=128, kernel_size=6, padding='same', activation='relu'))\n",
        "model.add(Dropout(0.2))\n",
        "model.add(MaxPooling1D(pool_size=2))\n",
        "model.add(Dropout(0.2))\n",
        "model.add(Bidirectional(LSTM(64, dropout=0.2, recurrent_dropout=0.2)))\n",
        "model.add(Dense(64, activation='softmax'))\n",
        "model.add(Dense(1))\n",
        "\n",
        "\n",
        "model.compile(loss='binary_crossentropy',\n",
        "              optimizer=Adam(1e-4),\n",
        "              metrics=['accuracy'])\n",
        "\n",
        "print(model.summary())"
      ]
    },
    {
      "cell_type": "code",
      "execution_count": null,
      "metadata": {
        "colab": {
          "base_uri": "https://localhost:8080/"
        },
        "id": "fRBYnUuAAopb",
        "outputId": "9f70f9c3-18ce-467e-8f8e-0557d601ba4e"
      },
      "outputs": [
        {
          "name": "stdout",
          "output_type": "stream",
          "text": [
            "Epoch 1/15\n",
            "265/265 [==============================] - 112s 393ms/step - loss: 8.1686 - accuracy: 0.1355 - val_loss: 1.2804 - val_accuracy: 0.1312\n",
            "Epoch 2/15\n",
            "265/265 [==============================] - 103s 390ms/step - loss: 1.0556 - accuracy: 0.1355 - val_loss: 0.9855 - val_accuracy: 0.1312\n",
            "Epoch 3/15\n",
            "265/265 [==============================] - 102s 387ms/step - loss: 0.9457 - accuracy: 0.1355 - val_loss: 0.9145 - val_accuracy: 0.1312\n",
            "Epoch 4/15\n",
            "265/265 [==============================] - 101s 380ms/step - loss: 0.8836 - accuracy: 0.1355 - val_loss: 0.8579 - val_accuracy: 0.1312\n",
            "Epoch 5/15\n",
            "265/265 [==============================] - 104s 391ms/step - loss: 0.8315 - accuracy: 0.1355 - val_loss: 0.8089 - val_accuracy: 0.1312\n",
            "Epoch 6/15\n",
            "265/265 [==============================] - 104s 390ms/step - loss: 0.7855 - accuracy: 0.1355 - val_loss: 0.7647 - val_accuracy: 0.1312\n",
            "Epoch 7/15\n",
            "265/265 [==============================] - 103s 390ms/step - loss: 0.7439 - accuracy: 0.1355 - val_loss: 0.7247 - val_accuracy: 0.1312\n",
            "Epoch 8/15\n",
            "265/265 [==============================] - 103s 390ms/step - loss: 0.7059 - accuracy: 0.2448 - val_loss: 0.6878 - val_accuracy: 0.8687\n",
            "Epoch 9/15\n",
            "265/265 [==============================] - 103s 388ms/step - loss: 0.6709 - accuracy: 0.8645 - val_loss: 0.6538 - val_accuracy: 0.8687\n",
            "Epoch 10/15\n",
            "265/265 [==============================] - 103s 388ms/step - loss: 0.6385 - accuracy: 0.8645 - val_loss: 0.6221 - val_accuracy: 0.8687\n",
            "Epoch 11/15\n",
            "265/265 [==============================] - 103s 388ms/step - loss: 0.6083 - accuracy: 0.8645 - val_loss: 0.5926 - val_accuracy: 0.8687\n",
            "Epoch 12/15\n",
            "265/265 [==============================] - 103s 388ms/step - loss: 0.5803 - accuracy: 0.8645 - val_loss: 0.5652 - val_accuracy: 0.8687\n",
            "Epoch 13/15\n",
            "265/265 [==============================] - 103s 388ms/step - loss: 0.5543 - accuracy: 0.8645 - val_loss: 0.5398 - val_accuracy: 0.8687\n",
            "Epoch 14/15\n",
            "265/265 [==============================] - 104s 390ms/step - loss: 0.5302 - accuracy: 0.8645 - val_loss: 0.5163 - val_accuracy: 0.8687\n",
            "Epoch 15/15\n",
            "265/265 [==============================] - 104s 392ms/step - loss: 0.5080 - accuracy: 0.8645 - val_loss: 0.4945 - val_accuracy: 0.8687\n"
          ]
        }
      ],
      "source": [
        "history = model.fit(X_train, y_train, epochs=15, validation_data=(X_val, y_val), validation_steps=30, batch_size=16)"
      ]
    },
    {
      "cell_type": "code",
      "execution_count": null,
      "metadata": {
        "colab": {
          "base_uri": "https://localhost:8080/"
        },
        "id": "47qn3MWM1jAG",
        "outputId": "f926576d-594d-465b-f6e4-c405a5406a39"
      },
      "outputs": [
        {
          "name": "stdout",
          "output_type": "stream",
          "text": [
            "28/28 [==============================] - 3s 91ms/step - loss: 0.4910 - accuracy: 0.8737\n"
          ]
        },
        {
          "data": {
            "text/plain": [
              "[0.49098947644233704, 0.873720109462738]"
            ]
          },
          "execution_count": 116,
          "metadata": {},
          "output_type": "execute_result"
        }
      ],
      "source": [
        "model.evaluate(X_test, y_test)"
      ]
    },
    {
      "cell_type": "code",
      "execution_count": null,
      "metadata": {
        "colab": {
          "base_uri": "https://localhost:8080/",
          "height": 472
        },
        "id": "ShEZPOXP2j7J",
        "outputId": "05f29c15-496e-45b6-aa40-7ec81d7496f0"
      },
      "outputs": [
        {
          "data": {
            "image/png": "[encoded data removed]",
            "text/plain": [
              "<Figure size 640x480 with 1 Axes>"
            ]
          },
          "metadata": {},
          "output_type": "display_data"
        }
      ],
      "source": [
        "plt.plot(history.history['loss'])\n",
        "plt.plot(history.history['val_loss'])\n",
        "plt.title('Model loss')\n",
        "plt.ylabel('Loss')\n",
        "plt.xlabel('Epoch')\n",
        "plt.legend(['Train', 'Test'], loc='upper left')\n",
        "plt.show()"
      ]
    },
    {
      "cell_type": "code",
      "execution_count": null,
      "metadata": {
        "colab": {
          "base_uri": "https://localhost:8080/",
          "height": 472
        },
        "id": "gXXzxFtJ-G6M",
        "outputId": "13042953-2dcc-41b1-9d2f-3ebf516c5225"
      },
      "outputs": [
        {
          "data": {
            "image/png": "[encoded data removed]",
            "text/plain": [
              "<Figure size 640x480 with 1 Axes>"
            ]
          },
          "metadata": {},
          "output_type": "display_data"
        }
      ],
      "source": [
        "#plt.plot(history.history['loss'])\n",
        "plt.plot(history.history['val_loss'])\n",
        "plt.title('Model loss')\n",
        "plt.ylabel('Loss')\n",
        "plt.xlabel('Epoch')\n",
        "plt.legend(['Loss'], loc='upper left')\n",
        "plt.show()"
      ]
    },
    {
      "cell_type": "code",
      "execution_count": null,
      "metadata": {
        "colab": {
          "base_uri": "https://localhost:8080/",
          "height": 865
        },
        "id": "o4GsocaG4YD8",
        "outputId": "7176848f-d002-48c8-a089-90153226cb68"
      },
      "outputs": [
        {
          "data": {
            "image/png": "[encoded data removed]",
            "text/plain": [
              "<IPython.core.display.Image object>"
            ]
          },
          "execution_count": 107,
          "metadata": {},
          "output_type": "execute_result"
        }
      ],
      "source": [
        "plot_model(model, to_file='model.png', show_shapes=True)"
      ]
    },
    {
      "cell_type": "code",
      "execution_count": null,
      "metadata": {
        "id": "Wtp1dPIuxsGs"
      },
      "outputs": [],
      "source": []
    }
  ],
  "metadata": {
    "accelerator": "GPU",
    "colab": {
      "gpuType": "T4",
      "provenance": [],
      "toc_visible": true
    },
    "kernelspec": {
      "display_name": "Python 3",
      "language": "python",
      "name": "python3"
    },
    "language_info": {
      "codemirror_mode": {
        "name": "ipython",
        "version": 3
      },
      "file_extension": ".py",
      "mimetype": "text/x-python",
      "name": "python",
      "nbconvert_exporter": "python",
      "pygments_lexer": "ipython3",
      "version": "3.8.5"
    }
  },
  "nbformat": 4,
  "nbformat_minor": 0
}