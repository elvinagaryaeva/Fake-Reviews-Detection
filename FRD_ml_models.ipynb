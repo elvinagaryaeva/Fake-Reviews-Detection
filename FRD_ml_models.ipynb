{
  "cells": [
    {
      "cell_type": "code",
      "execution_count": null,
      "metadata": {
        "id": "SLXQioQ7gfJB"
      },
      "outputs": [],
      "source": [
        "import numpy as np\n",
        "import pandas as pd"
      ]
    },
    {
      "cell_type": "code",
      "source": [
        "import seaborn as sn\n",
        "import matplotlib.pyplot as plt"
      ],
      "metadata": {
        "id": "81Y_t1AAYhJu"
      },
      "execution_count": null,
      "outputs": []
    },
    {
      "cell_type": "code",
      "execution_count": null,
      "metadata": {
        "id": "lWwO9hqwgfJG"
      },
      "outputs": [],
      "source": [
        "import nltk\n",
        "from nltk.corpus import stopwords\n",
        "from nltk.tokenize import word_tokenize\n",
        "import re\n",
        "from gensim.models import doc2vec\n",
        "from gensim.models.doc2vec import Doc2Vec, TaggedDocument"
      ]
    },
    {
      "cell_type": "code",
      "execution_count": null,
      "metadata": {
        "colab": {
          "base_uri": "https://localhost:8080/"
        },
        "id": "A3nJNqbygfJI",
        "outputId": "8f8e4a09-55ae-4a1a-cc6b-6ef2afc4a172"
      },
      "outputs": [
        {
          "output_type": "stream",
          "name": "stderr",
          "text": [
            "[nltk_data] Downloading package stopwords to /root/nltk_data...\n",
            "[nltk_data]   Unzipping corpora/stopwords.zip.\n",
            "[nltk_data] Downloading package punkt to /root/nltk_data...\n",
            "[nltk_data]   Unzipping tokenizers/punkt.zip.\n"
          ]
        },
        {
          "output_type": "execute_result",
          "data": {
            "text/plain": [
              "True"
            ]
          },
          "metadata": {},
          "execution_count": 5
        }
      ],
      "source": [
        "nltk.download('stopwords')\n",
        "nltk.download('punkt')"
      ]
    },
    {
      "cell_type": "code",
      "source": [
        "from sklearn.model_selection import train_test_split, cross_val_score"
      ],
      "metadata": {
        "id": "K2zi1PiJqZNH"
      },
      "execution_count": null,
      "outputs": []
    },
    {
      "cell_type": "code",
      "source": [
        "from sklearn.ensemble import RandomForestClassifier\n",
        "from sklearn.tree import DecisionTreeClassifier\n",
        "from sklearn.svm import SVC\n",
        "from xgboost import XGBClassifier\n",
        "from sklearn.neural_network import MLPClassifier"
      ],
      "metadata": {
        "id": "qKimRNzarfsX"
      },
      "execution_count": null,
      "outputs": []
    },
    {
      "cell_type": "code",
      "source": [
        "from sklearn.metrics import accuracy_score, f1_score\n",
        "from sklearn.feature_selection import RFECV\n",
        "from sklearn.pipeline import Pipeline\n",
        "from sklearn.model_selection import StratifiedKFold, cross_val_score\n",
        "from sklearn import preprocessing"
      ],
      "metadata": {
        "id": "UrTsJHr4sFHU"
      },
      "execution_count": null,
      "outputs": []
    },
    {
      "cell_type": "code",
      "source": [
        "from keras.models import Model, Sequential\n",
        "from keras.layers import Conv1D, MaxPooling1D, LSTM, Activation, Dense, Dropout, Input, Embedding, Bidirectional\n",
        "from keras.optimizers import Adam\n",
        "from keras.losses import BinaryCrossentropy\n",
        "from keras.preprocessing.text import Tokenizer\n",
        "from keras.preprocessing import sequence\n",
        "from keras.utils import plot_model"
      ],
      "metadata": {
        "id": "Fy1lUt1b1S8d"
      },
      "execution_count": null,
      "outputs": []
    },
    {
      "cell_type": "code",
      "source": [
        "import spacy"
      ],
      "metadata": {
        "id": "6vkei1y7_MJf"
      },
      "execution_count": null,
      "outputs": []
    },
    {
      "cell_type": "code",
      "source": [
        "from tqdm import tqdm\n",
        "import random"
      ],
      "metadata": {
        "id": "dYm2OyjDZXAO"
      },
      "execution_count": null,
      "outputs": []
    },
    {
      "cell_type": "code",
      "source": [
        "import locale\n",
        "locale.getpreferredencoding = lambda: \"UTF-8\""
      ],
      "metadata": {
        "id": "62gPJix3bP5J"
      },
      "execution_count": null,
      "outputs": []
    },
    {
      "cell_type": "code",
      "source": [
        "#!pip install contextualSpellCheck"
      ],
      "metadata": {
        "id": "NhD1IBzwor8p"
      },
      "execution_count": null,
      "outputs": []
    },
    {
      "cell_type": "code",
      "source": [
        "import contextualSpellCheck"
      ],
      "metadata": {
        "id": "EKTyX3m9_nn5"
      },
      "execution_count": null,
      "outputs": []
    },
    {
      "cell_type": "code",
      "source": [
        "#!pip install autocorrect"
      ],
      "metadata": {
        "id": "AzgrinezI2cK"
      },
      "execution_count": null,
      "outputs": []
    },
    {
      "cell_type": "code",
      "source": [
        "from autocorrect import Speller"
      ],
      "metadata": {
        "id": "a-jy_Q4X8y8M"
      },
      "execution_count": null,
      "outputs": []
    },
    {
      "cell_type": "code",
      "source": [
        "from spacy.matcher import Matcher"
      ],
      "metadata": {
        "id": "eHpOXhkzRiJ9"
      },
      "execution_count": null,
      "outputs": []
    },
    {
      "cell_type": "code",
      "source": [
        "from hyperopt import hp, fmin, tpe, STATUS_OK, Trials, anneal"
      ],
      "metadata": {
        "id": "u0qZnB8ncZiR"
      },
      "execution_count": null,
      "outputs": []
    },
    {
      "cell_type": "code",
      "source": [
        "from google.colab import drive\n",
        "drive.mount('/content/drive')"
      ],
      "metadata": {
        "id": "4sVBiJMuu85h",
        "colab": {
          "base_uri": "https://localhost:8080/"
        },
        "outputId": "59b748fa-4daa-4299-c0ff-9ab019803d9e"
      },
      "execution_count": null,
      "outputs": [
        {
          "output_type": "stream",
          "name": "stdout",
          "text": [
            "Mounted at /content/drive\n"
          ]
        }
      ]
    },
    {
      "cell_type": "code",
      "source": [
        "df = pd.read_csv('/content/drive/MyDrive/Fake reviews detection/chi_hotel_dataset.csv')"
      ],
      "metadata": {
        "id": "ZAxPv1u9NoI5"
      },
      "execution_count": null,
      "outputs": []
    },
    {
      "cell_type": "code",
      "execution_count": null,
      "metadata": {
        "id": "odKO_IV8gfJN"
      },
      "outputs": [],
      "source": [
        "#df = pd.read_csv('restaurant_reviews_anonymized.csv', encoding='ISO-8859-1')"
      ]
    },
    {
      "cell_type": "code",
      "execution_count": null,
      "metadata": {
        "colab": {
          "base_uri": "https://localhost:8080/",
          "height": 206
        },
        "id": "iWT5a27fgfJN",
        "outputId": "ff54df66-fa28-4f4e-8d36-5f60cfa646db"
      },
      "outputs": [
        {
          "output_type": "execute_result",
          "data": {
            "text/plain": [
              "   Real                                             Review\n",
              "0     1  Let me begin by saying that there are two kind...\n",
              "1     1  The only place inside the Loop that you can st...\n",
              "2     1  I have walked by the Tokyo Hotel countless tim...\n",
              "3     1  If you are considering staying here, watch thi...\n",
              "4     1  This place is disgusting, absolutely horrible,..."
            ],
            "text/html": [
              "\n",
              "  <div id=\"df-32aa8d1d-82a9-47ea-9e5c-22b7d4be95ad\">\n",
              "    <div class=\"colab-df-container\">\n",
              "      <div>\n",
              "<style scoped>\n",
              "    .dataframe tbody tr th:only-of-type {\n",
              "        vertical-align: middle;\n",
              "    }\n",
              "\n",
              "    .dataframe tbody tr th {\n",
              "        vertical-align: top;\n",
              "    }\n",
              "\n",
              "    .dataframe thead th {\n",
              "        text-align: right;\n",
              "    }\n",
              "</style>\n",
              "<table border=\"1\" class=\"dataframe\">\n",
              "  <thead>\n",
              "    <tr style=\"text-align: right;\">\n",
              "      <th></th>\n",
              "      <th>Real</th>\n",
              "      <th>Review</th>\n",
              "    </tr>\n",
              "  </thead>\n",
              "  <tbody>\n",
              "    <tr>\n",
              "      <th>0</th>\n",
              "      <td>1</td>\n",
              "      <td>Let me begin by saying that there are two kind...</td>\n",
              "    </tr>\n",
              "    <tr>\n",
              "      <th>1</th>\n",
              "      <td>1</td>\n",
              "      <td>The only place inside the Loop that you can st...</td>\n",
              "    </tr>\n",
              "    <tr>\n",
              "      <th>2</th>\n",
              "      <td>1</td>\n",
              "      <td>I have walked by the Tokyo Hotel countless tim...</td>\n",
              "    </tr>\n",
              "    <tr>\n",
              "      <th>3</th>\n",
              "      <td>1</td>\n",
              "      <td>If you are considering staying here, watch thi...</td>\n",
              "    </tr>\n",
              "    <tr>\n",
              "      <th>4</th>\n",
              "      <td>1</td>\n",
              "      <td>This place is disgusting, absolutely horrible,...</td>\n",
              "    </tr>\n",
              "  </tbody>\n",
              "</table>\n",
              "</div>\n",
              "      <button class=\"colab-df-convert\" onclick=\"convertToInteractive('df-32aa8d1d-82a9-47ea-9e5c-22b7d4be95ad')\"\n",
              "              title=\"Convert this dataframe to an interactive table.\"\n",
              "              style=\"display:none;\">\n",
              "        \n",
              "  <svg xmlns=\"http://www.w3.org/2000/svg\" height=\"24px\"viewBox=\"0 0 24 24\"\n",
              "       width=\"24px\">\n",
              "    <path d=\"M0 0h24v24H0V0z\" fill=\"none\"/>\n",
              "    <path d=\"M18.56 5.44l.94 2.06.94-2.06 2.06-.94-2.06-.94-.94-2.06-.94 2.06-2.06.94zm-11 1L8.5 8.5l.94-2.06 2.06-.94-2.06-.94L8.5 2.5l-.94 2.06-2.06.94zm10 10l.94 2.06.94-2.06 2.06-.94-2.06-.94-.94-2.06-.94 2.06-2.06.94z\"/><path d=\"M17.41 7.96l-1.37-1.37c-.4-.4-.92-.59-1.43-.59-.52 0-1.04.2-1.43.59L10.3 9.45l-7.72 7.72c-.78.78-.78 2.05 0 2.83L4 21.41c.39.39.9.59 1.41.59.51 0 1.02-.2 1.41-.59l7.78-7.78 2.81-2.81c.8-.78.8-2.07 0-2.86zM5.41 20L4 18.59l7.72-7.72 1.47 1.35L5.41 20z\"/>\n",
              "  </svg>\n",
              "      </button>\n",
              "      \n",
              "  <style>\n",
              "    .colab-df-container {\n",
              "      display:flex;\n",
              "      flex-wrap:wrap;\n",
              "      gap: 12px;\n",
              "    }\n",
              "\n",
              "    .colab-df-convert {\n",
              "      background-color: #E8F0FE;\n",
              "      border: none;\n",
              "      border-radius: 50%;\n",
              "      cursor: pointer;\n",
              "      display: none;\n",
              "      fill: #1967D2;\n",
              "      height: 32px;\n",
              "      padding: 0 0 0 0;\n",
              "      width: 32px;\n",
              "    }\n",
              "\n",
              "    .colab-df-convert:hover {\n",
              "      background-color: #E2EBFA;\n",
              "      box-shadow: 0px 1px 2px rgba(60, 64, 67, 0.3), 0px 1px 3px 1px rgba(60, 64, 67, 0.15);\n",
              "      fill: #174EA6;\n",
              "    }\n",
              "\n",
              "    [theme=dark] .colab-df-convert {\n",
              "      background-color: #3B4455;\n",
              "      fill: #D2E3FC;\n",
              "    }\n",
              "\n",
              "    [theme=dark] .colab-df-convert:hover {\n",
              "      background-color: #434B5C;\n",
              "      box-shadow: 0px 1px 3px 1px rgba(0, 0, 0, 0.15);\n",
              "      filter: drop-shadow(0px 1px 2px rgba(0, 0, 0, 0.3));\n",
              "      fill: #FFFFFF;\n",
              "    }\n",
              "  </style>\n",
              "\n",
              "      <script>\n",
              "        const buttonEl =\n",
              "          document.querySelector('#df-32aa8d1d-82a9-47ea-9e5c-22b7d4be95ad button.colab-df-convert');\n",
              "        buttonEl.style.display =\n",
              "          google.colab.kernel.accessAllowed ? 'block' : 'none';\n",
              "\n",
              "        async function convertToInteractive(key) {\n",
              "          const element = document.querySelector('#df-32aa8d1d-82a9-47ea-9e5c-22b7d4be95ad');\n",
              "          const dataTable =\n",
              "            await google.colab.kernel.invokeFunction('convertToInteractive',\n",
              "                                                     [key], {});\n",
              "          if (!dataTable) return;\n",
              "\n",
              "          const docLinkHtml = 'Like what you see? Visit the ' +\n",
              "            '<a target=\"_blank\" href=https://colab.research.google.com/notebooks/data_table.ipynb>data table notebook</a>'\n",
              "            + ' to learn more about interactive tables.';\n",
              "          element.innerHTML = '';\n",
              "          dataTable['output_type'] = 'display_data';\n",
              "          await google.colab.output.renderOutput(dataTable, element);\n",
              "          const docLink = document.createElement('div');\n",
              "          docLink.innerHTML = docLinkHtml;\n",
              "          element.appendChild(docLink);\n",
              "        }\n",
              "      </script>\n",
              "    </div>\n",
              "  </div>\n",
              "  "
            ]
          },
          "metadata": {},
          "execution_count": 22
        }
      ],
      "source": [
        "df.head()"
      ]
    },
    {
      "cell_type": "code",
      "execution_count": null,
      "metadata": {
        "id": "8XrfEbJqgfJT"
      },
      "outputs": [],
      "source": [
        "#df.rename(columns = {'Reviews':'Review'}, inplace = True)"
      ]
    },
    {
      "cell_type": "code",
      "source": [],
      "metadata": {
        "id": "PolPKMOiTEl9"
      },
      "execution_count": null,
      "outputs": []
    },
    {
      "cell_type": "code",
      "source": [
        "df.info()"
      ],
      "metadata": {
        "colab": {
          "base_uri": "https://localhost:8080/"
        },
        "id": "X66mbbs3VFJf",
        "outputId": "3e71c5ac-1ec0-477a-8c61-d0a9cfbd96a9"
      },
      "execution_count": null,
      "outputs": [
        {
          "output_type": "stream",
          "name": "stdout",
          "text": [
            "<class 'pandas.core.frame.DataFrame'>\n",
            "RangeIndex: 5854 entries, 0 to 5853\n",
            "Data columns (total 2 columns):\n",
            " #   Column  Non-Null Count  Dtype \n",
            "---  ------  --------------  ----- \n",
            " 0   Real    5854 non-null   int64 \n",
            " 1   Review  5854 non-null   object\n",
            "dtypes: int64(1), object(1)\n",
            "memory usage: 91.6+ KB\n"
          ]
        }
      ]
    },
    {
      "cell_type": "code",
      "source": [
        "#df = df[~df['Review'].isnull()]"
      ],
      "metadata": {
        "id": "0jaHa061VgDD"
      },
      "execution_count": null,
      "outputs": []
    },
    {
      "cell_type": "code",
      "source": [
        "#df.reset_index(inplace=True)"
      ],
      "metadata": {
        "id": "iwfs8ZKudy4H"
      },
      "execution_count": null,
      "outputs": []
    },
    {
      "cell_type": "markdown",
      "metadata": {
        "id": "FzKiwlxygfJT"
      },
      "source": [
        "## Data preprocessing"
      ]
    },
    {
      "cell_type": "code",
      "execution_count": null,
      "metadata": {
        "id": "YilieeSwgfJa"
      },
      "outputs": [],
      "source": [
        "new_data = []"
      ]
    },
    {
      "cell_type": "code",
      "execution_count": null,
      "metadata": {
        "id": "iXRwBHOdgfJb"
      },
      "outputs": [],
      "source": [
        "stop_words = set(stopwords.words('english'))"
      ]
    },
    {
      "cell_type": "code",
      "execution_count": null,
      "metadata": {
        "id": "S8V9eYMwgfJc"
      },
      "outputs": [],
      "source": [
        "for line in df['Review']:\n",
        "    a = re.sub('[^a-zA-Z]', ' ', line).lower()\n",
        "    word_tokens = word_tokenize(a)\n",
        "    filtered = [w for w in word_tokens if not w in stop_words]\n",
        "    new_data.append(' '.join(filtered))"
      ]
    },
    {
      "cell_type": "code",
      "execution_count": null,
      "metadata": {
        "colab": {
          "base_uri": "https://localhost:8080/"
        },
        "id": "d2EfDEtugfJc",
        "outputId": "f446669d-2c92-4eed-90c2-b11b968a9ba0"
      },
      "outputs": [
        {
          "output_type": "execute_result",
          "data": {
            "text/plain": [
              "['let begin saying two kinds people give tokyo hotel stars rave everyone know people get past broken phone blood stains beeping fire alarms peg legged receptionist lack water pressure cracked walls strange smells questionable elevator televisions left die digital conversion possibility air conditioner may fall window moment said whole heartedly give tokyo hotel stars place quietly slip nothing show faint memory imitation thomas kinkade painting bolted wall bed continental breakfast coffee lobby vending machines pretty sure wont take change minted senses assaulted leave enough memories compete mile road trip beg anyone even mildly considering staying give chance location prime able walk michigan ave river walk middle night without straying far hotel grocery store block away parking may cost hotel room across street besides place cheap super cheap downtown chicago closest price found area four times expensive sure grab cash accept credit cards rules though say hello clifton jackson homeless guy jewel osco buy drink chicken look facebook stay floor way top go fire escape sure prop door open looong walk careful explore yes ladder hold weight careful alarmed weird noises hear spend night roof stories heart chicago write yelp review want see others getting tokyo hotel experience check noon sure drink lots water spend next day hung please careful roof',\n",
              " 'place inside loop stay night also place picnic dinner get little frisky th floor roof wake room next morning army ants going picnic leftovers',\n",
              " 'walked tokyo hotel countless times reminds type place peter parker lives spiderman movies sort place marla singer might live maybe carbon copy hotel zamenhof basically scuzzy sleazy fleabag love yesterday finally walked know maybe told roommates landlord signing another lease essentially leaving pre homeless maybe earlier day told boss quitting job end july leaving pre unemployed maybe time teetering living edge salvation brink self destruction finally choosing path hitting bottom giving shit maybe nick cage leaving las vegas elizabeth shue look walk gently good night choose stay city city love may stay hotel tokyo choose stay big going need stay somewhere cheap like minded vagabonds vagrants naredowells need help need guidance',\n",
              " 'considering staying watch first http www youtube com w',\n",
              " 'place disgusting absolutely horrible second stay strange stain side bed stay friends rendered air conditionless downtown chicago suppose']"
            ]
          },
          "metadata": {},
          "execution_count": 30
        }
      ],
      "source": [
        "new_data[:5]"
      ]
    },
    {
      "cell_type": "code",
      "source": [
        "final_data = [x for x in new_data if x != '']"
      ],
      "metadata": {
        "id": "9Vhm8KVNglXP"
      },
      "execution_count": null,
      "outputs": []
    },
    {
      "cell_type": "code",
      "execution_count": null,
      "metadata": {
        "id": "JhDvsOcygfJf"
      },
      "outputs": [],
      "source": [
        "tagged_data = [TaggedDocument(words=word_tokenize(_d), tags=[str(i)]) for i, _d in enumerate(final_data)]"
      ]
    },
    {
      "cell_type": "code",
      "source": [
        "tagged_data[:2]"
      ],
      "metadata": {
        "colab": {
          "base_uri": "https://localhost:8080/"
        },
        "id": "FKzc7rfrhcWO",
        "outputId": "639d1274-d491-4fdc-e1d3-51ef3a6777a0"
      },
      "execution_count": null,
      "outputs": [
        {
          "output_type": "execute_result",
          "data": {
            "text/plain": [
              "[TaggedDocument(words=['let', 'begin', 'saying', 'two', 'kinds', 'people', 'give', 'tokyo', 'hotel', 'stars', 'rave', 'everyone', 'know', 'people', 'get', 'past', 'broken', 'phone', 'blood', 'stains', 'beeping', 'fire', 'alarms', 'peg', 'legged', 'receptionist', 'lack', 'water', 'pressure', 'cracked', 'walls', 'strange', 'smells', 'questionable', 'elevator', 'televisions', 'left', 'die', 'digital', 'conversion', 'possibility', 'air', 'conditioner', 'may', 'fall', 'window', 'moment', 'said', 'whole', 'heartedly', 'give', 'tokyo', 'hotel', 'stars', 'place', 'quietly', 'slip', 'nothing', 'show', 'faint', 'memory', 'imitation', 'thomas', 'kinkade', 'painting', 'bolted', 'wall', 'bed', 'continental', 'breakfast', 'coffee', 'lobby', 'vending', 'machines', 'pretty', 'sure', 'wont', 'take', 'change', 'minted', 'senses', 'assaulted', 'leave', 'enough', 'memories', 'compete', 'mile', 'road', 'trip', 'beg', 'anyone', 'even', 'mildly', 'considering', 'staying', 'give', 'chance', 'location', 'prime', 'able', 'walk', 'michigan', 'ave', 'river', 'walk', 'middle', 'night', 'without', 'straying', 'far', 'hotel', 'grocery', 'store', 'block', 'away', 'parking', 'may', 'cost', 'hotel', 'room', 'across', 'street', 'besides', 'place', 'cheap', 'super', 'cheap', 'downtown', 'chicago', 'closest', 'price', 'found', 'area', 'four', 'times', 'expensive', 'sure', 'grab', 'cash', 'accept', 'credit', 'cards', 'rules', 'though', 'say', 'hello', 'clifton', 'jackson', 'homeless', 'guy', 'jewel', 'osco', 'buy', 'drink', 'chicken', 'look', 'facebook', 'stay', 'floor', 'way', 'top', 'go', 'fire', 'escape', 'sure', 'prop', 'door', 'open', 'looong', 'walk', 'careful', 'explore', 'yes', 'ladder', 'hold', 'weight', 'careful', 'alarmed', 'weird', 'noises', 'hear', 'spend', 'night', 'roof', 'stories', 'heart', 'chicago', 'write', 'yelp', 'review', 'want', 'see', 'others', 'getting', 'tokyo', 'hotel', 'experience', 'check', 'noon', 'sure', 'drink', 'lots', 'water', 'spend', 'next', 'day', 'hung', 'please', 'careful', 'roof'], tags=['0']),\n",
              " TaggedDocument(words=['place', 'inside', 'loop', 'stay', 'night', 'also', 'place', 'picnic', 'dinner', 'get', 'little', 'frisky', 'th', 'floor', 'roof', 'wake', 'room', 'next', 'morning', 'army', 'ants', 'going', 'picnic', 'leftovers'], tags=['1'])]"
            ]
          },
          "metadata": {},
          "execution_count": 33
        }
      ]
    },
    {
      "cell_type": "markdown",
      "source": [
        "## Embedding"
      ],
      "metadata": {
        "id": "ajUkG_7IBlnQ"
      }
    },
    {
      "cell_type": "code",
      "source": [
        "model = doc2vec.Doc2Vec(vector_size = 300, window = 15, min_count = 1, workers = 2, epochs=10)\n",
        "\n",
        "model.build_vocab(tagged_data)\n",
        "model.train(tagged_data, total_examples=model.corpus_count, epochs=100)\n",
        "model.save('d2v.model')"
      ],
      "metadata": {
        "id": "x1gU1JsJWTwE"
      },
      "execution_count": null,
      "outputs": []
    },
    {
      "cell_type": "code",
      "source": [
        "doc2vec_model = model"
      ],
      "metadata": {
        "id": "ZtnaQ_ieJULH"
      },
      "execution_count": null,
      "outputs": []
    },
    {
      "cell_type": "code",
      "source": [
        "#len(doc2vec_model.docvecs)"
      ],
      "metadata": {
        "id": "hSa588WYy1lW"
      },
      "execution_count": null,
      "outputs": []
    },
    {
      "cell_type": "code",
      "source": [
        "v = []\n",
        "\n",
        "for i in range(len(df)):\n",
        "    v.append(doc2vec_model.docvecs[i])"
      ],
      "metadata": {
        "colab": {
          "base_uri": "https://localhost:8080/"
        },
        "id": "acSSKGy3JQOu",
        "outputId": "f2a0c443-07dd-4cb7-d24a-c116cdaef74e"
      },
      "execution_count": null,
      "outputs": [
        {
          "output_type": "stream",
          "name": "stderr",
          "text": [
            "<ipython-input-37-737b6698745b>:4: DeprecationWarning: Call to deprecated `docvecs` (The `docvecs` property has been renamed `dv`.).\n",
            "  v.append(doc2vec_model.docvecs[i])\n"
          ]
        }
      ]
    },
    {
      "cell_type": "code",
      "source": [
        "# X = v\n",
        "# y = df['Real']"
      ],
      "metadata": {
        "id": "IoKE9mS3x96y"
      },
      "execution_count": null,
      "outputs": []
    },
    {
      "cell_type": "code",
      "source": [
        "#X_train, X_test, y_train, y_test = train_test_split(X, y, random_state=0)"
      ],
      "metadata": {
        "id": "3qgt8VBVbJgB"
      },
      "execution_count": null,
      "outputs": []
    },
    {
      "cell_type": "markdown",
      "source": [
        "### Decision tree"
      ],
      "metadata": {
        "id": "wQGf1ZOCpyQm"
      }
    },
    {
      "cell_type": "code",
      "source": [
        "params_range_dt = {'criterion': hp.choice('criterion', ['gini', 'entropy']),\n",
        "                   'max_depth': hp.quniform('max_depth', 2, 10, 1),\n",
        "                   'splitter': hp.choice('splitter', ['best', 'random'])\n",
        "}"
      ],
      "metadata": {
        "id": "eKKwTaQGcjus"
      },
      "execution_count": null,
      "outputs": []
    },
    {
      "cell_type": "code",
      "source": [
        "model_dt = DecisionTreeClassifier()"
      ],
      "metadata": {
        "id": "rMsaAKqjdeCg"
      },
      "execution_count": null,
      "outputs": []
    },
    {
      "cell_type": "code",
      "source": [
        "def objective_dt(params_range):\n",
        "    err = cross_val_score(model_dt, X_train, y_train, cv = 5, scoring='accuracy').mean()\n",
        " \n",
        "    return {'loss': -err, 'status': STATUS_OK }"
      ],
      "metadata": {
        "id": "HBMKY3_ydYBt"
      },
      "execution_count": null,
      "outputs": []
    },
    {
      "cell_type": "code",
      "source": [
        "trials = Trials()\n",
        "best_params_dt = fmin(fn= objective_dt,\n",
        "            space= params_range_dt,\n",
        "            algo= tpe.suggest,\n",
        "            max_evals = 50,\n",
        "            trials= trials)"
      ],
      "metadata": {
        "colab": {
          "base_uri": "https://localhost:8080/"
        },
        "id": "nkRHGOpzdq0h",
        "outputId": "59d9e0d1-9645-43b8-f970-983ebb5c32df"
      },
      "execution_count": null,
      "outputs": [
        {
          "output_type": "stream",
          "name": "stdout",
          "text": [
            "100%|██████████| 50/50 [08:48<00:00, 10.57s/trial, best loss: -0.7430523917995444]\n"
          ]
        }
      ]
    },
    {
      "cell_type": "code",
      "source": [
        "print('The best parameters are:', best_params_dt)"
      ],
      "metadata": {
        "colab": {
          "base_uri": "https://localhost:8080/"
        },
        "id": "vFlUrNg0fLHl",
        "outputId": "effa9cf0-9b6f-48ad-d693-2e3f526c0e68"
      },
      "execution_count": null,
      "outputs": [
        {
          "output_type": "stream",
          "name": "stdout",
          "text": [
            "The best parameters are: {'criterion': 1, 'max_depth': 3.0, 'splitter': 1}\n"
          ]
        }
      ]
    },
    {
      "cell_type": "code",
      "source": [
        "model_dt_test = DecisionTreeClassifier(criterion=['gini', 'entropy'][best_params_dt['criterion']],\n",
        "                                       max_depth=int(best_params_dt['max_depth']),\n",
        "                                       splitter=['best', 'random'][best_params_dt['splitter']])\n",
        "model_dt_test.fit(X_train, y_train)\n",
        "y_pred_dt = model_dt_test.predict(X_test)\n",
        "\n",
        "accuracy_dt = accuracy_score(y_test, y_pred_dt)\n",
        "f1_dt = f1_score(y_test, y_pred_dt, average='weighted')\n",
        "print('Test accuracy: ', accuracy_dt, '\\nTest F1: ', f1_dt)"
      ],
      "metadata": {
        "colab": {
          "base_uri": "https://localhost:8080/"
        },
        "id": "lWHxn0p4dktd",
        "outputId": "9cbe2a5b-b640-470d-a3fb-6022314e8567"
      },
      "execution_count": null,
      "outputs": [
        {
          "output_type": "stream",
          "name": "stdout",
          "text": [
            "Test accuracy:  0.8633879781420765 \n",
            "Test F1:  0.8032744411999384\n"
          ]
        }
      ]
    },
    {
      "cell_type": "code",
      "source": [
        "# model_dt = DecisionTreeClassifier()\n",
        "# acc_scores_dt = cross_val_score(model_dt, X, y, cv=10)\n",
        "# f1_scores_dt = cross_val_score(model_dt, X, y, cv=10, scoring='f1')"
      ],
      "metadata": {
        "id": "03RXXbMerJLl"
      },
      "execution_count": null,
      "outputs": []
    },
    {
      "cell_type": "code",
      "source": [
        "# print('Accuracy: ', acc_scores_dt.mean(), '\\nF1: ', f1_scores_dt.mean())"
      ],
      "metadata": {
        "id": "v-8qNcgdtyLH"
      },
      "execution_count": null,
      "outputs": []
    },
    {
      "cell_type": "markdown",
      "source": [
        "### Random Forest"
      ],
      "metadata": {
        "id": "dc4j0im1rY7k"
      }
    },
    {
      "cell_type": "code",
      "source": [
        "params_range_rf = {'criterion': hp.choice('criterion', ['gini', 'entropy']),\n",
        "                   'max_depth': hp.quniform('max_depth', 2, 10, 1),\n",
        "                   'n_estimators': hp.quniform('n_estimators', 100, 1000, 1)\n",
        "}"
      ],
      "metadata": {
        "id": "luhHIRUjg-lq"
      },
      "execution_count": null,
      "outputs": []
    },
    {
      "cell_type": "code",
      "source": [
        "model_rf = RandomForestClassifier()"
      ],
      "metadata": {
        "id": "c8hXoEcSg-ls"
      },
      "execution_count": null,
      "outputs": []
    },
    {
      "cell_type": "code",
      "source": [
        "def objective_rf(params_range):\n",
        "    err = cross_val_score(model_rf, X_train, y_train, cv = 5, scoring='accuracy').mean()\n",
        " \n",
        "    return {'loss': -err, 'status': STATUS_OK }"
      ],
      "metadata": {
        "id": "Y-A0PJt-g-lu"
      },
      "execution_count": null,
      "outputs": []
    },
    {
      "cell_type": "code",
      "source": [
        "trials = Trials()\n",
        "best_params_rf = fmin(fn= objective_rf,\n",
        "            space= params_range_rf,\n",
        "            algo= tpe.suggest,\n",
        "            max_evals = 50,\n",
        "            trials= trials)"
      ],
      "metadata": {
        "colab": {
          "base_uri": "https://localhost:8080/"
        },
        "outputId": "002905a5-06aa-4e5d-8ca6-85404dc4deae",
        "id": "pL-m38U0g-lv"
      },
      "execution_count": null,
      "outputs": [
        {
          "output_type": "stream",
          "name": "stdout",
          "text": [
            "100%|██████████| 50/50 [30:42<00:00, 36.84s/trial, best loss: -0.8676537585421412]\n"
          ]
        }
      ]
    },
    {
      "cell_type": "code",
      "source": [
        "print('The best parameters are:', best_params_rf)"
      ],
      "metadata": {
        "colab": {
          "base_uri": "https://localhost:8080/"
        },
        "outputId": "1b000289-adf0-4456-c217-46d4950b852a",
        "id": "Z576jmQ1g-lx"
      },
      "execution_count": null,
      "outputs": [
        {
          "output_type": "stream",
          "name": "stdout",
          "text": [
            "The best parameters are: {'criterion': 1, 'max_depth': 9.0, 'n_estimators': 645.0}\n"
          ]
        }
      ]
    },
    {
      "cell_type": "code",
      "source": [
        "model_rf_test = RandomForestClassifier(criterion=['gini', 'entropy'][best_params_rf['criterion']],\n",
        "                                       max_depth=int(best_params_rf['max_depth']),\n",
        "                                       n_estimators=int(best_params_rf['n_estimators']))\n",
        "model_rf_test.fit(X_train, y_train)\n",
        "y_pred_rf = model_rf_test.predict(X_test)\n",
        "\n",
        "accuracy_rf = accuracy_score(y_test, y_pred_rf)\n",
        "f1_rf = f1_score(y_test, y_pred_rf, average='weighted')\n",
        "print('Test accuracy: ', accuracy_rf, '\\nTest F1: ', f1_rf)"
      ],
      "metadata": {
        "colab": {
          "base_uri": "https://localhost:8080/"
        },
        "id": "dH_tIEk6hk_E",
        "outputId": "79a20834-0a51-4941-8b39-56f5ba65d6c5"
      },
      "execution_count": null,
      "outputs": [
        {
          "output_type": "stream",
          "name": "stdout",
          "text": [
            "Test accuracy:  0.8654371584699454 \n",
            "Test F1:  0.8030090661160166\n"
          ]
        }
      ]
    },
    {
      "cell_type": "markdown",
      "source": [
        "### Support Vector Machine"
      ],
      "metadata": {
        "id": "i_uNmQWquFXx"
      }
    },
    {
      "cell_type": "code",
      "source": [
        "params_range_svm = {'kernel': hp.choice('kernel', ['RBF', 'linear', 'polynomial', 'sigmoid']),\n",
        "                    'C': hp.uniform('C', 0.1, 1000),\n",
        "                    'degree': hp.quniform('degree', 2, 10, 1),\n",
        "                    'gamma': hp.choice('gamma', ['scale', 'auto'])\n",
        "}"
      ],
      "metadata": {
        "id": "NGtgpCgciqDV"
      },
      "execution_count": null,
      "outputs": []
    },
    {
      "cell_type": "code",
      "source": [
        "model_svm = SVC()"
      ],
      "metadata": {
        "id": "25cri_VNiqDW"
      },
      "execution_count": null,
      "outputs": []
    },
    {
      "cell_type": "code",
      "source": [
        "def objective_svm(params_range):\n",
        "    err = cross_val_score(model_svm, X_train, y_train, cv = 5, scoring='accuracy').mean()\n",
        " \n",
        "    return {'loss': -err, 'status': STATUS_OK }"
      ],
      "metadata": {
        "id": "B99Pixb3iqDW"
      },
      "execution_count": null,
      "outputs": []
    },
    {
      "cell_type": "code",
      "source": [
        "trials = Trials()\n",
        "best_params_svm = fmin(fn= objective_svm,\n",
        "            space= params_range_svm,\n",
        "            algo= tpe.suggest,\n",
        "            max_evals = 50,\n",
        "            trials= trials)"
      ],
      "metadata": {
        "colab": {
          "base_uri": "https://localhost:8080/"
        },
        "outputId": "aa1b084d-1c7f-4b59-af41-1c3c918bf681",
        "id": "0jRu_zS6iqDX"
      },
      "execution_count": null,
      "outputs": [
        {
          "output_type": "stream",
          "name": "stdout",
          "text": [
            "100%|██████████| 50/50 [12:25<00:00, 14.92s/trial, best loss: -0.8676537585421412]\n"
          ]
        }
      ]
    },
    {
      "cell_type": "code",
      "source": [
        "print('The best parameters are:', best_params_svm)"
      ],
      "metadata": {
        "colab": {
          "base_uri": "https://localhost:8080/"
        },
        "outputId": "c1883c11-208f-42f1-8d5b-721a21977de9",
        "id": "ofBn7qPYiqDX"
      },
      "execution_count": null,
      "outputs": [
        {
          "output_type": "stream",
          "name": "stdout",
          "text": [
            "The best parameters are: {'C': 607.7604274811972, 'degree': 7.0, 'gamma': 1, 'kernel': 0}\n"
          ]
        }
      ]
    },
    {
      "cell_type": "code",
      "source": [
        "model_svm_test = SVC(kernel=['rbf', 'linear', 'polynomial', 'sigmoid'][best_params_svm['kernel']],\n",
        "                     C=best_params_svm['C'],\n",
        "                     degree=int(best_params_svm['degree']),\n",
        "                     gamma=['scale', 'auto'][best_params_svm['gamma']])\n",
        "model_svm_test.fit(X_train, y_train)\n",
        "y_pred_svm = model_svm_test.predict(X_test)\n",
        "\n",
        "accuracy_svm = accuracy_score(y_test, y_pred_svm)\n",
        "f1_svm = f1_score(y_test, y_pred_svm, average='weighted')\n",
        "print('Test accuracy: ', accuracy_svm, '\\nTest F1: ', f1_svm)"
      ],
      "metadata": {
        "colab": {
          "base_uri": "https://localhost:8080/"
        },
        "id": "kPBjW5l1nKMb",
        "outputId": "5369aac1-4d1b-48be-8df2-92eec88ffbc2"
      },
      "execution_count": null,
      "outputs": [
        {
          "output_type": "stream",
          "name": "stdout",
          "text": [
            "Test accuracy:  0.7868852459016393 \n",
            "Test F1:  0.7793498156788098\n"
          ]
        }
      ]
    },
    {
      "cell_type": "code",
      "source": [
        "# model_svm = SVC(kernel='rbf', C=21.832, degree=6, gamma='scale')\n",
        "# acc_scores_svm = cross_val_score(model_svm, X, y, cv=10)\n",
        "# f1_scores_svm = cross_val_score(model_svm, X, y, cv=10, scoring='f1')"
      ],
      "metadata": {
        "id": "j7BfKD5IuEwT"
      },
      "execution_count": null,
      "outputs": []
    },
    {
      "cell_type": "markdown",
      "source": [
        "### Extreme Gradient Boosting Trees"
      ],
      "metadata": {
        "id": "mbOhKq6m0BG8"
      }
    },
    {
      "cell_type": "code",
      "source": [
        "l = []\n",
        "for i in range(len(X_train)):\n",
        "    l.append(list(X_train[i]))\n",
        "l = np.reshape(l, (len(X_train), 300))"
      ],
      "metadata": {
        "id": "CYzwRdSzl-L0"
      },
      "execution_count": null,
      "outputs": []
    },
    {
      "cell_type": "code",
      "source": [
        "params_range_xgb = {'max_depth': hp.quniform('max_depth', 2, 10, 1),\n",
        "                    'n_estimators': hp.quniform('n_estimators', 100, 1000, 1),\n",
        "                    'alpha': hp.uniform('alpha', 0.01, 1),\n",
        "                    'gamma': hp.uniform('gamma', 0, 10)\n",
        "}"
      ],
      "metadata": {
        "id": "x4ibZbWdl7G8"
      },
      "execution_count": null,
      "outputs": []
    },
    {
      "cell_type": "code",
      "source": [
        "model_xgb = XGBClassifier()"
      ],
      "metadata": {
        "id": "Y2_dOfqnl7G_"
      },
      "execution_count": null,
      "outputs": []
    },
    {
      "cell_type": "code",
      "source": [
        "def objective_xgb(params_range):\n",
        "    err = cross_val_score(model_xgb, l, y_train, cv = 5, scoring='accuracy').mean()\n",
        " \n",
        "    return {'loss': -err, 'status': STATUS_OK }"
      ],
      "metadata": {
        "id": "CPzMD1cFl7HB"
      },
      "execution_count": null,
      "outputs": []
    },
    {
      "cell_type": "code",
      "source": [
        "trials = Trials()\n",
        "best_params_xgb = fmin(fn= objective_xgb,\n",
        "            space= params_range_xgb,\n",
        "            algo= tpe.suggest,\n",
        "            max_evals = 25,\n",
        "            trials= trials)"
      ],
      "metadata": {
        "colab": {
          "base_uri": "https://localhost:8080/"
        },
        "outputId": "49ac6b06-cd10-49d7-e907-ed054afbccbf",
        "id": "GeijgIP_l7HC"
      },
      "execution_count": null,
      "outputs": [
        {
          "output_type": "stream",
          "name": "stdout",
          "text": [
            "100%|██████████| 25/25 [46:26<00:00, 111.45s/trial, best loss: -0.8658314350797267]\n"
          ]
        }
      ]
    },
    {
      "cell_type": "code",
      "source": [
        "print('The best parameters are:', best_params_xgb)"
      ],
      "metadata": {
        "colab": {
          "base_uri": "https://localhost:8080/"
        },
        "outputId": "b02a2ced-2a95-4243-d04d-a240f93eaeae",
        "id": "citljFcdl7HE"
      },
      "execution_count": null,
      "outputs": [
        {
          "output_type": "stream",
          "name": "stdout",
          "text": [
            "The best parameters are: {'alpha': 0.4653157912592566, 'gamma': 0.5064562394773253, 'max_depth': 8.0, 'n_estimators': 189.0}\n"
          ]
        }
      ]
    },
    {
      "cell_type": "code",
      "source": [
        "l_test = []\n",
        "for i in range(len(X_test)):\n",
        "    l_test.append(list(X_test[i]))\n",
        "l_test = np.reshape(l_test, (len(X_test), 300))"
      ],
      "metadata": {
        "id": "8smCiWYArXoE"
      },
      "execution_count": null,
      "outputs": []
    },
    {
      "cell_type": "code",
      "source": [
        "model_xgb_test = XGBClassifier(max_depth=int(best_params_xgb['max_depth']),\n",
        "                               n_estimators=int(best_params_xgb['n_estimators']),\n",
        "                               gamma=best_params_xgb['gamma'],\n",
        "                               alpha=best_params_xgb['alpha'])\n",
        "model_xgb_test.fit(l, y_train)\n",
        "y_pred_xgb = model_xgb_test.predict(l_test)\n",
        "\n",
        "accuracy_xgb = accuracy_score(y_test, y_pred_xgb)\n",
        "f1_xgb = f1_score(y_test, y_pred_xgb, average='weighted')\n",
        "print('Test accuracy: ', accuracy_xgb, '\\nTest F1: ', f1_xgb)"
      ],
      "metadata": {
        "id": "jGpqvjkA3YKl",
        "colab": {
          "base_uri": "https://localhost:8080/"
        },
        "outputId": "0700405d-1a6b-4b0d-e510-a82eb3eaa8d5"
      },
      "execution_count": null,
      "outputs": [
        {
          "output_type": "stream",
          "name": "stdout",
          "text": [
            "Test accuracy:  0.8620218579234973 \n",
            "Test F1:  0.8038258168313869\n"
          ]
        }
      ]
    },
    {
      "cell_type": "code",
      "source": [
        "# model_xgb = XGBClassifier(n_estimators=421, max_depth=3, gamma=9.08, alpha=0.035)\n",
        "# acc_scores_xgb = cross_val_score(model_xgb, l, y, cv=10)\n",
        "# f1_scores_xgb = cross_val_score(model_xgb, l, y, cv=10, scoring='f1')"
      ],
      "metadata": {
        "id": "Bp9PJZ1_z-sy"
      },
      "execution_count": null,
      "outputs": []
    },
    {
      "cell_type": "markdown",
      "source": [
        "### Multilayer perceptron"
      ],
      "metadata": {
        "id": "TdPpjX5b3v7l"
      }
    },
    {
      "cell_type": "code",
      "source": [
        "hls = []\n",
        "for i in range(20):\n",
        "    rt = np.random.randint(1,10,size=2)\n",
        "    hls.append(tuple(rt*5))\n",
        "\n",
        "    rt = np.random.randint(1,10,size=3)\n",
        "    hls.append(tuple(rt*5))\n",
        "\n",
        "    rt = np.random.randint(1,10,size=4)\n",
        "    hls.append(tuple(rt*5))\n",
        "\n",
        "    rt = np.random.randint(1,10,size=5)\n",
        "    hls.append(tuple(rt*5))"
      ],
      "metadata": {
        "id": "rd2q3dJDvxHY"
      },
      "execution_count": null,
      "outputs": []
    },
    {
      "cell_type": "code",
      "source": [
        "params_range_mlp = {'hidden_layer_sizes': hp.choice('hidden_layer_sizes', hls),\n",
        "                    'max_iter': hp.quniform('max_iter', 400, 1200, 100),\n",
        "                    'activation': hp.choice('activation', ['relu', 'identity', 'logistic', 'tanh'])\n",
        "}"
      ],
      "metadata": {
        "id": "vIZ_ng6Dm7e8"
      },
      "execution_count": null,
      "outputs": []
    },
    {
      "cell_type": "code",
      "source": [
        "model_mlp = MLPClassifier()"
      ],
      "metadata": {
        "id": "6l9Tmprim7e-"
      },
      "execution_count": null,
      "outputs": []
    },
    {
      "cell_type": "code",
      "source": [
        "def objective_mlp(params_range):\n",
        "    err = cross_val_score(model_mlp, X_train, y_train, cv = 5, scoring='accuracy').mean()\n",
        " \n",
        "    return {'loss': -err, 'status': STATUS_OK }"
      ],
      "metadata": {
        "id": "zorkNwLLm7e_"
      },
      "execution_count": null,
      "outputs": []
    },
    {
      "cell_type": "code",
      "source": [
        "trials = Trials()\n",
        "best_params_mlp = fmin(fn= objective_mlp,\n",
        "            space= params_range_mlp,\n",
        "            algo= tpe.suggest,\n",
        "            max_evals = 25,\n",
        "            trials= trials)"
      ],
      "metadata": {
        "colab": {
          "base_uri": "https://localhost:8080/"
        },
        "outputId": "b70e1bf1-8210-40cf-e0d1-255b0ee03f12",
        "id": "VIHqu295m7fA"
      },
      "execution_count": null,
      "outputs": [
        {
          "output_type": "stream",
          "name": "stdout",
          "text": [
            "100%|██████████| 25/25 [21:08<00:00, 50.72s/trial, best loss: -0.8389521640091117]\n"
          ]
        }
      ]
    },
    {
      "cell_type": "code",
      "source": [
        "print('The best parameters are:', best_params_mlp)"
      ],
      "metadata": {
        "colab": {
          "base_uri": "https://localhost:8080/"
        },
        "outputId": "f480a3e1-fb70-4882-c5c5-660cd025c0be",
        "id": "d_Hdi68nm7fB"
      },
      "execution_count": null,
      "outputs": [
        {
          "output_type": "stream",
          "name": "stdout",
          "text": [
            "The best parameters are: {'activation': 0, 'hidden_layer_sizes': 72, 'max_iter': 900.0}\n"
          ]
        }
      ]
    },
    {
      "cell_type": "code",
      "source": [
        "model_mlp_test = MLPClassifier(activation=['relu', 'identity', 'logistic', 'tanh'][best_params_mlp['activation']],\n",
        "                               max_iter=int(best_params_mlp['max_iter']),\n",
        "                               hidden_layer_sizes=hls[best_params_mlp['hidden_layer_sizes']])\n",
        "model_mlp_test.fit(X_train, y_train)\n",
        "y_pred_mlp = model_mlp_test.predict(X_test)\n",
        "\n",
        "accuracy_mlp = accuracy_score(y_test, y_pred_mlp)\n",
        "f1_mlp = f1_score(y_test, y_pred_mlp, average='weighted')\n",
        "print('Test accuracy: ', accuracy_mlp, '\\nTest F1: ', f1_mlp)"
      ],
      "metadata": {
        "colab": {
          "base_uri": "https://localhost:8080/"
        },
        "id": "xpZBg3DGLdKu",
        "outputId": "d9c8ae07-25b9-4a41-e8e1-5298b4f1d9f7"
      },
      "execution_count": null,
      "outputs": [
        {
          "output_type": "stream",
          "name": "stdout",
          "text": [
            "Test accuracy:  0.7773224043715847 \n",
            "Test F1:  0.7768421559035777\n"
          ]
        }
      ]
    },
    {
      "cell_type": "code",
      "source": [
        "print('Accuracy DT: ', accuracy_dt, '\\nF1 DT: ', f1_dt)\n",
        "print('Accuracy RF: ', accuracy_rf, '\\nF1 RF: ', f1_rf)\n",
        "print('Accuracy SVM: ', accuracy_svm, '\\nF1 SVM: ', f1_svm)\n",
        "print('Accuracy XGB: ', accuracy_xgb, '\\nF1 XGB: ', f1_xgb)\n",
        "print('Accuracy MLP: ', accuracy_mlp, '\\nF1 MLP: ', f1_mlp)"
      ],
      "metadata": {
        "id": "EeJ6j5R65MNQ",
        "colab": {
          "base_uri": "https://localhost:8080/"
        },
        "outputId": "9acec05f-fac8-4f22-b1cb-374380241fab"
      },
      "execution_count": null,
      "outputs": [
        {
          "output_type": "stream",
          "name": "stdout",
          "text": [
            "Accuracy DT:  0.8633879781420765 \n",
            "F1 DT:  0.8032744411999384\n",
            "Accuracy RF:  0.8654371584699454 \n",
            "F1 RF:  0.8030090661160166\n",
            "Accuracy SVM:  0.7868852459016393 \n",
            "F1 SVM:  0.7793498156788098\n",
            "Accuracy XGB:  0.8620218579234973 \n",
            "F1 XGB:  0.8038258168313869\n",
            "Accuracy MLP:  0.7773224043715847 \n",
            "F1 MLP:  0.7768421559035777\n"
          ]
        }
      ]
    },
    {
      "cell_type": "code",
      "source": [],
      "metadata": {
        "id": "-ajaWhZQbmf2"
      },
      "execution_count": null,
      "outputs": []
    },
    {
      "cell_type": "code",
      "source": [
        "columns = ['Average word length', 'Pausality', 'Average NP length', 'Average sentence length', 'Number of clauses', 'Number of words', 'Number of verbs', \n",
        "           'Number of adjectives', 'Number of passive voice', 'Emotiveness', 'Content diversity', 'Redundancy', 'Lexical diversity', 'Number of modal verbs', 'Number of typos']"
      ],
      "metadata": {
        "id": "KZrEnhKQOGk1"
      },
      "execution_count": null,
      "outputs": []
    },
    {
      "cell_type": "code",
      "source": [
        "df_features = pd.read_csv('/content/drive/MyDrive/Fake reviews detection/chi_hotel_features.csv')"
      ],
      "metadata": {
        "id": "UC7t1VlKZ7um"
      },
      "execution_count": null,
      "outputs": []
    },
    {
      "cell_type": "markdown",
      "source": [
        "## Experimenting"
      ],
      "metadata": {
        "id": "CD7NO18n7EPA"
      }
    },
    {
      "cell_type": "code",
      "source": [
        "#df_f1 = df_features[['Average word length', 'Content diversity', 'Emotiveness']]\n",
        "df_f1 = df_features"
      ],
      "metadata": {
        "id": "CyyknDoF45Zl"
      },
      "execution_count": null,
      "outputs": []
    },
    {
      "cell_type": "code",
      "source": [
        "X_train1, X_test1, y_train1, y_test1 = train_test_split(df_f1, df['Real'], test_size = 0.33, random_state=0)"
      ],
      "metadata": {
        "id": "Cy-Yu9L17HdB"
      },
      "execution_count": null,
      "outputs": []
    },
    {
      "cell_type": "markdown",
      "source": [
        "### Decision tree + features"
      ],
      "metadata": {
        "id": "Cj0ev_afbnOv"
      }
    },
    {
      "cell_type": "code",
      "source": [
        "params_range_dt = {'criterion': hp.choice('criterion', ['gini', 'entropy']),\n",
        "                   'max_depth': hp.quniform('max_depth', 2, 10, 1),\n",
        "                   'splitter': hp.choice('splitter', ['best', 'random'])\n",
        "}"
      ],
      "metadata": {
        "id": "_RJZAUdT5qvs"
      },
      "execution_count": null,
      "outputs": []
    },
    {
      "cell_type": "code",
      "source": [
        "model_dt_f = DecisionTreeClassifier()"
      ],
      "metadata": {
        "id": "LELXkaBa5qvt"
      },
      "execution_count": null,
      "outputs": []
    },
    {
      "cell_type": "code",
      "source": [
        "def objective_dt_f(params_range):\n",
        "    err = cross_val_score(model_dt_f, X_train1, y_train1, cv = 5, scoring='accuracy').mean()\n",
        " \n",
        "    return {'loss': -err, 'status': STATUS_OK }"
      ],
      "metadata": {
        "id": "42fS9MYF5qvu"
      },
      "execution_count": null,
      "outputs": []
    },
    {
      "cell_type": "code",
      "source": [
        "trials = Trials()\n",
        "best_params_dt_f = fmin(fn= objective_dt_f,\n",
        "            space= params_range_dt,\n",
        "            algo= tpe.suggest,\n",
        "            max_evals = 50,\n",
        "            trials= trials)"
      ],
      "metadata": {
        "colab": {
          "base_uri": "https://localhost:8080/"
        },
        "outputId": "19257474-6382-4cc5-fb7b-f91b580bf9d3",
        "id": "rUOOJEFQ5qvu"
      },
      "execution_count": null,
      "outputs": [
        {
          "output_type": "stream",
          "name": "stdout",
          "text": [
            "100%|██████████| 50/50 [00:14<00:00,  3.35trial/s, best loss: -0.7580407513323799]\n"
          ]
        }
      ]
    },
    {
      "cell_type": "code",
      "source": [
        "print('The best parameters are:', best_params_dt_f)"
      ],
      "metadata": {
        "colab": {
          "base_uri": "https://localhost:8080/"
        },
        "outputId": "0b6b3d31-b300-4b78-a6ef-daf0c05cc20f",
        "id": "7hQ-0HAa5qvv"
      },
      "execution_count": null,
      "outputs": [
        {
          "output_type": "stream",
          "name": "stdout",
          "text": [
            "The best parameters are: {'criterion': 1, 'max_depth': 8.0, 'splitter': 0}\n"
          ]
        }
      ]
    },
    {
      "cell_type": "code",
      "source": [
        "model_dt_test_f = DecisionTreeClassifier(criterion=['gini', 'entropy'][best_params_dt_f['criterion']],\n",
        "                                       max_depth=int(best_params_dt_f['max_depth']),\n",
        "                                       splitter=['best', 'random'][best_params_dt_f['splitter']])\n",
        "model_dt_test_f.fit(X_train1, y_train1)\n",
        "y_pred_dt_f = model_dt_test_f.predict(X_test1)\n",
        "\n",
        "accuracy_dt_f = accuracy_score(y_test1, y_pred_dt_f)\n",
        "f1_dt_f = f1_score(y_test1, y_pred_dt_f, average='weighted')\n",
        "print('Test accuracy: ', accuracy_dt_f, '\\nTest F1: ', f1_dt_f)"
      ],
      "metadata": {
        "colab": {
          "base_uri": "https://localhost:8080/"
        },
        "outputId": "641ce72b-213a-429b-9ee3-01a109546263",
        "id": "vfsUJW_w5qvv"
      },
      "execution_count": null,
      "outputs": [
        {
          "output_type": "stream",
          "name": "stdout",
          "text": [
            "Test accuracy:  0.8524844720496895 \n",
            "Test F1:  0.8095973146140371\n"
          ]
        }
      ]
    },
    {
      "cell_type": "code",
      "source": [],
      "metadata": {
        "id": "naf12lV25rxo"
      },
      "execution_count": null,
      "outputs": []
    },
    {
      "cell_type": "code",
      "source": [
        "# model_dt_f = DecisionTreeClassifier(criterion='gini', max_depth=3, splitter='best')\n",
        "# acc_scores_dt_f = cross_val_score(model_dt_f, X_train1, y_train1, cv=10)\n",
        "# f1_scores_dt_f = cross_val_score(model_dt_f, X_train1, y_train1, cv=10, scoring='f1')"
      ],
      "metadata": {
        "id": "QxJPr4XBbmjy"
      },
      "execution_count": null,
      "outputs": []
    },
    {
      "cell_type": "code",
      "source": [
        "# cv = StratifiedKFold(n_splits=10)\n",
        "# for (train, test), i in zip(cv.split(X_train1, y_train1), range(10)):\n",
        "#     model_dt_f.fit(X_train1, y_train1)"
      ],
      "metadata": {
        "id": "xXOR5Cn4CIIx"
      },
      "execution_count": null,
      "outputs": []
    },
    {
      "cell_type": "markdown",
      "source": [
        "### Random Forest + features"
      ],
      "metadata": {
        "id": "2UQ2ufvHjDvL"
      }
    },
    {
      "cell_type": "code",
      "source": [
        "params_range_rf = {'criterion': hp.choice('criterion', ['gini', 'entropy']),\n",
        "                   'max_depth': hp.quniform('max_depth', 2, 10, 1),\n",
        "                   'n_estimators': hp.quniform('n_estimators', 100, 1000, 1)\n",
        "}"
      ],
      "metadata": {
        "id": "0CC_Ki9r6grN"
      },
      "execution_count": null,
      "outputs": []
    },
    {
      "cell_type": "code",
      "source": [
        "model_rf_f = RandomForestClassifier()"
      ],
      "metadata": {
        "id": "7HXV4JSs6grN"
      },
      "execution_count": null,
      "outputs": []
    },
    {
      "cell_type": "code",
      "source": [
        "def objective_rf_f(params_range):\n",
        "    err = cross_val_score(model_rf_f, X_train1, y_train1, cv = 5, scoring='accuracy').mean()\n",
        " \n",
        "    return {'loss': -err, 'status': STATUS_OK }"
      ],
      "metadata": {
        "id": "rLoaUAnV6grO"
      },
      "execution_count": null,
      "outputs": []
    },
    {
      "cell_type": "code",
      "source": [
        "trials = Trials()\n",
        "best_params_rf_f = fmin(fn= objective_rf_f,\n",
        "            space= params_range_rf,\n",
        "            algo= tpe.suggest,\n",
        "            max_evals = 50,\n",
        "            trials= trials)"
      ],
      "metadata": {
        "colab": {
          "base_uri": "https://localhost:8080/"
        },
        "outputId": "b83128d1-28c9-428f-f57f-50bd68f37487",
        "id": "7BYDMuqe6grO"
      },
      "execution_count": null,
      "outputs": [
        {
          "output_type": "stream",
          "name": "stdout",
          "text": [
            "100%|██████████| 50/50 [04:09<00:00,  4.99s/trial, best loss: -0.8671594306512415]\n"
          ]
        }
      ]
    },
    {
      "cell_type": "code",
      "source": [
        "print('The best parameters are:', best_params_rf_f)"
      ],
      "metadata": {
        "colab": {
          "base_uri": "https://localhost:8080/"
        },
        "outputId": "d6afaf03-2152-4a67-e4a1-efaa06315dd7",
        "id": "DUHb6MUD6grP"
      },
      "execution_count": null,
      "outputs": [
        {
          "output_type": "stream",
          "name": "stdout",
          "text": [
            "The best parameters are: {'criterion': 0, 'max_depth': 8.0, 'n_estimators': 117.0}\n"
          ]
        }
      ]
    },
    {
      "cell_type": "code",
      "source": [
        "model_rf_test_f = RandomForestClassifier(criterion=['gini', 'entropy'][best_params_rf_f['criterion']],\n",
        "                                       max_depth=int(best_params_rf_f['max_depth']),\n",
        "                                       n_estimators=int(best_params_rf_f['n_estimators']))\n",
        "model_rf_test_f.fit(X_train1, y_train1)\n",
        "y_pred_rf_f = model_rf_test_f.predict(X_test1)\n",
        "\n",
        "accuracy_rf_f = accuracy_score(y_test1, y_pred_rf_f)\n",
        "f1_rf_f = f1_score(y_test1, y_pred_rf_f, average='weighted')\n",
        "print('Test accuracy: ', accuracy_rf_f, '\\nTest F1: ', f1_rf_f)"
      ],
      "metadata": {
        "colab": {
          "base_uri": "https://localhost:8080/"
        },
        "outputId": "7cbdb9a1-64f4-4116-f4fb-c23bd24798c5",
        "id": "GZIoK3re6grP"
      },
      "execution_count": null,
      "outputs": [
        {
          "output_type": "stream",
          "name": "stdout",
          "text": [
            "Test accuracy:  0.8664596273291926 \n",
            "Test F1:  0.8044666756234434\n"
          ]
        }
      ]
    },
    {
      "cell_type": "code",
      "source": [],
      "metadata": {
        "id": "5KOKgQR_6hYO"
      },
      "execution_count": null,
      "outputs": []
    },
    {
      "cell_type": "code",
      "source": [
        "# model_rf_f = RandomForestClassifier(n_estimators=827, criterion='entropy', max_depth=4)\n",
        "# acc_scores_rf_f = cross_val_score(model_rf_f, X_train1, y_train1, cv=10)\n",
        "# f1_scores_rf_f = cross_val_score(model_rf_f, X_train1, y_train1, cv=10, scoring='f1')"
      ],
      "metadata": {
        "id": "bciOrFINjDvN"
      },
      "execution_count": null,
      "outputs": []
    },
    {
      "cell_type": "code",
      "source": [
        "# cv = StratifiedKFold(n_splits=10)\n",
        "# for (train, test), i in zip(cv.split(X_train1, y_train1), range(10)):\n",
        "#     model_rf_f.fit(X_train1, y_train1)"
      ],
      "metadata": {
        "id": "WyVrW6sOF2ca"
      },
      "execution_count": null,
      "outputs": []
    },
    {
      "cell_type": "code",
      "source": [],
      "metadata": {
        "id": "R8pwCiPosig5"
      },
      "execution_count": null,
      "outputs": []
    },
    {
      "cell_type": "markdown",
      "source": [
        "### Support Vector Machine + features"
      ],
      "metadata": {
        "id": "hmLJ1hFusisc"
      }
    },
    {
      "cell_type": "code",
      "source": [
        "params_range_svm = {'kernel': hp.choice('kernel', ['rbf', 'linear', 'polynomial', 'sigmoid']),\n",
        "                    'C': hp.uniform('C', 0.1, 1000),\n",
        "                    'degree': hp.quniform('degree', 2, 10, 1),\n",
        "                    'gamma': hp.choice('gamma', ['scale', 'auto'])\n",
        "}"
      ],
      "metadata": {
        "id": "4EsyIPGn7rY1"
      },
      "execution_count": null,
      "outputs": []
    },
    {
      "cell_type": "code",
      "source": [
        "model_svm_f = SVC()"
      ],
      "metadata": {
        "id": "PMW7SYl-7rY2"
      },
      "execution_count": null,
      "outputs": []
    },
    {
      "cell_type": "code",
      "source": [
        "def objective_svm_f(params_range):\n",
        "    err = cross_val_score(model_svm_f, X_train1, y_train1, cv = 5, scoring='accuracy').mean()\n",
        " \n",
        "    return {'loss': -err, 'status': STATUS_OK }"
      ],
      "metadata": {
        "id": "txJBa23R7rY3"
      },
      "execution_count": null,
      "outputs": []
    },
    {
      "cell_type": "code",
      "source": [
        "trials = Trials()\n",
        "best_params_svm_f = fmin(fn= objective_svm_f,\n",
        "            space= params_range_svm,\n",
        "            algo= tpe.suggest,\n",
        "            max_evals = 50,\n",
        "            trials= trials)"
      ],
      "metadata": {
        "colab": {
          "base_uri": "https://localhost:8080/"
        },
        "outputId": "b630a07c-b8d7-445b-93f8-56e1af74e55b",
        "id": "TJwAjfEH7rY3"
      },
      "execution_count": null,
      "outputs": [
        {
          "output_type": "stream",
          "name": "stdout",
          "text": [
            "100%|██████████| 50/50 [01:18<00:00,  1.57s/trial, best loss: -0.8674145326920577]\n"
          ]
        }
      ]
    },
    {
      "cell_type": "code",
      "source": [
        "print('The best parameters are:', best_params_svm_f)"
      ],
      "metadata": {
        "colab": {
          "base_uri": "https://localhost:8080/"
        },
        "outputId": "a3f50127-9fdd-4cfc-fa91-0d76fdf69e40",
        "id": "ppkIdg-B7rY4"
      },
      "execution_count": null,
      "outputs": [
        {
          "output_type": "stream",
          "name": "stdout",
          "text": [
            "The best parameters are: {'C': 645.3771328311205, 'degree': 4.0, 'gamma': 1, 'kernel': 0}\n"
          ]
        }
      ]
    },
    {
      "cell_type": "code",
      "source": [
        "model_svm_test_f = SVC(kernel=['rbf', 'linear', 'polynomial', 'sigmoid'][best_params_svm_f['kernel']],\n",
        "                     C=best_params_svm_f['C'],\n",
        "                     degree=int(best_params_svm_f['degree']),\n",
        "                     gamma=['scale', 'auto'][best_params_svm_f['gamma']])\n",
        "model_svm_test_f.fit(X_train1, y_train1)\n",
        "y_pred_svm_f= model_svm_test_f.predict(X_test1)\n",
        "\n",
        "accuracy_svm_f = accuracy_score(y_test1, y_pred_svm_f)\n",
        "f1_svm_f = f1_score(y_test1, y_pred_svm_f, average='weighted')\n",
        "print('Test accuracy: ', accuracy_svm_f, '\\nTest F1: ', f1_svm_f)"
      ],
      "metadata": {
        "colab": {
          "base_uri": "https://localhost:8080/"
        },
        "outputId": "ecfd1b56-5685-4be1-d69c-ad77a268e2e3",
        "id": "VBYIAMRw7rY6"
      },
      "execution_count": null,
      "outputs": [
        {
          "output_type": "stream",
          "name": "stdout",
          "text": [
            "Test accuracy:  0.8255693581780539 \n",
            "Test F1:  0.7963010063571581\n"
          ]
        }
      ]
    },
    {
      "cell_type": "code",
      "source": [
        "# model_svm_f = SVC(kernel='rbf', C=21.832, degree=6, gamma='scale')\n",
        "# acc_scores_svm_f = cross_val_score(model_svm_f, X_train1, y_train1, cv=10)\n",
        "# f1_scores_svm_f= cross_val_score(model_svm_f, X_train1, y_train1, cv=10, scoring='f1')"
      ],
      "metadata": {
        "id": "8SVsA9J0sise"
      },
      "execution_count": null,
      "outputs": []
    },
    {
      "cell_type": "code",
      "source": [
        "# cv = StratifiedKFold(n_splits=10)\n",
        "# for (train, test), i in zip(cv.split(X_train1, y_train1), range(10)):\n",
        "#     model_svm_f.fit(X_train1, y_train1)"
      ],
      "metadata": {
        "id": "VTCzgF-TGv_C"
      },
      "execution_count": null,
      "outputs": []
    },
    {
      "cell_type": "code",
      "source": [],
      "metadata": {
        "id": "2dhSpeQosymz"
      },
      "execution_count": null,
      "outputs": []
    },
    {
      "cell_type": "markdown",
      "source": [
        "### Extreme Gradient Boosting Trees"
      ],
      "metadata": {
        "id": "z5OkIJYTsyzZ"
      }
    },
    {
      "cell_type": "code",
      "source": [
        "params_range_xgb = {'max_depth': hp.quniform('max_depth', 2, 10, 1),\n",
        "                    'n_estimators': hp.quniform('n_estimators', 100, 1000, 1),\n",
        "                    'alpha': hp.uniform('alpha', 0.01, 1),\n",
        "                    'gamma': hp.uniform('gamma', 0, 10)\n",
        "}"
      ],
      "metadata": {
        "id": "cXS5J9Sw8Rjq"
      },
      "execution_count": null,
      "outputs": []
    },
    {
      "cell_type": "code",
      "source": [
        "model_xgb_f = XGBClassifier()"
      ],
      "metadata": {
        "id": "8idg1BgR8Rjq"
      },
      "execution_count": null,
      "outputs": []
    },
    {
      "cell_type": "code",
      "source": [
        "def objective_xgb_f(params_range):\n",
        "    err = cross_val_score(model_xgb_f, X_train1, y_train1, cv = 5, scoring='accuracy').mean()\n",
        " \n",
        "    return {'loss': -err, 'status': STATUS_OK }"
      ],
      "metadata": {
        "id": "aqOpxizl8Rjr"
      },
      "execution_count": null,
      "outputs": []
    },
    {
      "cell_type": "code",
      "source": [
        "trials = Trials()\n",
        "best_params_xgb_f = fmin(fn= objective_xgb_f,\n",
        "            space= params_range_xgb,\n",
        "            algo= tpe.suggest,\n",
        "            max_evals = 25,\n",
        "            trials= trials)"
      ],
      "metadata": {
        "colab": {
          "base_uri": "https://localhost:8080/"
        },
        "outputId": "6459b0e8-0816-45b5-a4e2-8c063215ef71",
        "id": "PbNhD45d8Rjr"
      },
      "execution_count": null,
      "outputs": [
        {
          "output_type": "stream",
          "name": "stdout",
          "text": [
            "100%|██████████| 25/25 [01:36<00:00,  3.84s/trial, best loss: -0.8521171844533992]\n"
          ]
        }
      ]
    },
    {
      "cell_type": "code",
      "source": [
        "print('The best parameters are:', best_params_xgb_f)"
      ],
      "metadata": {
        "colab": {
          "base_uri": "https://localhost:8080/"
        },
        "outputId": "c4d1d056-d5b0-4d35-b240-9465e87ce255",
        "id": "AAmCIp6p8Rjs"
      },
      "execution_count": null,
      "outputs": [
        {
          "output_type": "stream",
          "name": "stdout",
          "text": [
            "The best parameters are: {'alpha': 0.6722998212659704, 'gamma': 3.9502959793516057, 'max_depth': 6.0, 'n_estimators': 721.0}\n"
          ]
        }
      ]
    },
    {
      "cell_type": "code",
      "source": [
        "model_xgb_test_f = XGBClassifier(max_depth=int(best_params_xgb_f['max_depth']),\n",
        "                               n_estimators=int(best_params_xgb_f['n_estimators']),\n",
        "                               gamma=best_params_xgb_f['gamma'],\n",
        "                               alpha=best_params_xgb_f['alpha'])\n",
        "model_xgb_test_f.fit(X_train1, y_train1)\n",
        "y_pred_xgb_f = model_xgb_test_f.predict(X_test1)\n",
        "\n",
        "accuracy_xgb_f = accuracy_score(y_test1, y_pred_xgb_f)\n",
        "f1_xgb_f = f1_score(y_test1, y_pred_xgb_f, average='weighted')\n",
        "print('Test accuracy: ', accuracy_xgb_f, '\\nTest F1: ', f1_xgb_f)"
      ],
      "metadata": {
        "colab": {
          "base_uri": "https://localhost:8080/"
        },
        "outputId": "974c0e29-5995-4420-f776-78d0b053aaa3",
        "id": "I-I-SY8e8Rjt"
      },
      "execution_count": null,
      "outputs": [
        {
          "output_type": "stream",
          "name": "stdout",
          "text": [
            "Test accuracy:  0.8659420289855072 \n",
            "Test F1:  0.8071289057825515\n"
          ]
        }
      ]
    },
    {
      "cell_type": "code",
      "source": [],
      "metadata": {
        "id": "VWA_4YAc8TiG"
      },
      "execution_count": null,
      "outputs": []
    },
    {
      "cell_type": "code",
      "source": [
        "# model_xgb_f = XGBClassifier(n_estimators=421, max_depth=3, gamma=9.08, alpha=0.035)\n",
        "# acc_scores_xgb_f = cross_val_score(model_xgb_f, X_train1, y_train1, cv=10)\n",
        "# f1_scores_xgb_f = cross_val_score(model_xgb_f, X_train1, y_train1, cv=10, scoring='f1')"
      ],
      "metadata": {
        "id": "e6L3i9xQsyzb"
      },
      "execution_count": null,
      "outputs": []
    },
    {
      "cell_type": "code",
      "source": [],
      "metadata": {
        "id": "Zsgoz-VAtTyi"
      },
      "execution_count": null,
      "outputs": []
    },
    {
      "cell_type": "code",
      "source": [
        "# cv = StratifiedKFold(n_splits=10)\n",
        "# for (train, test), i in zip(cv.split(X_train1, y_train1), range(10)):\n",
        "#     model_xgb_f.fit(X_train1, y_train1)"
      ],
      "metadata": {
        "id": "RFwuUz7KHBMo"
      },
      "execution_count": null,
      "outputs": []
    },
    {
      "cell_type": "code",
      "source": [],
      "metadata": {
        "id": "hoq5NoaltpyN"
      },
      "execution_count": null,
      "outputs": []
    },
    {
      "cell_type": "markdown",
      "source": [
        "### Multilayer perceptron + features"
      ],
      "metadata": {
        "id": "3Ijy0Lkstp94"
      }
    },
    {
      "cell_type": "code",
      "source": [
        "hls = []\n",
        "for i in range(20):\n",
        "    rt = np.random.randint(1,10,size=2)\n",
        "    hls.append(tuple(rt*5))\n",
        "\n",
        "    rt = np.random.randint(1,10,size=3)\n",
        "    hls.append(tuple(rt*5))\n",
        "\n",
        "    rt = np.random.randint(1,10,size=4)\n",
        "    hls.append(tuple(rt*5))\n",
        "\n",
        "    rt = np.random.randint(1,10,size=5)\n",
        "    hls.append(tuple(rt*5))"
      ],
      "metadata": {
        "id": "Y0iSasfE-T6M"
      },
      "execution_count": null,
      "outputs": []
    },
    {
      "cell_type": "code",
      "source": [
        "params_range_mlp = {'hidden_layer_sizes': hp.choice('hidden_layer_sizes', hls),\n",
        "                    'max_iter': hp.quniform('max_iter', 400, 1200, 100),\n",
        "                    'activation': hp.choice('activation', ['relu', 'identity', 'logistic', 'tanh'])\n",
        "}"
      ],
      "metadata": {
        "id": "IO8cubR3-T6O"
      },
      "execution_count": null,
      "outputs": []
    },
    {
      "cell_type": "code",
      "source": [
        "model_mlp_f = MLPClassifier()"
      ],
      "metadata": {
        "id": "3Lekt_JC-T6P"
      },
      "execution_count": null,
      "outputs": []
    },
    {
      "cell_type": "code",
      "source": [
        "def objective_mlp_f(params_range):\n",
        "    err = cross_val_score(model_mlp_f, X_train1, y_train1, cv = 5, scoring='accuracy').mean()\n",
        " \n",
        "    return {'loss': -err, 'status': STATUS_OK }"
      ],
      "metadata": {
        "id": "61F_Agze-T6Q"
      },
      "execution_count": null,
      "outputs": []
    },
    {
      "cell_type": "code",
      "source": [
        "trials = Trials()\n",
        "best_params_mlp_f = fmin(fn= objective_mlp_f,\n",
        "            space= params_range_mlp,\n",
        "            algo= tpe.suggest,\n",
        "            max_evals = 25,\n",
        "            trials= trials)"
      ],
      "metadata": {
        "colab": {
          "base_uri": "https://localhost:8080/"
        },
        "outputId": "08411816-b6f2-4936-cbde-f0c9bd1cb43d",
        "id": "6lE4k7ET-T6R"
      },
      "execution_count": null,
      "outputs": [
        {
          "output_type": "stream",
          "name": "stdout",
          "text": [
            "100%|██████████| 25/25 [02:30<00:00,  6.02s/trial, best loss: -0.8674145326920577]\n"
          ]
        }
      ]
    },
    {
      "cell_type": "code",
      "source": [
        "print('The best parameters are:', best_params_mlp_f)"
      ],
      "metadata": {
        "colab": {
          "base_uri": "https://localhost:8080/"
        },
        "outputId": "53d4be4a-a84a-4b0b-d5b8-ee8459f1d5f8",
        "id": "a9o1larM-T6T"
      },
      "execution_count": null,
      "outputs": [
        {
          "output_type": "stream",
          "name": "stdout",
          "text": [
            "The best parameters are: {'activation': 0, 'hidden_layer_sizes': 21, 'max_iter': 900.0}\n"
          ]
        }
      ]
    },
    {
      "cell_type": "code",
      "source": [
        "model_mlp_test_f = MLPClassifier(activation=['relu', 'identity', 'logistic', 'tanh'][best_params_mlp_f['activation']],\n",
        "                               max_iter=int(best_params_mlp_f['max_iter']),\n",
        "                               hidden_layer_sizes=hls[best_params_mlp_f['hidden_layer_sizes']])\n",
        "model_mlp_test_f.fit(X_train1, y_train1)\n",
        "y_pred_mlp_f = model_mlp_test_f.predict(X_test1)\n",
        "\n",
        "accuracy_mlp_f = accuracy_score(y_test1, y_pred_mlp_f)\n",
        "f1_mlp_f = f1_score(y_test1, y_pred_mlp_f, average='weighted')\n",
        "print('Test accuracy: ', accuracy_mlp_f, '\\nTest F1: ', f1_mlp_f)"
      ],
      "metadata": {
        "colab": {
          "base_uri": "https://localhost:8080/"
        },
        "outputId": "51fc03a2-afa9-46fd-cc20-b3e412155b2c",
        "id": "SnzZfMhy-T6U"
      },
      "execution_count": null,
      "outputs": [
        {
          "output_type": "stream",
          "name": "stdout",
          "text": [
            "Test accuracy:  0.8664596273291926 \n",
            "Test F1:  0.8044666756234434\n"
          ]
        }
      ]
    },
    {
      "cell_type": "code",
      "source": [],
      "metadata": {
        "id": "b1DfdyJfLhTX"
      },
      "execution_count": null,
      "outputs": []
    },
    {
      "cell_type": "code",
      "source": [],
      "metadata": {
        "id": "wFPhSp_zExpp"
      },
      "execution_count": null,
      "outputs": []
    },
    {
      "cell_type": "code",
      "source": [
        "print('Accuracy DT: ', accuracy_dt_f, '\\nF1 DT: ', f1_dt_f)\n",
        "print('Accuracy RF: ', accuracy_rf_f, '\\nF1 RF: ', f1_rf_f)\n",
        "print('Accuracy SVM: ', accuracy_svm_f, '\\nF1 SVM: ', f1_svm_f)\n",
        "print('Accuracy XGB: ', accuracy_xgb_f, '\\nF1 XGB: ', f1_xgb_f)\n",
        "print('Accuracy MLP: ', accuracy_mlp_f, '\\nF1 MLP: ', f1_mlp_f)"
      ],
      "metadata": {
        "colab": {
          "base_uri": "https://localhost:8080/"
        },
        "id": "pGZ2P6mLExvj",
        "outputId": "7699b0e3-cb86-4378-b377-6df2e2a0b8e8"
      },
      "execution_count": null,
      "outputs": [
        {
          "output_type": "stream",
          "name": "stdout",
          "text": [
            "Accuracy DT:  0.8524844720496895 \n",
            "F1 DT:  0.8095973146140371\n",
            "Accuracy RF:  0.8664596273291926 \n",
            "F1 RF:  0.8044666756234434\n",
            "Accuracy SVM:  0.8255693581780539 \n",
            "F1 SVM:  0.7963010063571581\n",
            "Accuracy XGB:  0.8659420289855072 \n",
            "F1 XGB:  0.8071289057825515\n",
            "Accuracy MLP:  0.8664596273291926 \n",
            "F1 MLP:  0.8044666756234434\n"
          ]
        }
      ]
    },
    {
      "cell_type": "code",
      "source": [],
      "metadata": {
        "id": "hq377AI_zoEO"
      },
      "execution_count": null,
      "outputs": []
    }
  ],
  "metadata": {
    "kernelspec": {
      "display_name": "Python 3",
      "name": "python3"
    },
    "language_info": {
      "codemirror_mode": {
        "name": "ipython",
        "version": 3
      },
      "file_extension": ".py",
      "mimetype": "text/x-python",
      "name": "python",
      "nbconvert_exporter": "python",
      "pygments_lexer": "ipython3",
      "version": "3.8.5"
    },
    "colab": {
      "provenance": [],
      "gpuType": "T4",
      "toc_visible": true
    },
    "accelerator": "GPU"
  },
  "nbformat": 4,
  "nbformat_minor": 0
}