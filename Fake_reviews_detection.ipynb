{
  "cells": [
    {
      "cell_type": "code",
      "execution_count": null,
      "metadata": {
        "id": "SLXQioQ7gfJB"
      },
      "outputs": [],
      "source": [
        "import numpy as np\n",
        "import pandas as pd"
      ]
    },
    {
      "cell_type": "code",
      "source": [
        "import seaborn as sn\n",
        "import matplotlib.pyplot as plt"
      ],
      "metadata": {
        "id": "81Y_t1AAYhJu"
      },
      "execution_count": null,
      "outputs": []
    },
    {
      "cell_type": "code",
      "execution_count": null,
      "metadata": {
        "id": "lWwO9hqwgfJG"
      },
      "outputs": [],
      "source": [
        "import nltk\n",
        "from nltk.corpus import stopwords\n",
        "from nltk.tokenize import word_tokenize\n",
        "import re\n",
        "from gensim.models.doc2vec import Doc2Vec, TaggedDocument"
      ]
    },
    {
      "cell_type": "code",
      "execution_count": null,
      "metadata": {
        "colab": {
          "base_uri": "https://localhost:8080/"
        },
        "id": "A3nJNqbygfJI",
        "outputId": "2052733a-7a57-49f4-9314-f789786ef781"
      },
      "outputs": [
        {
          "output_type": "stream",
          "name": "stderr",
          "text": [
            "[nltk_data] Downloading package stopwords to /root/nltk_data...\n",
            "[nltk_data]   Package stopwords is already up-to-date!\n",
            "[nltk_data] Downloading package punkt to /root/nltk_data...\n",
            "[nltk_data]   Package punkt is already up-to-date!\n"
          ]
        },
        {
          "output_type": "execute_result",
          "data": {
            "text/plain": [
              "True"
            ]
          },
          "metadata": {},
          "execution_count": 4
        }
      ],
      "source": [
        "nltk.download('stopwords')\n",
        "nltk.download('punkt')"
      ]
    },
    {
      "cell_type": "code",
      "source": [
        "from sklearn.model_selection import train_test_split, cross_val_score"
      ],
      "metadata": {
        "id": "K2zi1PiJqZNH"
      },
      "execution_count": null,
      "outputs": []
    },
    {
      "cell_type": "code",
      "source": [
        "from sklearn.ensemble import RandomForestClassifier\n",
        "from sklearn.tree import DecisionTreeClassifier\n",
        "from sklearn.svm import SVC\n",
        "from xgboost import XGBClassifier\n",
        "from sklearn.neural_network import MLPClassifier"
      ],
      "metadata": {
        "id": "qKimRNzarfsX"
      },
      "execution_count": null,
      "outputs": []
    },
    {
      "cell_type": "code",
      "source": [
        "from sklearn.metrics import accuracy_score, f1_score\n",
        "from sklearn.feature_selection import RFECV\n",
        "from sklearn.pipeline import Pipeline\n",
        "from sklearn.model_selection import StratifiedKFold, cross_val_score"
      ],
      "metadata": {
        "id": "UrTsJHr4sFHU"
      },
      "execution_count": null,
      "outputs": []
    },
    {
      "cell_type": "code",
      "source": [
        "import spacy"
      ],
      "metadata": {
        "id": "6vkei1y7_MJf"
      },
      "execution_count": null,
      "outputs": []
    },
    {
      "cell_type": "code",
      "source": [
        "#!pip install contextualSpellCheck"
      ],
      "metadata": {
        "id": "NhD1IBzwor8p"
      },
      "execution_count": null,
      "outputs": []
    },
    {
      "cell_type": "code",
      "source": [
        "import contextualSpellCheck"
      ],
      "metadata": {
        "id": "EKTyX3m9_nn5"
      },
      "execution_count": null,
      "outputs": []
    },
    {
      "cell_type": "code",
      "source": [
        "#!pip install autocorrect"
      ],
      "metadata": {
        "id": "AzgrinezI2cK"
      },
      "execution_count": null,
      "outputs": []
    },
    {
      "cell_type": "code",
      "source": [
        "from autocorrect import Speller"
      ],
      "metadata": {
        "id": "a-jy_Q4X8y8M"
      },
      "execution_count": null,
      "outputs": []
    },
    {
      "cell_type": "code",
      "source": [
        "from spacy.matcher import Matcher"
      ],
      "metadata": {
        "id": "eHpOXhkzRiJ9"
      },
      "execution_count": null,
      "outputs": []
    },
    {
      "cell_type": "code",
      "execution_count": null,
      "metadata": {
        "id": "odKO_IV8gfJN"
      },
      "outputs": [],
      "source": [
        "df = pd.read_csv('restaurant_reviews_anonymized.csv', encoding='ISO-8859-1')"
      ]
    },
    {
      "cell_type": "code",
      "execution_count": null,
      "metadata": {
        "colab": {
          "base_uri": "https://localhost:8080/",
          "height": 664
        },
        "id": "iWT5a27fgfJN",
        "outputId": "0fae0f00-1e70-4ca3-af92-983bbcdc073e"
      },
      "outputs": [
        {
          "output_type": "execute_result",
          "data": {
            "text/plain": [
              "          Restaurant                                             Review  Real  \\\n",
              "0    Rose Restaurant  Great food and great atmosphere! The chicken t...     0   \n",
              "1    Rose Restaurant  I had heard good things about Rose Restaurant ...     0   \n",
              "2    Rose Restaurant  I was driving by rose restaurant one day and d...     0   \n",
              "3    Rose Restaurant  Rose Restaurant had the most modern and up-to-...     0   \n",
              "4  Gloria Restaurant  Today is the third time I've come to Gloria Re...     0   \n",
              "\n",
              "   Reviewer    F1-AWL    F2-PAU     F3-ANP     F4-ASL  F5-NCL  F6-NWO  ...  \\\n",
              "0         3  4.465909  1.000000  14.250000  17.600000       5      88  ...   \n",
              "1         3  3.838983  1.500000  10.000000  19.666667       6     118  ...   \n",
              "2         3  3.377049  1.142857   8.923077  17.428571       7     122  ...   \n",
              "3         3  4.044118  1.750000  17.500000  17.000000       4      68  ...   \n",
              "4         3  4.071429  1.500000  10.700000  14.000000       6      84  ...   \n",
              "\n",
              "    F13-LXD  F14-NMV  F15-NTY  Unnamed: 19  Unnamed: 20  Unnamed: 21  \\\n",
              "0  0.795181        0        0          NaN          NaN          NaN   \n",
              "1  0.752294        0        0          NaN          NaN          NaN   \n",
              "2  0.675439        0        0          NaN          NaN          NaN   \n",
              "3  0.819672        0        0          NaN          NaN          NaN   \n",
              "4  0.786667        0        0          NaN          NaN          NaN   \n",
              "\n",
              "   Unnamed: 22  Unnamed: 23  Unnamed: 24  Unnamed: 25  \n",
              "0          NaN          NaN          NaN          NaN  \n",
              "1          NaN          NaN          NaN          NaN  \n",
              "2          NaN          NaN          NaN          NaN  \n",
              "3          NaN          NaN          NaN          NaN  \n",
              "4          NaN          NaN          NaN          NaN  \n",
              "\n",
              "[5 rows x 26 columns]"
            ],
            "text/html": [
              "\n",
              "  <div id=\"df-dc2ab5ba-2a97-400e-a0e9-3a6a61258254\">\n",
              "    <div class=\"colab-df-container\">\n",
              "      <div>\n",
              "<style scoped>\n",
              "    .dataframe tbody tr th:only-of-type {\n",
              "        vertical-align: middle;\n",
              "    }\n",
              "\n",
              "    .dataframe tbody tr th {\n",
              "        vertical-align: top;\n",
              "    }\n",
              "\n",
              "    .dataframe thead th {\n",
              "        text-align: right;\n",
              "    }\n",
              "</style>\n",
              "<table border=\"1\" class=\"dataframe\">\n",
              "  <thead>\n",
              "    <tr style=\"text-align: right;\">\n",
              "      <th></th>\n",
              "      <th>Restaurant</th>\n",
              "      <th>Review</th>\n",
              "      <th>Real</th>\n",
              "      <th>Reviewer</th>\n",
              "      <th>F1-AWL</th>\n",
              "      <th>F2-PAU</th>\n",
              "      <th>F3-ANP</th>\n",
              "      <th>F4-ASL</th>\n",
              "      <th>F5-NCL</th>\n",
              "      <th>F6-NWO</th>\n",
              "      <th>...</th>\n",
              "      <th>F13-LXD</th>\n",
              "      <th>F14-NMV</th>\n",
              "      <th>F15-NTY</th>\n",
              "      <th>Unnamed: 19</th>\n",
              "      <th>Unnamed: 20</th>\n",
              "      <th>Unnamed: 21</th>\n",
              "      <th>Unnamed: 22</th>\n",
              "      <th>Unnamed: 23</th>\n",
              "      <th>Unnamed: 24</th>\n",
              "      <th>Unnamed: 25</th>\n",
              "    </tr>\n",
              "  </thead>\n",
              "  <tbody>\n",
              "    <tr>\n",
              "      <th>0</th>\n",
              "      <td>Rose Restaurant</td>\n",
              "      <td>Great food and great atmosphere! The chicken t...</td>\n",
              "      <td>0</td>\n",
              "      <td>3</td>\n",
              "      <td>4.465909</td>\n",
              "      <td>1.000000</td>\n",
              "      <td>14.250000</td>\n",
              "      <td>17.600000</td>\n",
              "      <td>5</td>\n",
              "      <td>88</td>\n",
              "      <td>...</td>\n",
              "      <td>0.795181</td>\n",
              "      <td>0</td>\n",
              "      <td>0</td>\n",
              "      <td>NaN</td>\n",
              "      <td>NaN</td>\n",
              "      <td>NaN</td>\n",
              "      <td>NaN</td>\n",
              "      <td>NaN</td>\n",
              "      <td>NaN</td>\n",
              "      <td>NaN</td>\n",
              "    </tr>\n",
              "    <tr>\n",
              "      <th>1</th>\n",
              "      <td>Rose Restaurant</td>\n",
              "      <td>I had heard good things about Rose Restaurant ...</td>\n",
              "      <td>0</td>\n",
              "      <td>3</td>\n",
              "      <td>3.838983</td>\n",
              "      <td>1.500000</td>\n",
              "      <td>10.000000</td>\n",
              "      <td>19.666667</td>\n",
              "      <td>6</td>\n",
              "      <td>118</td>\n",
              "      <td>...</td>\n",
              "      <td>0.752294</td>\n",
              "      <td>0</td>\n",
              "      <td>0</td>\n",
              "      <td>NaN</td>\n",
              "      <td>NaN</td>\n",
              "      <td>NaN</td>\n",
              "      <td>NaN</td>\n",
              "      <td>NaN</td>\n",
              "      <td>NaN</td>\n",
              "      <td>NaN</td>\n",
              "    </tr>\n",
              "    <tr>\n",
              "      <th>2</th>\n",
              "      <td>Rose Restaurant</td>\n",
              "      <td>I was driving by rose restaurant one day and d...</td>\n",
              "      <td>0</td>\n",
              "      <td>3</td>\n",
              "      <td>3.377049</td>\n",
              "      <td>1.142857</td>\n",
              "      <td>8.923077</td>\n",
              "      <td>17.428571</td>\n",
              "      <td>7</td>\n",
              "      <td>122</td>\n",
              "      <td>...</td>\n",
              "      <td>0.675439</td>\n",
              "      <td>0</td>\n",
              "      <td>0</td>\n",
              "      <td>NaN</td>\n",
              "      <td>NaN</td>\n",
              "      <td>NaN</td>\n",
              "      <td>NaN</td>\n",
              "      <td>NaN</td>\n",
              "      <td>NaN</td>\n",
              "      <td>NaN</td>\n",
              "    </tr>\n",
              "    <tr>\n",
              "      <th>3</th>\n",
              "      <td>Rose Restaurant</td>\n",
              "      <td>Rose Restaurant had the most modern and up-to-...</td>\n",
              "      <td>0</td>\n",
              "      <td>3</td>\n",
              "      <td>4.044118</td>\n",
              "      <td>1.750000</td>\n",
              "      <td>17.500000</td>\n",
              "      <td>17.000000</td>\n",
              "      <td>4</td>\n",
              "      <td>68</td>\n",
              "      <td>...</td>\n",
              "      <td>0.819672</td>\n",
              "      <td>0</td>\n",
              "      <td>0</td>\n",
              "      <td>NaN</td>\n",
              "      <td>NaN</td>\n",
              "      <td>NaN</td>\n",
              "      <td>NaN</td>\n",
              "      <td>NaN</td>\n",
              "      <td>NaN</td>\n",
              "      <td>NaN</td>\n",
              "    </tr>\n",
              "    <tr>\n",
              "      <th>4</th>\n",
              "      <td>Gloria Restaurant</td>\n",
              "      <td>Today is the third time I've come to Gloria Re...</td>\n",
              "      <td>0</td>\n",
              "      <td>3</td>\n",
              "      <td>4.071429</td>\n",
              "      <td>1.500000</td>\n",
              "      <td>10.700000</td>\n",
              "      <td>14.000000</td>\n",
              "      <td>6</td>\n",
              "      <td>84</td>\n",
              "      <td>...</td>\n",
              "      <td>0.786667</td>\n",
              "      <td>0</td>\n",
              "      <td>0</td>\n",
              "      <td>NaN</td>\n",
              "      <td>NaN</td>\n",
              "      <td>NaN</td>\n",
              "      <td>NaN</td>\n",
              "      <td>NaN</td>\n",
              "      <td>NaN</td>\n",
              "      <td>NaN</td>\n",
              "    </tr>\n",
              "  </tbody>\n",
              "</table>\n",
              "<p>5 rows × 26 columns</p>\n",
              "</div>\n",
              "      <button class=\"colab-df-convert\" onclick=\"convertToInteractive('df-dc2ab5ba-2a97-400e-a0e9-3a6a61258254')\"\n",
              "              title=\"Convert this dataframe to an interactive table.\"\n",
              "              style=\"display:none;\">\n",
              "        \n",
              "  <svg xmlns=\"http://www.w3.org/2000/svg\" height=\"24px\"viewBox=\"0 0 24 24\"\n",
              "       width=\"24px\">\n",
              "    <path d=\"M0 0h24v24H0V0z\" fill=\"none\"/>\n",
              "    <path d=\"M18.56 5.44l.94 2.06.94-2.06 2.06-.94-2.06-.94-.94-2.06-.94 2.06-2.06.94zm-11 1L8.5 8.5l.94-2.06 2.06-.94-2.06-.94L8.5 2.5l-.94 2.06-2.06.94zm10 10l.94 2.06.94-2.06 2.06-.94-2.06-.94-.94-2.06-.94 2.06-2.06.94z\"/><path d=\"M17.41 7.96l-1.37-1.37c-.4-.4-.92-.59-1.43-.59-.52 0-1.04.2-1.43.59L10.3 9.45l-7.72 7.72c-.78.78-.78 2.05 0 2.83L4 21.41c.39.39.9.59 1.41.59.51 0 1.02-.2 1.41-.59l7.78-7.78 2.81-2.81c.8-.78.8-2.07 0-2.86zM5.41 20L4 18.59l7.72-7.72 1.47 1.35L5.41 20z\"/>\n",
              "  </svg>\n",
              "      </button>\n",
              "      \n",
              "  <style>\n",
              "    .colab-df-container {\n",
              "      display:flex;\n",
              "      flex-wrap:wrap;\n",
              "      gap: 12px;\n",
              "    }\n",
              "\n",
              "    .colab-df-convert {\n",
              "      background-color: #E8F0FE;\n",
              "      border: none;\n",
              "      border-radius: 50%;\n",
              "      cursor: pointer;\n",
              "      display: none;\n",
              "      fill: #1967D2;\n",
              "      height: 32px;\n",
              "      padding: 0 0 0 0;\n",
              "      width: 32px;\n",
              "    }\n",
              "\n",
              "    .colab-df-convert:hover {\n",
              "      background-color: #E2EBFA;\n",
              "      box-shadow: 0px 1px 2px rgba(60, 64, 67, 0.3), 0px 1px 3px 1px rgba(60, 64, 67, 0.15);\n",
              "      fill: #174EA6;\n",
              "    }\n",
              "\n",
              "    [theme=dark] .colab-df-convert {\n",
              "      background-color: #3B4455;\n",
              "      fill: #D2E3FC;\n",
              "    }\n",
              "\n",
              "    [theme=dark] .colab-df-convert:hover {\n",
              "      background-color: #434B5C;\n",
              "      box-shadow: 0px 1px 3px 1px rgba(0, 0, 0, 0.15);\n",
              "      filter: drop-shadow(0px 1px 2px rgba(0, 0, 0, 0.3));\n",
              "      fill: #FFFFFF;\n",
              "    }\n",
              "  </style>\n",
              "\n",
              "      <script>\n",
              "        const buttonEl =\n",
              "          document.querySelector('#df-dc2ab5ba-2a97-400e-a0e9-3a6a61258254 button.colab-df-convert');\n",
              "        buttonEl.style.display =\n",
              "          google.colab.kernel.accessAllowed ? 'block' : 'none';\n",
              "\n",
              "        async function convertToInteractive(key) {\n",
              "          const element = document.querySelector('#df-dc2ab5ba-2a97-400e-a0e9-3a6a61258254');\n",
              "          const dataTable =\n",
              "            await google.colab.kernel.invokeFunction('convertToInteractive',\n",
              "                                                     [key], {});\n",
              "          if (!dataTable) return;\n",
              "\n",
              "          const docLinkHtml = 'Like what you see? Visit the ' +\n",
              "            '<a target=\"_blank\" href=https://colab.research.google.com/notebooks/data_table.ipynb>data table notebook</a>'\n",
              "            + ' to learn more about interactive tables.';\n",
              "          element.innerHTML = '';\n",
              "          dataTable['output_type'] = 'display_data';\n",
              "          await google.colab.output.renderOutput(dataTable, element);\n",
              "          const docLink = document.createElement('div');\n",
              "          docLink.innerHTML = docLinkHtml;\n",
              "          element.appendChild(docLink);\n",
              "        }\n",
              "      </script>\n",
              "    </div>\n",
              "  </div>\n",
              "  "
            ]
          },
          "metadata": {},
          "execution_count": 15
        }
      ],
      "source": [
        "df.head()"
      ]
    },
    {
      "cell_type": "code",
      "execution_count": null,
      "metadata": {
        "id": "8XrfEbJqgfJT"
      },
      "outputs": [],
      "source": []
    },
    {
      "cell_type": "markdown",
      "metadata": {
        "id": "FzKiwlxygfJT"
      },
      "source": [
        "## Data preprocessing"
      ]
    },
    {
      "cell_type": "code",
      "execution_count": null,
      "metadata": {
        "id": "YilieeSwgfJa"
      },
      "outputs": [],
      "source": [
        "new_data = []"
      ]
    },
    {
      "cell_type": "code",
      "execution_count": null,
      "metadata": {
        "id": "iXRwBHOdgfJb"
      },
      "outputs": [],
      "source": [
        "stop_words = set(stopwords.words('english'))"
      ]
    },
    {
      "cell_type": "code",
      "execution_count": null,
      "metadata": {
        "id": "S8V9eYMwgfJc"
      },
      "outputs": [],
      "source": [
        "for line in df['Review']:\n",
        "    a = re.sub('[^a-zA-Z]', ' ', line).lower()\n",
        "    word_tokens = word_tokenize(a)\n",
        "    filtered = [w for w in word_tokens if not w in stop_words]\n",
        "    new_data.append(' '.join(filtered))"
      ]
    },
    {
      "cell_type": "code",
      "execution_count": null,
      "metadata": {
        "colab": {
          "base_uri": "https://localhost:8080/"
        },
        "id": "d2EfDEtugfJc",
        "outputId": "630bebc8-9841-425d-8670-826f72c0939a"
      },
      "outputs": [
        {
          "output_type": "execute_result",
          "data": {
            "text/plain": [
              "['great food great atmosphere chicken tikka masala garlic naan tasted come straight india pleased entr e ended ordering gulab jamun desert mango lassi beverage nothing pleased also employees management attentive made sure everything needed beginning end manager matt personally came around even check experience',\n",
              " 'heard good things rose restaurant decided go ahead give restaurant try atmosphere expecting walking front door felt trying way hard modern rather indian cashier took orders polite however asked make food mild must listening food brought waiting minutes spicy could barely take flavor paneer masala overall disappointed experience',\n",
              " 'driving rose restaurant one day decided give try lunch break familiar indian food option try born lubbock however glad know tikka kabobs way spicy know mistake food spicy sides rice dish gave also burned edges making hard even want eat coming establishment',\n",
              " 'rose restaurant modern date atmosphere restaurant period first time trying indian food please got amazing job assimilating indian american culture chicken tikka pizza showed sure returning friends family',\n",
              " 'today third time come gloria restaurant say consistently great food food tastes like straight india fluffy garlic naan delicious perfect butter chicken service also friendly constantly checking us make sure everything needed stars definitely coming back']"
            ]
          },
          "metadata": {},
          "execution_count": 19
        }
      ],
      "source": [
        "new_data[:5]"
      ]
    },
    {
      "cell_type": "code",
      "execution_count": null,
      "metadata": {
        "id": "pmsVavuKgfJe"
      },
      "outputs": [],
      "source": []
    },
    {
      "cell_type": "code",
      "execution_count": null,
      "metadata": {
        "id": "JhDvsOcygfJf"
      },
      "outputs": [],
      "source": [
        "tagged_data = [TaggedDocument(words=word_tokenize(_d), tags=[str(i)]) for i, _d in enumerate(new_data)]"
      ]
    },
    {
      "cell_type": "code",
      "source": [
        "tagged_data[:2]"
      ],
      "metadata": {
        "colab": {
          "base_uri": "https://localhost:8080/"
        },
        "id": "FKzc7rfrhcWO",
        "outputId": "f5639b22-18f4-41f4-8c26-e2938b815159"
      },
      "execution_count": null,
      "outputs": [
        {
          "output_type": "execute_result",
          "data": {
            "text/plain": [
              "[TaggedDocument(words=['great', 'food', 'great', 'atmosphere', 'chicken', 'tikka', 'masala', 'garlic', 'naan', 'tasted', 'come', 'straight', 'india', 'pleased', 'entr', 'e', 'ended', 'ordering', 'gulab', 'jamun', 'desert', 'mango', 'lassi', 'beverage', 'nothing', 'pleased', 'also', 'employees', 'management', 'attentive', 'made', 'sure', 'everything', 'needed', 'beginning', 'end', 'manager', 'matt', 'personally', 'came', 'around', 'even', 'check', 'experience'], tags=['0']),\n",
              " TaggedDocument(words=['heard', 'good', 'things', 'rose', 'restaurant', 'decided', 'go', 'ahead', 'give', 'restaurant', 'try', 'atmosphere', 'expecting', 'walking', 'front', 'door', 'felt', 'trying', 'way', 'hard', 'modern', 'rather', 'indian', 'cashier', 'took', 'orders', 'polite', 'however', 'asked', 'make', 'food', 'mild', 'must', 'listening', 'food', 'brought', 'waiting', 'minutes', 'spicy', 'could', 'barely', 'take', 'flavor', 'paneer', 'masala', 'overall', 'disappointed', 'experience'], tags=['1'])]"
            ]
          },
          "metadata": {},
          "execution_count": 21
        }
      ]
    },
    {
      "cell_type": "markdown",
      "source": [
        "## Feature extractions"
      ],
      "metadata": {
        "id": "T7qlmiuS_TMm"
      }
    },
    {
      "cell_type": "code",
      "source": [
        "nlp = spacy.load(\"en_core_web_sm\")"
      ],
      "metadata": {
        "id": "Z4oLiZ92CBqQ"
      },
      "execution_count": null,
      "outputs": []
    },
    {
      "cell_type": "code",
      "source": [
        "spell = Speller(lang='en')"
      ],
      "metadata": {
        "id": "0Q5s2gSoyrYn"
      },
      "execution_count": null,
      "outputs": []
    },
    {
      "cell_type": "code",
      "source": [
        "avg_word_length = []\n",
        "pausality = []\n",
        "avg_np = []\n",
        "avg_sent_length = []\n",
        "num_clauses = []\n",
        "num_words = []\n",
        "num_verbs = []\n",
        "num_adj = []\n",
        "num_pv = []\n",
        "emotiveness = []\n",
        "content_div = []\n",
        "redundancy = []\n",
        "lexical_div = []\n",
        "num_mv = []\n",
        "num_typos = []"
      ],
      "metadata": {
        "id": "2xz2BIOzIOkE"
      },
      "execution_count": null,
      "outputs": []
    },
    {
      "cell_type": "code",
      "source": [
        "for i in range(len(df)):\n",
        "    doc = nlp(df['Review'][i].replace('\\r', ''))\n",
        "    n_adj = 0\n",
        "    n_verbs = 0\n",
        "    n_nouns = 0\n",
        "    n_adv = 0\n",
        "    n_passive = 0\n",
        "    n_mv = 0\n",
        "    n_cl = 0\n",
        "    n_punc = 0\n",
        "    redun = 0\n",
        "    n_typos = 0\n",
        "\n",
        "    for token in doc:\n",
        "        if token.pos_ == 'ADJ':\n",
        "            n_adj += 1\n",
        "        elif token.pos_ == 'VERB':\n",
        "            n_verbs += 1\n",
        "        elif token.pos_ == 'NOUN':\n",
        "            n_nouns += 1\n",
        "        elif token.pos_ == 'ADV':\n",
        "            n_adv += 1\n",
        "        if token.dep_ == 'aux' and token.tag_ == 'MD':\n",
        "            #print(token)\n",
        "            n_mv += 1\n",
        "        if token.dep_ == 'nsubjpass':\n",
        "            #print(token)\n",
        "            n_passive += 1\n",
        "        elif token.dep_ == 'ROOT':\n",
        "            #print(token)\n",
        "            n_cl += 1\n",
        "        if token.is_punct == True:\n",
        "            n_punc += 1\n",
        "\n",
        "    words = [token.text.lower() for token in doc if token.is_punct == False]\n",
        "    len_words = 0\n",
        "\n",
        "    filtered = []\n",
        "\n",
        "    for word in words:\n",
        "        len_words += len(word)\n",
        "        if spell(word) != word:\n",
        "            n_typos += 1\n",
        "        if not word in stop_words:\n",
        "            filtered.append(word)\n",
        "\n",
        "    avg_wl = len_words/len(words)\n",
        "\n",
        "    avg_sl = len(doc)/len(list(doc.sents)) \n",
        "\n",
        "    emo = (n_adj + n_adv)/(n_nouns + n_verbs)\n",
        "\n",
        "    lxd = len(set(words))/len(words)\n",
        "\n",
        "    cdv = len(set(filtered))/len(words)\n",
        "\n",
        "    len_chunk = 0\n",
        "    for chunk in doc.noun_chunks:\n",
        "        len_chunk += len(chunk)\n",
        "    anp = len_chunk/len([chunk.text for chunk in doc.noun_chunks])    \n",
        "\n",
        "    redun = (len(words) - len(filtered))/len(list(doc.sents))\n",
        "\n",
        "\n",
        "    avg_word_length.append(avg_wl)\n",
        "    pausality.append(n_punc/len(list(doc.sents)))\n",
        "    avg_np.append(anp)\n",
        "    avg_sent_length.append(avg_sl)\n",
        "    num_clauses.append(n_cl)\n",
        "    num_words.append(len(words))\n",
        "    num_verbs.append(n_verbs)\n",
        "    num_adj.append(n_adj)\n",
        "    num_pv.append(n_passive)\n",
        "    emotiveness.append(emo)\n",
        "    content_div.append(cdv)\n",
        "    redundancy.append(redun)\n",
        "    lexical_div.append(lxd)\n",
        "    num_mv.append(n_mv)\n",
        "    num_typos.append(n_typos)\n"
      ],
      "metadata": {
        "id": "5GfEa4ndG-LF"
      },
      "execution_count": null,
      "outputs": []
    },
    {
      "cell_type": "code",
      "source": [
        "# print('Av WL:', avg_wl,'\\nPausality:', pausality, '\\naverage NP:', anp,'\\nSL:', avg_sl,'\\nCl:', n_cl,'\\nWords:', len(words), '\\nVerbs:', n_verbs,\n",
        "#       '\\nAdj:', n_adj,'\\nPassive:', n_passive, '\\nEmo:', emo,'\\nCDV:', cdv,'\\nRedun:', redun, '\\nLXD:', lxd, '\\nMV:',n_mv, '\\nTypos:', n_typos)"
      ],
      "metadata": {
        "id": "FN3g-kr-rm81"
      },
      "execution_count": null,
      "outputs": []
    },
    {
      "cell_type": "code",
      "source": [],
      "metadata": {
        "id": "R4LCLwcvmGHX"
      },
      "execution_count": null,
      "outputs": []
    },
    {
      "cell_type": "markdown",
      "source": [
        "## Embedding"
      ],
      "metadata": {
        "id": "ajUkG_7IBlnQ"
      }
    },
    {
      "cell_type": "code",
      "source": [
        "max_epochs = 500\n",
        "alpha = 0.025\n",
        "\n",
        "model = Doc2Vec(vector_size=110, alpha=alpha, min_alpha=0.00025, min_count=1, dm=1)\n",
        "  \n",
        "model.build_vocab(tagged_data)\n",
        "\n",
        "for epoch in range(max_epochs):\n",
        "    model.train(tagged_data,\n",
        "                total_examples=model.corpus_count,\n",
        "                epochs=model.epochs)\n",
        "    model.alpha -= 0.0002\n",
        "    model.min_alpha = model.alpha\n"
      ],
      "metadata": {
        "id": "UtcPzvoEiCmV",
        "colab": {
          "base_uri": "https://localhost:8080/"
        },
        "outputId": "8cfdab53-c9ed-48d8-f852-2a7022da7e4d"
      },
      "execution_count": null,
      "outputs": [
        {
          "output_type": "stream",
          "name": "stderr",
          "text": [
            "WARNING:gensim.models.word2vec:Effective 'alpha' higher than previous training cycles\n"
          ]
        }
      ]
    },
    {
      "cell_type": "code",
      "source": [
        "X = model.docvecs\n",
        "y = df['Real']"
      ],
      "metadata": {
        "id": "aINXBsC3pHOK",
        "colab": {
          "base_uri": "https://localhost:8080/"
        },
        "outputId": "04a2c06a-7fee-4876-c05f-698c814dc232"
      },
      "execution_count": null,
      "outputs": [
        {
          "output_type": "stream",
          "name": "stderr",
          "text": [
            "<ipython-input-28-5235d0211be5>:1: DeprecationWarning: Call to deprecated `docvecs` (The `docvecs` property has been renamed `dv`.).\n",
            "  X = model.docvecs\n"
          ]
        }
      ]
    },
    {
      "cell_type": "markdown",
      "source": [
        "### Decision tree"
      ],
      "metadata": {
        "id": "wQGf1ZOCpyQm"
      }
    },
    {
      "cell_type": "code",
      "source": [
        "model_dt = DecisionTreeClassifier(criterion='gini', max_depth=3, splitter='best')\n",
        "acc_scores_dt = cross_val_score(model_dt, X, y, cv=10)\n",
        "f1_scores_dt = cross_val_score(model_dt, X, y, cv=10, scoring='f1')"
      ],
      "metadata": {
        "id": "03RXXbMerJLl"
      },
      "execution_count": null,
      "outputs": []
    },
    {
      "cell_type": "code",
      "source": [
        "print('Accuracy: ', acc_scores_dt.mean(), '\\nF1: ', f1_scores_dt.mean())"
      ],
      "metadata": {
        "id": "v-8qNcgdtyLH",
        "colab": {
          "base_uri": "https://localhost:8080/"
        },
        "outputId": "118bde36-1fb7-4204-a1dd-d1bd1d5ccaee"
      },
      "execution_count": null,
      "outputs": [
        {
          "output_type": "stream",
          "name": "stdout",
          "text": [
            "Accuracy:  0.6090909090909091 \n",
            "F1:  0.550003885003885\n"
          ]
        }
      ]
    },
    {
      "cell_type": "markdown",
      "source": [
        "### Random Forest"
      ],
      "metadata": {
        "id": "dc4j0im1rY7k"
      }
    },
    {
      "cell_type": "code",
      "source": [
        "model_rf = RandomForestClassifier(n_estimators=827, criterion='entropy', max_depth=4)\n",
        "acc_scores_rf = cross_val_score(model_rf, X, y, cv=10)\n",
        "f1_scores_rf = cross_val_score(model_rf, X, y, cv=10, scoring='f1')"
      ],
      "metadata": {
        "id": "DEnYvcv4rX4n"
      },
      "execution_count": null,
      "outputs": []
    },
    {
      "cell_type": "code",
      "source": [
        "print('Accuracy: ', acc_scores_rf.mean(), '\\nF1: ', f1_scores_rf.mean())"
      ],
      "metadata": {
        "id": "Osrmj4jlrzXN",
        "colab": {
          "base_uri": "https://localhost:8080/"
        },
        "outputId": "ac8fdb26-60c3-4460-b210-70b0a3a74d38"
      },
      "execution_count": null,
      "outputs": [
        {
          "output_type": "stream",
          "name": "stdout",
          "text": [
            "Accuracy:  0.6272727272727272 \n",
            "F1:  0.6506726606726606\n"
          ]
        }
      ]
    },
    {
      "cell_type": "markdown",
      "source": [
        "### Support Vector Machine"
      ],
      "metadata": {
        "id": "i_uNmQWquFXx"
      }
    },
    {
      "cell_type": "code",
      "source": [
        "model_svm = SVC(kernel='rbf', C=21.832, degree=6, gamma='scale')\n",
        "acc_scores_svm = cross_val_score(model_svm, X, y, cv=10)\n",
        "f1_scores_svm = cross_val_score(model_svm, X, y, cv=10, scoring='f1')"
      ],
      "metadata": {
        "id": "j7BfKD5IuEwT"
      },
      "execution_count": null,
      "outputs": []
    },
    {
      "cell_type": "code",
      "source": [
        "print('Accuracy: ', acc_scores_svm.mean(), '\\nF1: ', f1_scores_svm.mean())"
      ],
      "metadata": {
        "id": "CUiqzWICztMd",
        "colab": {
          "base_uri": "https://localhost:8080/"
        },
        "outputId": "2286779b-1abd-492d-dec3-8fac991ad878"
      },
      "execution_count": null,
      "outputs": [
        {
          "output_type": "stream",
          "name": "stdout",
          "text": [
            "Accuracy:  0.6818181818181819 \n",
            "F1:  0.6828144078144078\n"
          ]
        }
      ]
    },
    {
      "cell_type": "markdown",
      "source": [
        "### Extreme Gradient Boosting Trees"
      ],
      "metadata": {
        "id": "mbOhKq6m0BG8"
      }
    },
    {
      "cell_type": "code",
      "source": [
        "l = []\n",
        "for i in range(110):\n",
        "    l.append(list(X[i]))\n",
        "l = np.reshape(l, (110, 110))"
      ],
      "metadata": {
        "id": "jGpqvjkA3YKl"
      },
      "execution_count": null,
      "outputs": []
    },
    {
      "cell_type": "code",
      "source": [
        "model_xgb = XGBClassifier(n_estimators=421, max_depth=3, gamma=9.08, alpha=0.035)\n",
        "acc_scores_xgb = cross_val_score(model_xgb, l, y, cv=10)\n",
        "f1_scores_xgb = cross_val_score(model_xgb, l, y, cv=10, scoring='f1')"
      ],
      "metadata": {
        "id": "Bp9PJZ1_z-sy"
      },
      "execution_count": null,
      "outputs": []
    },
    {
      "cell_type": "code",
      "source": [
        "print('Accuracy: ', acc_scores_xgb.mean(), '\\nF1: ', f1_scores_xgb.mean())"
      ],
      "metadata": {
        "id": "d3lcRpiY2Ntr",
        "colab": {
          "base_uri": "https://localhost:8080/"
        },
        "outputId": "7a3859fa-4e53-4ed5-fc3e-1d50e162d48e"
      },
      "execution_count": null,
      "outputs": [
        {
          "output_type": "stream",
          "name": "stdout",
          "text": [
            "Accuracy:  0.48181818181818176 \n",
            "F1:  0.5201437451437452\n"
          ]
        }
      ]
    },
    {
      "cell_type": "markdown",
      "source": [
        "### Multilayer perceptron"
      ],
      "metadata": {
        "id": "TdPpjX5b3v7l"
      }
    },
    {
      "cell_type": "code",
      "source": [
        "model_mlp = MLPClassifier(hidden_layer_sizes=(35, 40, 20, 5), activation='relu', max_iter=1000)\n",
        "acc_scores_mlp = cross_val_score(model_mlp, X, y, cv=10)\n",
        "f1_scores_mlp = cross_val_score(model_mlp, X, y, cv=10, scoring='f1')"
      ],
      "metadata": {
        "id": "AzZxWDTz2yDJ"
      },
      "execution_count": null,
      "outputs": []
    },
    {
      "cell_type": "code",
      "source": [
        "print('Accuracy: ', acc_scores_mlp.mean(), '\\nF1: ', f1_scores_mlp.mean())"
      ],
      "metadata": {
        "id": "s7tM__lL48k0",
        "colab": {
          "base_uri": "https://localhost:8080/"
        },
        "outputId": "ea86cccc-107c-40d7-f79b-309280de41fb"
      },
      "execution_count": null,
      "outputs": [
        {
          "output_type": "stream",
          "name": "stdout",
          "text": [
            "Accuracy:  0.6545454545454545 \n",
            "F1:  0.6035347985347986\n"
          ]
        }
      ]
    },
    {
      "cell_type": "code",
      "source": [],
      "metadata": {
        "id": "EeJ6j5R65MNQ"
      },
      "execution_count": null,
      "outputs": []
    },
    {
      "cell_type": "code",
      "source": [
        "print('Accuracy DT: ', acc_scores_dt.mean(), '\\nF1 DT: ', f1_scores_dt.mean())\n",
        "print('Accuracy RF: ', acc_scores_rf.mean(), '\\nF1 RF: ', f1_scores_rf.mean())\n",
        "print('Accuracy SVM: ', acc_scores_svm.mean(), '\\nF1 SVM: ', f1_scores_svm.mean())\n",
        "print('Accuracy XGB: ', acc_scores_xgb.mean(), '\\nF1 XGB: ', f1_scores_xgb.mean())\n",
        "print('Accuracy MLP: ', acc_scores_mlp.mean(), '\\nF1 MLP: ', f1_scores_mlp.mean())"
      ],
      "metadata": {
        "id": "lquvhFk7IHJk",
        "colab": {
          "base_uri": "https://localhost:8080/"
        },
        "outputId": "9d7a33b1-eb29-471a-eaa1-f37959ffbf98"
      },
      "execution_count": null,
      "outputs": [
        {
          "output_type": "stream",
          "name": "stdout",
          "text": [
            "Accuracy DT:  0.6090909090909091 \n",
            "F1 DT:  0.550003885003885\n",
            "Accuracy RF:  0.6272727272727272 \n",
            "F1 RF:  0.6506726606726606\n",
            "Accuracy SVM:  0.6818181818181819 \n",
            "F1 SVM:  0.6828144078144078\n",
            "Accuracy XGB:  0.48181818181818176 \n",
            "F1 XGB:  0.5201437451437452\n",
            "Accuracy MLP:  0.6545454545454545 \n",
            "F1 MLP:  0.6035347985347986\n"
          ]
        }
      ]
    },
    {
      "cell_type": "code",
      "source": [],
      "metadata": {
        "id": "bL5kpX-Fbmbs"
      },
      "execution_count": null,
      "outputs": []
    },
    {
      "cell_type": "code",
      "source": [],
      "metadata": {
        "id": "-ajaWhZQbmf2"
      },
      "execution_count": null,
      "outputs": []
    },
    {
      "cell_type": "markdown",
      "source": [
        "## Feature significance"
      ],
      "metadata": {
        "id": "0SUpVBIkMXb_"
      }
    },
    {
      "cell_type": "code",
      "source": [
        "columns = ['Average word length', 'Pausality', 'Average NP length', 'Average sentence length', 'Number of clauses', 'Number of words', 'Number of verbs', \n",
        "           'Number of adjectives', 'Number of passive voice', 'Emotiveness', 'Content diversity', 'Redundancy', 'Lexical diversity', 'Number of modal verbs', 'Number of typos']"
      ],
      "metadata": {
        "id": "KZrEnhKQOGk1"
      },
      "execution_count": null,
      "outputs": []
    },
    {
      "cell_type": "code",
      "source": [
        "df_features = pd.DataFrame(list(zip(avg_word_length, pausality, avg_np, avg_sent_length, num_clauses, num_words, num_verbs, \n",
        "                                    num_adj, num_pv, emotiveness, content_div, redundancy, lexical_div, num_mv, num_typos)), columns = columns)"
      ],
      "metadata": {
        "id": "-OnNNs6SMim0"
      },
      "execution_count": null,
      "outputs": []
    },
    {
      "cell_type": "code",
      "source": [
        "model_fs = RandomForestClassifier()\n",
        "model_fs.fit(df_features, df['Real'])"
      ],
      "metadata": {
        "colab": {
          "base_uri": "https://localhost:8080/",
          "height": 74
        },
        "id": "VcyR9nC0NZQn",
        "outputId": "88e34a62-e322-4c4f-a945-071895a777a9"
      },
      "execution_count": null,
      "outputs": [
        {
          "output_type": "execute_result",
          "data": {
            "text/plain": [
              "RandomForestClassifier()"
            ],
            "text/html": [
              "<style>#sk-container-id-1 {color: black;background-color: white;}#sk-container-id-1 pre{padding: 0;}#sk-container-id-1 div.sk-toggleable {background-color: white;}#sk-container-id-1 label.sk-toggleable__label {cursor: pointer;display: block;width: 100%;margin-bottom: 0;padding: 0.3em;box-sizing: border-box;text-align: center;}#sk-container-id-1 label.sk-toggleable__label-arrow:before {content: \"▸\";float: left;margin-right: 0.25em;color: #696969;}#sk-container-id-1 label.sk-toggleable__label-arrow:hover:before {color: black;}#sk-container-id-1 div.sk-estimator:hover label.sk-toggleable__label-arrow:before {color: black;}#sk-container-id-1 div.sk-toggleable__content {max-height: 0;max-width: 0;overflow: hidden;text-align: left;background-color: #f0f8ff;}#sk-container-id-1 div.sk-toggleable__content pre {margin: 0.2em;color: black;border-radius: 0.25em;background-color: #f0f8ff;}#sk-container-id-1 input.sk-toggleable__control:checked~div.sk-toggleable__content {max-height: 200px;max-width: 100%;overflow: auto;}#sk-container-id-1 input.sk-toggleable__control:checked~label.sk-toggleable__label-arrow:before {content: \"▾\";}#sk-container-id-1 div.sk-estimator input.sk-toggleable__control:checked~label.sk-toggleable__label {background-color: #d4ebff;}#sk-container-id-1 div.sk-label input.sk-toggleable__control:checked~label.sk-toggleable__label {background-color: #d4ebff;}#sk-container-id-1 input.sk-hidden--visually {border: 0;clip: rect(1px 1px 1px 1px);clip: rect(1px, 1px, 1px, 1px);height: 1px;margin: -1px;overflow: hidden;padding: 0;position: absolute;width: 1px;}#sk-container-id-1 div.sk-estimator {font-family: monospace;background-color: #f0f8ff;border: 1px dotted black;border-radius: 0.25em;box-sizing: border-box;margin-bottom: 0.5em;}#sk-container-id-1 div.sk-estimator:hover {background-color: #d4ebff;}#sk-container-id-1 div.sk-parallel-item::after {content: \"\";width: 100%;border-bottom: 1px solid gray;flex-grow: 1;}#sk-container-id-1 div.sk-label:hover label.sk-toggleable__label {background-color: #d4ebff;}#sk-container-id-1 div.sk-serial::before {content: \"\";position: absolute;border-left: 1px solid gray;box-sizing: border-box;top: 0;bottom: 0;left: 50%;z-index: 0;}#sk-container-id-1 div.sk-serial {display: flex;flex-direction: column;align-items: center;background-color: white;padding-right: 0.2em;padding-left: 0.2em;position: relative;}#sk-container-id-1 div.sk-item {position: relative;z-index: 1;}#sk-container-id-1 div.sk-parallel {display: flex;align-items: stretch;justify-content: center;background-color: white;position: relative;}#sk-container-id-1 div.sk-item::before, #sk-container-id-1 div.sk-parallel-item::before {content: \"\";position: absolute;border-left: 1px solid gray;box-sizing: border-box;top: 0;bottom: 0;left: 50%;z-index: -1;}#sk-container-id-1 div.sk-parallel-item {display: flex;flex-direction: column;z-index: 1;position: relative;background-color: white;}#sk-container-id-1 div.sk-parallel-item:first-child::after {align-self: flex-end;width: 50%;}#sk-container-id-1 div.sk-parallel-item:last-child::after {align-self: flex-start;width: 50%;}#sk-container-id-1 div.sk-parallel-item:only-child::after {width: 0;}#sk-container-id-1 div.sk-dashed-wrapped {border: 1px dashed gray;margin: 0 0.4em 0.5em 0.4em;box-sizing: border-box;padding-bottom: 0.4em;background-color: white;}#sk-container-id-1 div.sk-label label {font-family: monospace;font-weight: bold;display: inline-block;line-height: 1.2em;}#sk-container-id-1 div.sk-label-container {text-align: center;}#sk-container-id-1 div.sk-container {/* jupyter's `normalize.less` sets `[hidden] { display: none; }` but bootstrap.min.css set `[hidden] { display: none !important; }` so we also need the `!important` here to be able to override the default hidden behavior on the sphinx rendered scikit-learn.org. See: https://github.com/scikit-learn/scikit-learn/issues/21755 */display: inline-block !important;position: relative;}#sk-container-id-1 div.sk-text-repr-fallback {display: none;}</style><div id=\"sk-container-id-1\" class=\"sk-top-container\"><div class=\"sk-text-repr-fallback\"><pre>RandomForestClassifier()</pre><b>In a Jupyter environment, please rerun this cell to show the HTML representation or trust the notebook. <br />On GitHub, the HTML representation is unable to render, please try loading this page with nbviewer.org.</b></div><div class=\"sk-container\" hidden><div class=\"sk-item\"><div class=\"sk-estimator sk-toggleable\"><input class=\"sk-toggleable__control sk-hidden--visually\" id=\"sk-estimator-id-1\" type=\"checkbox\" checked><label for=\"sk-estimator-id-1\" class=\"sk-toggleable__label sk-toggleable__label-arrow\">RandomForestClassifier</label><div class=\"sk-toggleable__content\"><pre>RandomForestClassifier()</pre></div></div></div></div></div>"
            ]
          },
          "metadata": {},
          "execution_count": 43
        }
      ]
    },
    {
      "cell_type": "code",
      "source": [
        "fs = model_fs.feature_importances_"
      ],
      "metadata": {
        "id": "4vkMXSptNZUW"
      },
      "execution_count": null,
      "outputs": []
    },
    {
      "cell_type": "code",
      "source": [
        "fs_dict = {columns[i]: fs[i] for i in range(len(fs))}"
      ],
      "metadata": {
        "id": "JUIgVHUdNZYw"
      },
      "execution_count": null,
      "outputs": []
    },
    {
      "cell_type": "code",
      "source": [
        "for i in sorted(fs_dict, key=fs_dict.get, reverse=True):\n",
        "    print(i,':', fs_dict[i])"
      ],
      "metadata": {
        "colab": {
          "base_uri": "https://localhost:8080/"
        },
        "id": "73H9vzduPzwH",
        "outputId": "3b419a36-df28-4966-f9de-76ffa951b66c"
      },
      "execution_count": null,
      "outputs": [
        {
          "output_type": "stream",
          "name": "stdout",
          "text": [
            "Pausality : 0.10521853776863452\n",
            "Content diversity : 0.09749275069172597\n",
            "Number of adjectives : 0.0941131059212881\n",
            "Redundancy : 0.09152483630441215\n",
            "Number of words : 0.08934610119821473\n",
            "Average sentence length : 0.08743483189600619\n",
            "Lexical diversity : 0.08229227022776474\n",
            "Average NP length : 0.07959713706298592\n",
            "Number of clauses : 0.06305894666342177\n",
            "Emotiveness : 0.06046339349287348\n",
            "Average word length : 0.051619992271540155\n",
            "Number of verbs : 0.046768102790452744\n",
            "Number of typos : 0.02807901960490517\n",
            "Number of modal verbs : 0.016567881212091393\n",
            "Number of passive voice : 0.00642309289368305\n"
          ]
        }
      ]
    },
    {
      "cell_type": "code",
      "source": [
        "corr_mat = df_features.corr()"
      ],
      "metadata": {
        "id": "tZi4DyEVZCud"
      },
      "execution_count": null,
      "outputs": []
    },
    {
      "cell_type": "code",
      "source": [
        "sn.heatmap(corr_mat, annot=True, annot_kws={\"size\": 7})\n",
        "plt.show()"
      ],
      "metadata": {
        "colab": {
          "base_uri": "https://localhost:8080/",
          "height": 595
        },
        "id": "Tb1c1PD_Yn1i",
        "outputId": "90bc1a15-e340-44c9-97ef-5e9e93f41504"
      },
      "execution_count": null,
      "outputs": [
        {
          "output_type": "display_data",
          "data": {
            "text/plain": [
              "<Figure size 640x480 with 2 Axes>"
            ],
            "image/png": "[encoded data removed]"
          },
          "metadata": {}
        }
      ]
    },
    {
      "cell_type": "code",
      "source": [],
      "metadata": {
        "id": "m8wHpnFhYn5r"
      },
      "execution_count": null,
      "outputs": []
    },
    {
      "cell_type": "code",
      "source": [
        "sn.heatmap(df_features[['Pausality', 'Number of adjectives', 'Lexical diversity', 'Redundancy', 'Number of words', 'Average NP length', 'Average sentence length', 'Content diversity']].corr(), annot=True, annot_kws={\"size\": 10})\n",
        "plt.show()"
      ],
      "metadata": {
        "colab": {
          "base_uri": "https://localhost:8080/",
          "height": 595
        },
        "id": "396f6XNpYn9Z",
        "outputId": "33d02b16-4a52-497b-edd5-d349f6148c3b"
      },
      "execution_count": null,
      "outputs": [
        {
          "output_type": "display_data",
          "data": {
            "text/plain": [
              "<Figure size 640x480 with 2 Axes>"
            ],
            "image/png": "[encoded data removed]"
          },
          "metadata": {}
        }
      ]
    },
    {
      "cell_type": "markdown",
      "source": [
        "## Feature elimination"
      ],
      "metadata": {
        "id": "F-Ld0RktwPAw"
      }
    },
    {
      "cell_type": "code",
      "source": [
        "rfecv = RFECV(estimator=RandomForestClassifier())"
      ],
      "metadata": {
        "id": "PTiyaGpOwSHv"
      },
      "execution_count": null,
      "outputs": []
    },
    {
      "cell_type": "code",
      "source": [
        "model_fe = RandomForestClassifier()"
      ],
      "metadata": {
        "id": "Cz8MOOfTwSLK"
      },
      "execution_count": null,
      "outputs": []
    },
    {
      "cell_type": "code",
      "source": [
        "X_train_fe, X_test_fe, y_train_fe, y_test_fe = train_test_split(df_features, df['Real'], test_size = 0.1)"
      ],
      "metadata": {
        "id": "xCLSbLn4dH3Y"
      },
      "execution_count": null,
      "outputs": []
    },
    {
      "cell_type": "code",
      "source": [
        "pipeline = Pipeline([('Feature Selection', rfecv), ('Model', model_fe)])\n",
        "cv = StratifiedKFold(n_splits=10)\n",
        "n_scores = cross_val_score(pipeline, X_train_fe, y_train_fe, scoring='accuracy', cv=cv, n_jobs=-1)\n",
        "np.mean(n_scores)"
      ],
      "metadata": {
        "colab": {
          "base_uri": "https://localhost:8080/"
        },
        "id": "Nqr1NAE7wSPI",
        "outputId": "ee2fac1b-8cfe-40a6-f197-7cc1857a1ee2"
      },
      "execution_count": null,
      "outputs": [
        {
          "output_type": "execute_result",
          "data": {
            "text/plain": [
              "0.6877777777777777"
            ]
          },
          "metadata": {},
          "execution_count": 53
        }
      ]
    },
    {
      "cell_type": "code",
      "source": [
        "for (train, test), i in zip(cv.split(df_features, df['Real']), range(10)):\n",
        "    pipeline.fit(X_train_fe, y_train_fe)"
      ],
      "metadata": {
        "id": "Be2tv_NLxSBx"
      },
      "execution_count": null,
      "outputs": []
    },
    {
      "cell_type": "code",
      "source": [
        "print(rfecv.n_features_)"
      ],
      "metadata": {
        "colab": {
          "base_uri": "https://localhost:8080/"
        },
        "id": "g_Dpdo09xzS2",
        "outputId": "6d70399d-3e5e-4500-99f1-d84c07c84150"
      },
      "execution_count": null,
      "outputs": [
        {
          "output_type": "stream",
          "name": "stdout",
          "text": [
            "15\n"
          ]
        }
      ]
    },
    {
      "cell_type": "code",
      "source": [
        "rfecv.support_rfecv_df = pd.DataFrame(rfecv.ranking_,index=df_features.columns,columns=['Rank']).sort_values(by='Rank',ascending=True)\n",
        "rfecv.support_rfecv_df"
      ],
      "metadata": {
        "id": "Ll7sywvp1EVM",
        "colab": {
          "base_uri": "https://localhost:8080/",
          "height": 519
        },
        "outputId": "3b05446f-9980-4da1-b9f1-90ecea4e9714"
      },
      "execution_count": null,
      "outputs": [
        {
          "output_type": "execute_result",
          "data": {
            "text/plain": [
              "                         Rank\n",
              "Average word length         1\n",
              "Pausality                   1\n",
              "Average NP length           1\n",
              "Average sentence length     1\n",
              "Number of clauses           1\n",
              "Number of words             1\n",
              "Number of verbs             1\n",
              "Number of adjectives        1\n",
              "Number of passive voice     1\n",
              "Emotiveness                 1\n",
              "Content diversity           1\n",
              "Redundancy                  1\n",
              "Lexical diversity           1\n",
              "Number of modal verbs       1\n",
              "Number of typos             1"
            ],
            "text/html": [
              "\n",
              "  <div id=\"df-efafd557-982e-45b1-a131-19aca1a25dc8\">\n",
              "    <div class=\"colab-df-container\">\n",
              "      <div>\n",
              "<style scoped>\n",
              "    .dataframe tbody tr th:only-of-type {\n",
              "        vertical-align: middle;\n",
              "    }\n",
              "\n",
              "    .dataframe tbody tr th {\n",
              "        vertical-align: top;\n",
              "    }\n",
              "\n",
              "    .dataframe thead th {\n",
              "        text-align: right;\n",
              "    }\n",
              "</style>\n",
              "<table border=\"1\" class=\"dataframe\">\n",
              "  <thead>\n",
              "    <tr style=\"text-align: right;\">\n",
              "      <th></th>\n",
              "      <th>Rank</th>\n",
              "    </tr>\n",
              "  </thead>\n",
              "  <tbody>\n",
              "    <tr>\n",
              "      <th>Average word length</th>\n",
              "      <td>1</td>\n",
              "    </tr>\n",
              "    <tr>\n",
              "      <th>Pausality</th>\n",
              "      <td>1</td>\n",
              "    </tr>\n",
              "    <tr>\n",
              "      <th>Average NP length</th>\n",
              "      <td>1</td>\n",
              "    </tr>\n",
              "    <tr>\n",
              "      <th>Average sentence length</th>\n",
              "      <td>1</td>\n",
              "    </tr>\n",
              "    <tr>\n",
              "      <th>Number of clauses</th>\n",
              "      <td>1</td>\n",
              "    </tr>\n",
              "    <tr>\n",
              "      <th>Number of words</th>\n",
              "      <td>1</td>\n",
              "    </tr>\n",
              "    <tr>\n",
              "      <th>Number of verbs</th>\n",
              "      <td>1</td>\n",
              "    </tr>\n",
              "    <tr>\n",
              "      <th>Number of adjectives</th>\n",
              "      <td>1</td>\n",
              "    </tr>\n",
              "    <tr>\n",
              "      <th>Number of passive voice</th>\n",
              "      <td>1</td>\n",
              "    </tr>\n",
              "    <tr>\n",
              "      <th>Emotiveness</th>\n",
              "      <td>1</td>\n",
              "    </tr>\n",
              "    <tr>\n",
              "      <th>Content diversity</th>\n",
              "      <td>1</td>\n",
              "    </tr>\n",
              "    <tr>\n",
              "      <th>Redundancy</th>\n",
              "      <td>1</td>\n",
              "    </tr>\n",
              "    <tr>\n",
              "      <th>Lexical diversity</th>\n",
              "      <td>1</td>\n",
              "    </tr>\n",
              "    <tr>\n",
              "      <th>Number of modal verbs</th>\n",
              "      <td>1</td>\n",
              "    </tr>\n",
              "    <tr>\n",
              "      <th>Number of typos</th>\n",
              "      <td>1</td>\n",
              "    </tr>\n",
              "  </tbody>\n",
              "</table>\n",
              "</div>\n",
              "      <button class=\"colab-df-convert\" onclick=\"convertToInteractive('df-efafd557-982e-45b1-a131-19aca1a25dc8')\"\n",
              "              title=\"Convert this dataframe to an interactive table.\"\n",
              "              style=\"display:none;\">\n",
              "        \n",
              "  <svg xmlns=\"http://www.w3.org/2000/svg\" height=\"24px\"viewBox=\"0 0 24 24\"\n",
              "       width=\"24px\">\n",
              "    <path d=\"M0 0h24v24H0V0z\" fill=\"none\"/>\n",
              "    <path d=\"M18.56 5.44l.94 2.06.94-2.06 2.06-.94-2.06-.94-.94-2.06-.94 2.06-2.06.94zm-11 1L8.5 8.5l.94-2.06 2.06-.94-2.06-.94L8.5 2.5l-.94 2.06-2.06.94zm10 10l.94 2.06.94-2.06 2.06-.94-2.06-.94-.94-2.06-.94 2.06-2.06.94z\"/><path d=\"M17.41 7.96l-1.37-1.37c-.4-.4-.92-.59-1.43-.59-.52 0-1.04.2-1.43.59L10.3 9.45l-7.72 7.72c-.78.78-.78 2.05 0 2.83L4 21.41c.39.39.9.59 1.41.59.51 0 1.02-.2 1.41-.59l7.78-7.78 2.81-2.81c.8-.78.8-2.07 0-2.86zM5.41 20L4 18.59l7.72-7.72 1.47 1.35L5.41 20z\"/>\n",
              "  </svg>\n",
              "      </button>\n",
              "      \n",
              "  <style>\n",
              "    .colab-df-container {\n",
              "      display:flex;\n",
              "      flex-wrap:wrap;\n",
              "      gap: 12px;\n",
              "    }\n",
              "\n",
              "    .colab-df-convert {\n",
              "      background-color: #E8F0FE;\n",
              "      border: none;\n",
              "      border-radius: 50%;\n",
              "      cursor: pointer;\n",
              "      display: none;\n",
              "      fill: #1967D2;\n",
              "      height: 32px;\n",
              "      padding: 0 0 0 0;\n",
              "      width: 32px;\n",
              "    }\n",
              "\n",
              "    .colab-df-convert:hover {\n",
              "      background-color: #E2EBFA;\n",
              "      box-shadow: 0px 1px 2px rgba(60, 64, 67, 0.3), 0px 1px 3px 1px rgba(60, 64, 67, 0.15);\n",
              "      fill: #174EA6;\n",
              "    }\n",
              "\n",
              "    [theme=dark] .colab-df-convert {\n",
              "      background-color: #3B4455;\n",
              "      fill: #D2E3FC;\n",
              "    }\n",
              "\n",
              "    [theme=dark] .colab-df-convert:hover {\n",
              "      background-color: #434B5C;\n",
              "      box-shadow: 0px 1px 3px 1px rgba(0, 0, 0, 0.15);\n",
              "      filter: drop-shadow(0px 1px 2px rgba(0, 0, 0, 0.3));\n",
              "      fill: #FFFFFF;\n",
              "    }\n",
              "  </style>\n",
              "\n",
              "      <script>\n",
              "        const buttonEl =\n",
              "          document.querySelector('#df-efafd557-982e-45b1-a131-19aca1a25dc8 button.colab-df-convert');\n",
              "        buttonEl.style.display =\n",
              "          google.colab.kernel.accessAllowed ? 'block' : 'none';\n",
              "\n",
              "        async function convertToInteractive(key) {\n",
              "          const element = document.querySelector('#df-efafd557-982e-45b1-a131-19aca1a25dc8');\n",
              "          const dataTable =\n",
              "            await google.colab.kernel.invokeFunction('convertToInteractive',\n",
              "                                                     [key], {});\n",
              "          if (!dataTable) return;\n",
              "\n",
              "          const docLinkHtml = 'Like what you see? Visit the ' +\n",
              "            '<a target=\"_blank\" href=https://colab.research.google.com/notebooks/data_table.ipynb>data table notebook</a>'\n",
              "            + ' to learn more about interactive tables.';\n",
              "          element.innerHTML = '';\n",
              "          dataTable['output_type'] = 'display_data';\n",
              "          await google.colab.output.renderOutput(dataTable, element);\n",
              "          const docLink = document.createElement('div');\n",
              "          docLink.innerHTML = docLinkHtml;\n",
              "          element.appendChild(docLink);\n",
              "        }\n",
              "      </script>\n",
              "    </div>\n",
              "  </div>\n",
              "  "
            ]
          },
          "metadata": {},
          "execution_count": 56
        }
      ]
    },
    {
      "cell_type": "code",
      "source": [
        "plt.figure()\n",
        "plt.xlabel(\"Number of features selected\")\n",
        "plt.ylabel(\"Mean test accuracy\")\n",
        "plt.plot(range(1, len(rfecv.cv_results_[\"mean_test_score\"]) + 1), rfecv.cv_results_[\"mean_test_score\"])\n",
        "plt.title(\"Recursive Feature Elimination \\nwith correlated features\")\n",
        "plt.show()"
      ],
      "metadata": {
        "colab": {
          "base_uri": "https://localhost:8080/",
          "height": 493
        },
        "id": "aBOAK3Kc04n1",
        "outputId": "2880b995-988b-4eae-dc61-02a495b9cd29"
      },
      "execution_count": null,
      "outputs": [
        {
          "output_type": "display_data",
          "data": {
            "text/plain": [
              "<Figure size 640x480 with 1 Axes>"
            ],
            "image/png": "[encoded data removed]"
          },
          "metadata": {}
        }
      ]
    },
    {
      "cell_type": "markdown",
      "source": [
        "## Experimneting"
      ],
      "metadata": {
        "id": "CD7NO18n7EPA"
      }
    },
    {
      "cell_type": "code",
      "source": [
        "df_f1 = df_features[['Pausality', 'Number of adjectives', 'Lexical diversity']]"
      ],
      "metadata": {
        "id": "CyyknDoF45Zl"
      },
      "execution_count": null,
      "outputs": []
    },
    {
      "cell_type": "code",
      "source": [
        "X_train1, X_test1, y_train1, y_test1 = train_test_split(df_f1, df['Real'], test_size = 0.33)"
      ],
      "metadata": {
        "id": "Cy-Yu9L17HdB"
      },
      "execution_count": null,
      "outputs": []
    },
    {
      "cell_type": "markdown",
      "source": [
        "### Decision tree + features"
      ],
      "metadata": {
        "id": "Cj0ev_afbnOv"
      }
    },
    {
      "cell_type": "code",
      "source": [
        "model_dt_f = DecisionTreeClassifier(criterion='gini', max_depth=3, splitter='best')\n",
        "acc_scores_dt_f = cross_val_score(model_dt_f, X_train1, y_train1, cv=10)\n",
        "f1_scores_dt_f = cross_val_score(model_dt_f, X_train1, y_train1, cv=10, scoring='f1')"
      ],
      "metadata": {
        "id": "QxJPr4XBbmjy"
      },
      "execution_count": null,
      "outputs": []
    },
    {
      "cell_type": "code",
      "source": [
        "print('Accuracy: ', acc_scores_dt_f.mean(), '\\nF1: ', f1_scores_dt_f.mean())"
      ],
      "metadata": {
        "colab": {
          "base_uri": "https://localhost:8080/"
        },
        "id": "tGMPOt90b0oH",
        "outputId": "ac13af8d-6c45-4e01-df75-867f55a3b053"
      },
      "execution_count": null,
      "outputs": [
        {
          "output_type": "stream",
          "name": "stdout",
          "text": [
            "Accuracy:  0.6196428571428572 \n",
            "F1:  0.5277777777777779\n"
          ]
        }
      ]
    },
    {
      "cell_type": "code",
      "source": [
        "cv = StratifiedKFold(n_splits=10)\n",
        "for (train, test), i in zip(cv.split(X_train1, y_train1), range(10)):\n",
        "    model_dt_f.fit(X_train1, y_train1)"
      ],
      "metadata": {
        "id": "xXOR5Cn4CIIx"
      },
      "execution_count": null,
      "outputs": []
    },
    {
      "cell_type": "code",
      "source": [
        "y_pred_dt_f = model_dt_f.predict(X_test1)\n",
        "\n",
        "accuracy_dt_f = accuracy_score(y_test1, y_pred_dt_f)\n",
        "f1_dt_f = f1_score(y_test1, y_pred_dt_f, average='weighted')\n",
        "print('Test accuracy: ', accuracy_dt_f, '\\nTest F1: ', f1_dt_f)"
      ],
      "metadata": {
        "id": "xi_QF0lCdYkd",
        "colab": {
          "base_uri": "https://localhost:8080/"
        },
        "outputId": "066778d1-e87d-484b-faf4-d95d68e0a128"
      },
      "execution_count": null,
      "outputs": [
        {
          "output_type": "stream",
          "name": "stdout",
          "text": [
            "Test accuracy:  0.6486486486486487 \n",
            "Test F1:  0.6181926607458522\n"
          ]
        }
      ]
    },
    {
      "cell_type": "markdown",
      "source": [
        "### Random Forest + features"
      ],
      "metadata": {
        "id": "2UQ2ufvHjDvL"
      }
    },
    {
      "cell_type": "code",
      "source": [
        "model_rf_f = RandomForestClassifier(n_estimators=827, criterion='entropy', max_depth=4)\n",
        "acc_scores_rf_f = cross_val_score(model_rf_f, X_train1, y_train1, cv=10)\n",
        "f1_scores_rf_f = cross_val_score(model_rf_f, X_train1, y_train1, cv=10, scoring='f1')"
      ],
      "metadata": {
        "id": "bciOrFINjDvN"
      },
      "execution_count": null,
      "outputs": []
    },
    {
      "cell_type": "code",
      "source": [
        "print('Accuracy: ', acc_scores_rf_f.mean(), '\\nF1: ', f1_scores_rf_f.mean())"
      ],
      "metadata": {
        "colab": {
          "base_uri": "https://localhost:8080/"
        },
        "outputId": "ad4273b6-5a36-497e-e61f-ea1982c29286",
        "id": "KwVEh59zjDvP"
      },
      "execution_count": null,
      "outputs": [
        {
          "output_type": "stream",
          "name": "stdout",
          "text": [
            "Accuracy:  0.6964285714285714 \n",
            "F1:  0.595\n"
          ]
        }
      ]
    },
    {
      "cell_type": "code",
      "source": [
        "cv = StratifiedKFold(n_splits=10)\n",
        "for (train, test), i in zip(cv.split(X_train1, y_train1), range(10)):\n",
        "    model_rf_f.fit(X_train1, y_train1)"
      ],
      "metadata": {
        "id": "WyVrW6sOF2ca"
      },
      "execution_count": null,
      "outputs": []
    },
    {
      "cell_type": "code",
      "source": [
        "y_pred_rf_f = model_rf_f.predict(X_test1)\n",
        "\n",
        "accuracy_rf_f = accuracy_score(y_test1, y_pred_rf_f)\n",
        "f1_rf_f = f1_score(y_test1, y_pred_rf_f, average='weighted')\n",
        "print('Test accuracy: ', accuracy_rf_f, '\\nTest F1: ', f1_rf_f)"
      ],
      "metadata": {
        "colab": {
          "base_uri": "https://localhost:8080/"
        },
        "outputId": "0f4b422f-449f-4893-e786-a33266cb05eb",
        "id": "wQtz0e9ZF2cc"
      },
      "execution_count": null,
      "outputs": [
        {
          "output_type": "stream",
          "name": "stdout",
          "text": [
            "Test accuracy:  0.7567567567567568 \n",
            "Test F1:  0.7564003564003563\n"
          ]
        }
      ]
    },
    {
      "cell_type": "code",
      "source": [],
      "metadata": {
        "id": "R8pwCiPosig5"
      },
      "execution_count": null,
      "outputs": []
    },
    {
      "cell_type": "markdown",
      "source": [
        "### Support Vector Machine + features"
      ],
      "metadata": {
        "id": "hmLJ1hFusisc"
      }
    },
    {
      "cell_type": "code",
      "source": [
        "model_svm_f = SVC(kernel='rbf', C=21.832, degree=6, gamma='scale')\n",
        "acc_scores_svm_f = cross_val_score(model_svm_f, X_train1, y_train1, cv=10)\n",
        "f1_scores_svm_f= cross_val_score(model_svm_f, X_train1, y_train1, cv=10, scoring='f1')"
      ],
      "metadata": {
        "id": "8SVsA9J0sise"
      },
      "execution_count": null,
      "outputs": []
    },
    {
      "cell_type": "code",
      "source": [
        "print('Accuracy: ', acc_scores_svm_f.mean(), '\\nF1: ', f1_scores_svm_f.mean())"
      ],
      "metadata": {
        "colab": {
          "base_uri": "https://localhost:8080/"
        },
        "outputId": "820a7239-bb4d-4fd2-edb6-f34eecfbab81",
        "id": "FWHxJNlusisf"
      },
      "execution_count": null,
      "outputs": [
        {
          "output_type": "stream",
          "name": "stdout",
          "text": [
            "Accuracy:  0.5874999999999999 \n",
            "F1:  0.5014285714285714\n"
          ]
        }
      ]
    },
    {
      "cell_type": "code",
      "source": [],
      "metadata": {
        "id": "15QgdQ0jssOK"
      },
      "execution_count": null,
      "outputs": []
    },
    {
      "cell_type": "code",
      "source": [
        "cv = StratifiedKFold(n_splits=10)\n",
        "for (train, test), i in zip(cv.split(X_train1, y_train1), range(10)):\n",
        "    model_svm_f.fit(X_train1, y_train1)"
      ],
      "metadata": {
        "id": "VTCzgF-TGv_C"
      },
      "execution_count": null,
      "outputs": []
    },
    {
      "cell_type": "code",
      "source": [
        "y_pred_svm_f = model_svm_f.predict(X_test1)\n",
        "\n",
        "accuracy_svm_f = accuracy_score(y_test1, y_pred_svm_f)\n",
        "f1_svm_f = f1_score(y_test1, y_pred_svm_f, average='weighted')\n",
        "print('Test accuracy: ', accuracy_svm_f, '\\nTest F1: ', f1_svm_f)"
      ],
      "metadata": {
        "colab": {
          "base_uri": "https://localhost:8080/"
        },
        "outputId": "31870249-61b0-4536-ec8e-3112dd580982",
        "id": "JPyg-oieGv_F"
      },
      "execution_count": null,
      "outputs": [
        {
          "output_type": "stream",
          "name": "stdout",
          "text": [
            "Test accuracy:  0.7837837837837838 \n",
            "Test F1:  0.7834676782045203\n"
          ]
        }
      ]
    },
    {
      "cell_type": "code",
      "source": [],
      "metadata": {
        "id": "2dhSpeQosymz"
      },
      "execution_count": null,
      "outputs": []
    },
    {
      "cell_type": "markdown",
      "source": [
        "### Extreme Gradient Boosting Trees"
      ],
      "metadata": {
        "id": "z5OkIJYTsyzZ"
      }
    },
    {
      "cell_type": "code",
      "source": [
        "model_xgb_f = XGBClassifier(n_estimators=421, max_depth=3, gamma=9.08, alpha=0.035)\n",
        "acc_scores_xgb_f = cross_val_score(model_xgb_f, X_train1, y_train1, cv=10)\n",
        "f1_scores_xgb_f = cross_val_score(model_xgb_f, X_train1, y_train1, cv=10, scoring='f1')"
      ],
      "metadata": {
        "id": "e6L3i9xQsyzb"
      },
      "execution_count": null,
      "outputs": []
    },
    {
      "cell_type": "code",
      "source": [
        "print('Accuracy: ', acc_scores_xgb_f.mean(), '\\nF1: ', f1_scores_xgb_f.mean())"
      ],
      "metadata": {
        "colab": {
          "base_uri": "https://localhost:8080/"
        },
        "outputId": "1e5d39a0-f77e-4ce0-c063-c1e2df397b8a",
        "id": "Zc736cf1syzc"
      },
      "execution_count": null,
      "outputs": [
        {
          "output_type": "stream",
          "name": "stdout",
          "text": [
            "Accuracy:  0.5071428571428571 \n",
            "F1:  0.0\n"
          ]
        }
      ]
    },
    {
      "cell_type": "code",
      "source": [],
      "metadata": {
        "id": "Zsgoz-VAtTyi"
      },
      "execution_count": null,
      "outputs": []
    },
    {
      "cell_type": "code",
      "source": [
        "cv = StratifiedKFold(n_splits=10)\n",
        "for (train, test), i in zip(cv.split(X_train1, y_train1), range(10)):\n",
        "    model_xgb_f.fit(X_train1, y_train1)"
      ],
      "metadata": {
        "id": "RFwuUz7KHBMo"
      },
      "execution_count": null,
      "outputs": []
    },
    {
      "cell_type": "code",
      "source": [
        "y_pred_xgb_f = model_xgb_f.predict(X_test1)\n",
        "\n",
        "accuracy_xgb_f = accuracy_score(y_test1, y_pred_xgb_f)\n",
        "f1_xgb_f = f1_score(y_test1, y_pred_xgb_f, average='weighted')\n",
        "print('Test accuracy: ', accuracy_xgb_f, '\\nTest F1: ', f1_xgb_f)"
      ],
      "metadata": {
        "colab": {
          "base_uri": "https://localhost:8080/"
        },
        "outputId": "8bbfb098-4a61-4948-f495-1b0cce97ebf4",
        "id": "toBR1Vh7HBMq"
      },
      "execution_count": null,
      "outputs": [
        {
          "output_type": "stream",
          "name": "stdout",
          "text": [
            "Test accuracy:  0.4864864864864865 \n",
            "Test F1:  0.3184275184275185\n"
          ]
        }
      ]
    },
    {
      "cell_type": "code",
      "source": [],
      "metadata": {
        "id": "hoq5NoaltpyN"
      },
      "execution_count": null,
      "outputs": []
    },
    {
      "cell_type": "markdown",
      "source": [
        "### Multilayer perceptron + features"
      ],
      "metadata": {
        "id": "3Ijy0Lkstp94"
      }
    },
    {
      "cell_type": "code",
      "source": [
        "model_mlp_f = MLPClassifier(hidden_layer_sizes=(35, 40, 20, 5), activation='relu', max_iter=1000)\n",
        "acc_scores_mlp_f = cross_val_score(model_mlp_f, X_train1, y_train1, cv=10)\n",
        "f1_scores_mlp_f = cross_val_score(model_mlp_f, X_train1, y_train1, cv=10, scoring='f1')"
      ],
      "metadata": {
        "colab": {
          "base_uri": "https://localhost:8080/"
        },
        "id": "5-WvPSGmtp95",
        "outputId": "aa9d4891-16ed-422a-86d8-caa625c92063"
      },
      "execution_count": null,
      "outputs": [
        {
          "output_type": "stream",
          "name": "stderr",
          "text": [
            "/usr/local/lib/python3.10/dist-packages/sklearn/neural_network/_multilayer_perceptron.py:686: ConvergenceWarning: Stochastic Optimizer: Maximum iterations (1000) reached and the optimization hasn't converged yet.\n",
            "  warnings.warn(\n",
            "/usr/local/lib/python3.10/dist-packages/sklearn/neural_network/_multilayer_perceptron.py:686: ConvergenceWarning: Stochastic Optimizer: Maximum iterations (1000) reached and the optimization hasn't converged yet.\n",
            "  warnings.warn(\n"
          ]
        }
      ]
    },
    {
      "cell_type": "code",
      "source": [
        "print('Accuracy: ', acc_scores_mlp_f.mean(), '\\nF1: ', f1_scores_mlp_f.mean())"
      ],
      "metadata": {
        "colab": {
          "base_uri": "https://localhost:8080/"
        },
        "outputId": "c13ae0a5-fb52-4349-b0d6-0692870b6ea1",
        "id": "zGTvPNuptp95"
      },
      "execution_count": null,
      "outputs": [
        {
          "output_type": "stream",
          "name": "stdout",
          "text": [
            "Accuracy:  0.575 \n",
            "F1:  0.40349206349206346\n"
          ]
        }
      ]
    },
    {
      "cell_type": "code",
      "source": [],
      "metadata": {
        "id": "f-iHSSo2LhOl"
      },
      "execution_count": null,
      "outputs": []
    },
    {
      "cell_type": "code",
      "source": [
        "cv = StratifiedKFold(n_splits=10)\n",
        "for (train, test), i in zip(cv.split(X_train1, y_train1), range(10)):\n",
        "    model_mlp_f.fit(X_train1, y_train1)"
      ],
      "metadata": {
        "colab": {
          "base_uri": "https://localhost:8080/"
        },
        "id": "IqYxJUnYHCLn",
        "outputId": "66943394-258c-4096-b9b5-0c420e47412a"
      },
      "execution_count": null,
      "outputs": [
        {
          "output_type": "stream",
          "name": "stderr",
          "text": [
            "/usr/local/lib/python3.10/dist-packages/sklearn/neural_network/_multilayer_perceptron.py:686: ConvergenceWarning: Stochastic Optimizer: Maximum iterations (1000) reached and the optimization hasn't converged yet.\n",
            "  warnings.warn(\n",
            "/usr/local/lib/python3.10/dist-packages/sklearn/neural_network/_multilayer_perceptron.py:686: ConvergenceWarning: Stochastic Optimizer: Maximum iterations (1000) reached and the optimization hasn't converged yet.\n",
            "  warnings.warn(\n"
          ]
        }
      ]
    },
    {
      "cell_type": "code",
      "source": [
        "y_pred_mlp_f = model_mlp_f.predict(X_test1)\n",
        "\n",
        "accuracy_mlp_f = accuracy_score(y_test1, y_pred_mlp_f)\n",
        "f1_mlp_f = f1_score(y_test1, y_pred_mlp_f, average='weighted')\n",
        "print('Test accuracy: ', accuracy_mlp_f, '\\nTest F1: ', f1_mlp_f)"
      ],
      "metadata": {
        "colab": {
          "base_uri": "https://localhost:8080/"
        },
        "outputId": "10dfe312-a311-41bd-81a8-07fd413c8f71",
        "id": "3pQzNoi3HCLp"
      },
      "execution_count": null,
      "outputs": [
        {
          "output_type": "stream",
          "name": "stdout",
          "text": [
            "Test accuracy:  0.7837837837837838 \n",
            "Test F1:  0.7828298887122417\n"
          ]
        }
      ]
    },
    {
      "cell_type": "code",
      "source": [],
      "metadata": {
        "id": "b1DfdyJfLhTX"
      },
      "execution_count": null,
      "outputs": []
    }
  ],
  "metadata": {
    "kernelspec": {
      "display_name": "Python 3",
      "language": "python",
      "name": "python3"
    },
    "language_info": {
      "codemirror_mode": {
        "name": "ipython",
        "version": 3
      },
      "file_extension": ".py",
      "mimetype": "text/x-python",
      "name": "python",
      "nbconvert_exporter": "python",
      "pygments_lexer": "ipython3",
      "version": "3.8.5"
    },
    "colab": {
      "provenance": []
    }
  },
  "nbformat": 4,
  "nbformat_minor": 0
}